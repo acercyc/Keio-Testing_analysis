{
 "cells": [
  {
   "cell_type": "code",
   "execution_count": 1,
   "metadata": {},
   "outputs": [],
   "source": [
    "import utils\n",
    "import torch\n",
    "import numpy as np\n",
    "\n",
    "\n"
   ]
  },
  {
   "cell_type": "code",
   "execution_count": 2,
   "metadata": {},
   "outputs": [
    {
     "data": {
      "text/plain": [
       "<module 'utils' from '/home/acercyc/projects/Keio Testing_analysis/src/utils.py'>"
      ]
     },
     "execution_count": 2,
     "metadata": {},
     "output_type": "execute_result"
    }
   ],
   "source": [
    "import importlib\n",
    "importlib.reload(utils)\n"
   ]
  },
  {
   "cell_type": "code",
   "execution_count": 3,
   "metadata": {},
   "outputs": [],
   "source": [
    "subj = 'K-Reg-H-25'\n",
    "task = utils.ExpInfo.taskName[2]\n"
   ]
  },
  {
   "cell_type": "code",
   "execution_count": 5,
   "metadata": {},
   "outputs": [],
   "source": [
    "df = utils.LoadData.behaviorData(subj, task)"
   ]
  },
  {
   "cell_type": "code",
   "execution_count": 8,
   "metadata": {},
   "outputs": [],
   "source": [
    "X, _= utils.LoadData.mouseMovement_array(subj, task)"
   ]
  },
  {
   "cell_type": "code",
   "execution_count": null,
   "metadata": {},
   "outputs": [],
   "source": [
    "x = X[6]\n",
    "utils.Plot.traj_withColour(x[:,0], x[:,1])"
   ]
  },
  {
   "cell_type": "code",
   "execution_count": 18,
   "metadata": {},
   "outputs": [
    {
     "name": "stdout",
     "output_type": "stream",
     "text": [
      "K-Reg-H-10_three_dot_xhy_disp.npz saved\n"
     ]
    }
   ],
   "source": [
    "for subj in subjs[0:1]:\n",
    "    model = utils.Model.load(subj, 'one_dot', path='TrajNet_train_onUse').eval().cuda()\n",
    "    motor, d = utils.LoadData.mouseMovement_array(subj, task, velocity=True)\n",
    "\n",
    "    X = []\n",
    "    H = []\n",
    "    Y = []\n",
    "    for x in d[0:2]:\n",
    "        x = utils.DataProcessing.rollingWindow(x, wSize, 1)\n",
    "        X_ = []\n",
    "        H_ = []\n",
    "        Y_ = []\n",
    "        \n",
    "        for i in range(3):\n",
    "            x_ = x[:, :, i*2:i*2+2]\n",
    "            x_ = torch.from_numpy(x_).double().cuda()\n",
    "            y = model(x_)\n",
    "            X_.append(x_.detach().cpu().numpy())\n",
    "            H_.append(model.model.x_hidden.detach().cpu().numpy())\n",
    "            Y_.append(y.detach().cpu().numpy())\n",
    "        X.append(np.array(X_, dtype=object))\n",
    "        H.append(np.array(H_, dtype=object))\n",
    "        Y.append(np.array(Y_, dtype=object))\n",
    "        \n",
    "        \n",
    "            \n",
    "    X = np.array(X, dtype=object)\n",
    "    H = np.array(H, dtype=object)\n",
    "    Y = np.array(Y, dtype=object)\n",
    "\n",
    "    savepath_ = savepath / f'{subj}_{task}_xhy_disp.npz'\n",
    "    np.savez(str(savepath_), x=X, y=Y, h=H)\n",
    "    print(f'{subj}_{task}_xhy_disp.npz saved')\n"
   ]
  },
  {
   "cell_type": "code",
   "execution_count": 15,
   "metadata": {},
   "outputs": [
    {
     "data": {
      "text/plain": [
       "(3, 240, 60, 2)"
      ]
     },
     "execution_count": 15,
     "metadata": {},
     "output_type": "execute_result"
    }
   ],
   "source": [
    "X[0].shape"
   ]
  }
 ],
 "metadata": {
  "kernelspec": {
   "display_name": "Python 3.8.13 ('py38')",
   "language": "python",
   "name": "python3"
  },
  "language_info": {
   "codemirror_mode": {
    "name": "ipython",
    "version": 3
   },
   "file_extension": ".py",
   "mimetype": "text/x-python",
   "name": "python",
   "nbconvert_exporter": "python",
   "pygments_lexer": "ipython3",
   "version": "3.8.13"
  },
  "orig_nbformat": 4,
  "vscode": {
   "interpreter": {
    "hash": "c38880c0b251f16d71f4d18036765822673f8ed835e0120528c8cebbbd5836f8"
   }
  }
 },
 "nbformat": 4,
 "nbformat_minor": 2
}

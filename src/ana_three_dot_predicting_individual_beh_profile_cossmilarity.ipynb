{
 "cells": [
  {
   "cell_type": "code",
   "execution_count": null,
   "metadata": {},
   "outputs": [],
   "source": [
    "\n",
    "import numpy as np\n",
    "import pandas as pd\n",
    "\n",
    "import utils\n",
    "from sklearn.metrics.pairwise import paired_distances\n",
    "\n",
    "import matplotlib.pyplot as plt\n",
    "import seaborn as sns \n",
    "\n"
   ]
  },
  {
   "cell_type": "code",
   "execution_count": null,
   "metadata": {},
   "outputs": [],
   "source": [
    "import pandas as pd\n",
    "import matplotlib.pyplot as plt\n",
    "import matplotlib as mpl\n",
    "import plotnine as pn\n",
    "\n",
    "from sklearn.metrics.pairwise import cosine_similarity, paired_distances\n",
    "from sklearn.preprocessing import StandardScaler, scale\n",
    "from scipy.spatial import distance\n",
    "\n",
    "from einops import rearrange, reduce, repeat\n"
   ]
  },
  {
   "cell_type": "code",
   "execution_count": 42,
   "metadata": {},
   "outputs": [
    {
     "data": {
      "text/plain": [
       "<module 'utils' from '/home/acercyc/Project/Keio Testing_analysis/src/utils.py'>"
      ]
     },
     "execution_count": 42,
     "metadata": {},
     "output_type": "execute_result"
    }
   ],
   "source": [
    "import importlib\n",
    "importlib.reload(utils)\n"
   ]
  },
  {
   "cell_type": "code",
   "execution_count": 44,
   "metadata": {},
   "outputs": [],
   "source": [
    "subjs = utils.ExpInfo.getSubjIDs()\n",
    "task = utils.ExpInfo.taskName[1]"
   ]
  },
  {
   "cell_type": "markdown",
   "metadata": {},
   "source": [
    "# Position and velocity of action plan space can predict the behavior profile of an individual"
   ]
  },
  {
   "cell_type": "code",
   "execution_count": 45,
   "metadata": {},
   "outputs": [
    {
     "name": "stdout",
     "output_type": "stream",
     "text": [
      "Group loop |████████████████████████████████████████| 50/50 [100%] in 14.6s (3.40/s)                                    \n"
     ]
    }
   ],
   "source": [
    "\n",
    "# subj = subjs[14]\n",
    "def f_group(subj):\n",
    "    wSize = 60\n",
    "\n",
    "    df_beh = utils.LoadData.behaviorData(subj, task)\n",
    "    # _, h, _ = utils.LoadData.xhy(subj, task, wSize=wSize)\n",
    "    # _, h_disp, _ = utils.LoadData.xhy_disp(subj, task, wSize=wSize)\n",
    "    h, h_disp = utils.LoadData.mouseMovement_array(subj, task, velocity=True, packDot=True)\n",
    "    dist_measure = 'cosine'\n",
    "\n",
    "\n",
    "    def trial(iTrial):\n",
    "        # extract data\n",
    "        h_trial = h[iTrial]\n",
    "        h_disp_trial = h_disp[iTrial]\n",
    "\n",
    "        # hidden action plan velocity\n",
    "        vh = np.diff(h_trial, axis=0)\n",
    "\n",
    "        # dot loop\n",
    "        dist_timeSeries = []\n",
    "        v_timeSeries = []\n",
    "        for h_disp_dot in h_disp_trial:\n",
    "            # location distnace\n",
    "            dist_timeSeries_ = paired_distances(\n",
    "                h_trial, h_disp_dot, metric=dist_measure)\n",
    "            dist_timeSeries.append(dist_timeSeries_)\n",
    "\n",
    "            # velocity difference\n",
    "            vh_disp_dot = np.diff(h_disp_dot, axis=0)\n",
    "            v_timeSeries_ = paired_distances(vh, vh_disp_dot, metric=dist_measure)\n",
    "            v_timeSeries.append(v_timeSeries_)\n",
    "\n",
    "        dist_timeSeries = np.vstack(dist_timeSeries).T\n",
    "        v_timeSeries = np.vstack(v_timeSeries).T\n",
    "\n",
    "        # compute AUC for position and velocoty \n",
    "        auc_h = utils.Analysis.auc_oneVsOthers(dist_timeSeries)\n",
    "        auc_v = utils.Analysis.auc_oneVsOthers(v_timeSeries)\n",
    "        auc = np.vstack([auc_h, auc_v])\n",
    "        auc_max = utils.findMax(auc)\n",
    "\n",
    "        # compute emprical probability of shortist dot \n",
    "        argmin_ratio_h = utils.Analysis.argmin_ratio(dist_timeSeries)\n",
    "        argmin_ratio_v = utils.Analysis.argmin_ratio(v_timeSeries)\n",
    "        argmin_ratio = np.vstack([argmin_ratio_h, argmin_ratio_v])\n",
    "        argmin_ratio_max = utils.findMax(argmin_ratio)\n",
    "        \n",
    "        \n",
    "        # compute top N ratio\n",
    "        topN_h = utils.Analysis.class_in_topN(dist_timeSeries)\n",
    "        topN_v = utils.Analysis.class_in_topN(v_timeSeries)\n",
    "        topN = np.vstack([topN_h, topN_v])\n",
    "        topN_max = utils.findMax(topN)\n",
    "        \n",
    "        \n",
    "\n",
    "        return {'auc_max': auc_max[0],\n",
    "                'auc_prediction': auc_max[1][1]+1,\n",
    "                'auc_max_type': auc_max[1][0],\n",
    "                'auc_prediction_h': np.argmax(auc_h) + 1,\n",
    "                'auc_prediction_v': np.argmax(auc_v) + 1,\n",
    "                'argmin_ratio_max': argmin_ratio_max[0],\n",
    "                'argmin_ratio_prediction': argmin_ratio_max[1][1]+1,\n",
    "                'argmin_ratio_type': argmin_ratio_max[1][0],\n",
    "                'topN_max': topN_max[0],\n",
    "                'topN_prediction': topN_max[1][1]+1,\n",
    "                'topN_type': topN_max[1][0]}\n",
    "\n",
    "\n",
    "\n",
    "\n",
    "    d = utils.GroupOperation.map_trial(trial, range(len(h)))\n",
    "\n",
    "\n",
    "    df_ = pd.concat([df_beh, pd.DataFrame(d)], axis=1)\n",
    "    df_['auc_pred_accuracy'] = df_['auc_prediction'] == df_['selected dot']\n",
    "    df_['auc_pred_accuracy_h'] = df_['auc_prediction_h'] == df_['selected dot']\n",
    "    df_['auc_pred_accuracy_v'] = df_['auc_prediction_v'] == df_['selected dot']\n",
    "    df_['auc_pred_accuracy_target'] = df_['auc_prediction'] == df_['target dot']\n",
    "    df_['auc_pred_accuracy_target_h'] = df_['auc_prediction_h'] == df_['target dot']\n",
    "    df_['auc_pred_accuracy_target_v'] = df_['auc_prediction_v'] == df_['target dot']\n",
    "    df_['argmin_ratio_pred_accuracy'] = df_['argmin_ratio_prediction'] == df_['selected dot']\n",
    "    df_['argmin_ratio_pred_accuracy_target'] = df_['argmin_ratio_prediction'] == df_['target dot']\n",
    "    df_['topN_pred_accuracy'] = df_['topN_prediction'] == df_['selected dot']\n",
    "    df_['topN_pred_accuracy_target'] = df_['topN_prediction'] == df_['target dot']\n",
    "    # df_ = df_.groupby(['actual control', 'angular bias']).mean()\n",
    "    # df_ = df_.reset_index()\n",
    "    \n",
    "    return df_\n",
    "\n",
    "dg = utils.GroupOperation.map(f_group, subjs)\n",
    "df = pd.concat(dg, axis=0)\n"
   ]
  },
  {
   "cell_type": "code",
   "execution_count": 46,
   "metadata": {},
   "outputs": [],
   "source": [
    "# Save file\n",
    "fn = utils.Save.savepath('ana_three_dot_predicting_individual_beh_profile_cossmilarity', 'prediction.csv')\n",
    "df.to_csv(fn, index=False)"
   ]
  },
  {
   "cell_type": "markdown",
   "metadata": {},
   "source": [
    "# Plot"
   ]
  },
  {
   "cell_type": "code",
   "execution_count": 48,
   "metadata": {},
   "outputs": [
    {
     "data": {
      "text/plain": [
       "<seaborn.axisgrid.FacetGrid at 0x7f244f4a9780>"
      ]
     },
     "execution_count": 48,
     "metadata": {},
     "output_type": "execute_result"
    },
    {
     "data": {
      "text/plain": [
       "<Figure size 640x480 with 0 Axes>"
      ]
     },
     "metadata": {},
     "output_type": "display_data"
    },
    {
     "data": {
      "image/png": "[encoded data removed]",
      "text/plain": [
       "<Figure size 1097.24x500 with 2 Axes>"
      ]
     },
     "metadata": {},
     "output_type": "display_data"
    }
   ],
   "source": [
    "df_ = df.copy()\n",
    "df_ = df_[['participant', 'actual control', 'angular bias', 'auc_pred_accuracy_target', 'group']]\n",
    "df_ = df_.groupby(['participant', 'actual control', 'angular bias', 'group']).mean()\n",
    "df_ = df_.reset_index()\n",
    "\n",
    "# grid = sns.FacetGrid(col='participant', col_wrap=5, data=df_)\n",
    "# grid.map_dataframe(sns.pointplot, \n",
    "#                    x='actual control', \n",
    "#                    y='auc_pred_accuracy_target', \n",
    "#                    hue='angular bias')\n",
    "# grid.add_legend()\n",
    "\n",
    "\n",
    "plt.figure()\n",
    "sns.catplot(x='actual control', y='auc_pred_accuracy_target', hue='angular bias', data=df_, col='group', kind='point')\n"
   ]
  },
  {
   "cell_type": "markdown",
   "metadata": {},
   "source": [
    "# Predicting choises"
   ]
  }
 ],
 "metadata": {
  "kernelspec": {
   "display_name": "py310",
   "language": "python",
   "name": "python3"
  },
  "language_info": {
   "codemirror_mode": {
    "name": "ipython",
    "version": 3
   },
   "file_extension": ".py",
   "mimetype": "text/x-python",
   "name": "python",
   "nbconvert_exporter": "python",
   "pygments_lexer": "ipython3",
   "version": "3.10.9"
  },
  "orig_nbformat": 4,
  "vscode": {
   "interpreter": {
    "hash": "0bfe45cfa5af8caecc1324233dd1bb80b7f37bc486d77a1e494b9aae421ca5f7"
   }
  }
 },
 "nbformat": 4,
 "nbformat_minor": 2
}

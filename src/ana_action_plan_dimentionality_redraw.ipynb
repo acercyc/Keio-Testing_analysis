{
 "cells": [
  {
   "cell_type": "code",
   "execution_count": 4,
   "metadata": {},
   "outputs": [],
   "source": [
    "import numpy as np\n",
    "import pandas as pd\n",
    "import statsmodels.api as sm\n",
    "import scipy.stats\n",
    "\n",
    "import utils\n",
    "import seaborn as sns \n",
    "import plotnine as pn\n",
    "from sklearn.preprocessing import StandardScaler, scale\n"
   ]
  },
  {
   "cell_type": "code",
   "execution_count": 5,
   "metadata": {},
   "outputs": [
    {
     "data": {
      "text/plain": [
       "<module 'utils' from '/home/acercyc/Project/Keio Testing_analysis/src/utils.py'>"
      ]
     },
     "execution_count": 5,
     "metadata": {},
     "output_type": "execute_result"
    }
   ],
   "source": [
    "import importlib\n",
    "importlib.reload(utils)\n"
   ]
  },
  {
   "attachments": {},
   "cell_type": "markdown",
   "metadata": {},
   "source": [
    "# Measuring dimensionality "
   ]
  },
  {
   "cell_type": "code",
   "execution_count": 3,
   "metadata": {},
   "outputs": [
    {
     "name": "stdout",
     "output_type": "stream",
     "text": [
      "Group loop |████████████████████████████████████████| 50/50 [100%] in 9.2s (5.40/s)                                     \n"
     ]
    }
   ],
   "source": [
    "subjs = utils.ExpInfo.getSubjIDs()\n",
    "task = utils.ExpInfo.taskName[0]\n",
    "\n",
    "# compute dimensionality \n",
    "def add_dim(subj, task):\n",
    "    df = utils.LoadData.behaviorData(subj, task)\n",
    "    x, h, y = utils.LoadData.xhy(subj, task)\n",
    "    dims = []\n",
    "    for h_ in h:\n",
    "        h_ = scale(h_, axis=0)\n",
    "        dims.append(utils.Analysis.dim_measure(h_))\n",
    "    df_ = df\n",
    "    df_['dim'] = dims\n",
    "    return df_\n",
    "    \n",
    "df_all = utils.GroupOperation.map(add_dim, subjs, task)\n",
    "df_all = pd.concat(df_all, axis=0)\n"
   ]
  },
  {
   "cell_type": "code",
   "execution_count": 6,
   "metadata": {},
   "outputs": [],
   "source": [
    "filename = utils.Save.savepath('ana_action_plan_dimentionality_redraw', 'one_dot_dim.csv')\n",
    "df_all.to_csv(filename, index=False)"
   ]
  },
  {
   "cell_type": "code",
   "execution_count": 6,
   "metadata": {},
   "outputs": [
    {
     "name": "stdout",
     "output_type": "stream",
     "text": [
      "Group loop |████████████████████████████████████████| 50/50 [100%] in 10.6s (4.64/s)                                    \n"
     ]
    }
   ],
   "source": [
    "subjs = utils.ExpInfo.getSubjIDs()\n",
    "task = utils.ExpInfo.taskName[1]\n",
    "\n",
    "# compute dimensionality \n",
    "def add_dim(subj, task):\n",
    "    df = utils.LoadData.behaviorData(subj, task)\n",
    "    x, h, y = utils.LoadData.xhy(subj, task)\n",
    "    dims = []\n",
    "    for h_ in h:\n",
    "        h_ = scale(h_, axis=0)\n",
    "        dims.append(utils.Analysis.dim_measure(h_))\n",
    "    df_ = df\n",
    "    df_['dim'] = dims\n",
    "    return df_\n",
    "    \n",
    "df_all = utils.GroupOperation.map(add_dim, subjs, task)\n",
    "df_all = pd.concat(df_all, axis=0)\n"
   ]
  },
  {
   "cell_type": "code",
   "execution_count": null,
   "metadata": {},
   "outputs": [],
   "source": [
    "filename = utils.Save.savepath('ana_action_plan_dimentionality_redraw', 'three_dot_dim.csv')\n",
    "df_all.to_csv(filename, index=False)"
   ]
  },
  {
   "cell_type": "code",
   "execution_count": 2,
   "metadata": {},
   "outputs": [
    {
     "ename": "NameError",
     "evalue": "name 'utils' is not defined",
     "output_type": "error",
     "traceback": [
      "\u001b[0;31m---------------------------------------------------------------------------\u001b[0m",
      "\u001b[0;31mNameError\u001b[0m                                 Traceback (most recent call last)",
      "\u001b[0;32m/tmp/ipykernel_16576/3656656637.py\u001b[0m in \u001b[0;36m<module>\u001b[0;34m\u001b[0m\n\u001b[0;32m----> 1\u001b[0;31m \u001b[0mfilename\u001b[0m \u001b[0;34m=\u001b[0m \u001b[0mutils\u001b[0m\u001b[0;34m.\u001b[0m\u001b[0mSave\u001b[0m\u001b[0;34m.\u001b[0m\u001b[0msavepath\u001b[0m\u001b[0;34m(\u001b[0m\u001b[0;34m'ana_action_plan_dimentionality_redraw'\u001b[0m\u001b[0;34m,\u001b[0m \u001b[0;34m'one_dot_dim.csv'\u001b[0m\u001b[0;34m)\u001b[0m\u001b[0;34m\u001b[0m\u001b[0;34m\u001b[0m\u001b[0m\n\u001b[0m\u001b[1;32m      2\u001b[0m \u001b[0mdf_all\u001b[0m \u001b[0;34m=\u001b[0m \u001b[0mpd\u001b[0m\u001b[0;34m.\u001b[0m\u001b[0mread_csv\u001b[0m\u001b[0;34m(\u001b[0m\u001b[0mfilename\u001b[0m\u001b[0;34m)\u001b[0m\u001b[0;34m\u001b[0m\u001b[0;34m\u001b[0m\u001b[0m\n\u001b[1;32m      3\u001b[0m \u001b[0;34m\u001b[0m\u001b[0m\n\u001b[1;32m      4\u001b[0m \u001b[0mdf_all_group\u001b[0m \u001b[0;34m=\u001b[0m \u001b[0mdf_all_\u001b[0m\u001b[0;34m.\u001b[0m\u001b[0mcopy\u001b[0m\u001b[0;34m(\u001b[0m\u001b[0;34m)\u001b[0m\u001b[0;34m\u001b[0m\u001b[0;34m\u001b[0m\u001b[0m\n\u001b[1;32m      5\u001b[0m \u001b[0mdf_all_group\u001b[0m \u001b[0;34m=\u001b[0m \u001b[0mdf_all_group\u001b[0m\u001b[0;34m.\u001b[0m\u001b[0mdrop\u001b[0m\u001b[0;34m(\u001b[0m\u001b[0;34m[\u001b[0m\u001b[0;34m'trial no.'\u001b[0m\u001b[0;34m,\u001b[0m \u001b[0;34m'response'\u001b[0m\u001b[0;34m]\u001b[0m\u001b[0;34m,\u001b[0m \u001b[0maxis\u001b[0m\u001b[0;34m=\u001b[0m\u001b[0;36m1\u001b[0m\u001b[0;34m)\u001b[0m\u001b[0;34m\u001b[0m\u001b[0;34m\u001b[0m\u001b[0m\n",
      "\u001b[0;31mNameError\u001b[0m: name 'utils' is not defined"
     ]
    }
   ],
   "source": [
    "filename = utils.Save.savepath('ana_action_plan_dimentionality_redraw', 'one_dot_dim.csv')\n",
    "df_all = pd.read_csv(filename)\n",
    "\n",
    "df_all_group = df_all_.copy()\n",
    "df_all_group = df_all_group.drop(['trial no.', 'response'], axis=1)\n",
    "df_all_group = df_all_group.groupby(['group', 'participant', 'actual control', 'angular bias'])\n",
    "df_all_group = df_all_group.mean().reset_index()\n"
   ]
  },
  {
   "cell_type": "code",
   "execution_count": 7,
   "metadata": {},
   "outputs": [
    {
     "data": {
      "text/html": [
       "<div>\n",
       "<style scoped>\n",
       "    .dataframe tbody tr th:only-of-type {\n",
       "        vertical-align: middle;\n",
       "    }\n",
       "\n",
       "    .dataframe tbody tr th {\n",
       "        vertical-align: top;\n",
       "    }\n",
       "\n",
       "    .dataframe thead th {\n",
       "        text-align: right;\n",
       "    }\n",
       "</style>\n",
       "<table border=\"1\" class=\"dataframe\">\n",
       "  <thead>\n",
       "    <tr style=\"text-align: right;\">\n",
       "      <th></th>\n",
       "      <th>participant</th>\n",
       "      <th>trial no.</th>\n",
       "      <th>actual control</th>\n",
       "      <th>angular bias</th>\n",
       "      <th>response</th>\n",
       "      <th>dim</th>\n",
       "    </tr>\n",
       "  </thead>\n",
       "  <tbody>\n",
       "    <tr>\n",
       "      <th>0</th>\n",
       "      <td>K-Reg-H-10</td>\n",
       "      <td>1</td>\n",
       "      <td>0.30</td>\n",
       "      <td>0</td>\n",
       "      <td>0</td>\n",
       "      <td>0.264689</td>\n",
       "    </tr>\n",
       "    <tr>\n",
       "      <th>1</th>\n",
       "      <td>K-Reg-H-10</td>\n",
       "      <td>2</td>\n",
       "      <td>0.80</td>\n",
       "      <td>0</td>\n",
       "      <td>1</td>\n",
       "      <td>0.195716</td>\n",
       "    </tr>\n",
       "    <tr>\n",
       "      <th>2</th>\n",
       "      <td>K-Reg-H-10</td>\n",
       "      <td>3</td>\n",
       "      <td>0.30</td>\n",
       "      <td>0</td>\n",
       "      <td>0</td>\n",
       "      <td>0.239894</td>\n",
       "    </tr>\n",
       "    <tr>\n",
       "      <th>3</th>\n",
       "      <td>K-Reg-H-10</td>\n",
       "      <td>4</td>\n",
       "      <td>0.55</td>\n",
       "      <td>90</td>\n",
       "      <td>0</td>\n",
       "      <td>0.237551</td>\n",
       "    </tr>\n",
       "    <tr>\n",
       "      <th>4</th>\n",
       "      <td>K-Reg-H-10</td>\n",
       "      <td>5</td>\n",
       "      <td>0.30</td>\n",
       "      <td>90</td>\n",
       "      <td>0</td>\n",
       "      <td>0.249905</td>\n",
       "    </tr>\n",
       "  </tbody>\n",
       "</table>\n",
       "</div>"
      ],
      "text/plain": [
       "  participant  trial no.  actual control  angular bias  response       dim\n",
       "0  K-Reg-H-10          1            0.30             0         0  0.264689\n",
       "1  K-Reg-H-10          2            0.80             0         1  0.195716\n",
       "2  K-Reg-H-10          3            0.30             0         0  0.239894\n",
       "3  K-Reg-H-10          4            0.55            90         0  0.237551\n",
       "4  K-Reg-H-10          5            0.30            90         0  0.249905"
      ]
     },
     "execution_count": 7,
     "metadata": {},
     "output_type": "execute_result"
    }
   ],
   "source": [
    "df_all_.head()"
   ]
  },
  {
   "cell_type": "code",
   "execution_count": 105,
   "metadata": {},
   "outputs": [
    {
     "data": {
      "text/plain": [
       "<seaborn.axisgrid.FacetGrid at 0x7f887181be80>"
      ]
     },
     "execution_count": 105,
     "metadata": {},
     "output_type": "execute_result"
    },
    {
     "data": {
      "image/png": "[encoded data removed]",
      "text/plain": [
       "<Figure size 790x360 with 2 Axes>"
      ]
     },
     "metadata": {
      "needs_background": "light"
     },
     "output_type": "display_data"
    }
   ],
   "source": [
    "df_all_group = df_all_.copy()\n",
    "df_all_group = df_all_group.drop(['trial no.', 'response'], axis=1)\n",
    "df_all_group = df_all_group.groupby(['group', 'participant', 'actual control', 'angular bias'])\n",
    "df_all_group = df_all_group.mean().reset_index()\n",
    "# df_all_group = df_all_group.groupby()\n",
    "# df_all_group.\n",
    "sns.catplot(x='actual control', y='dim', hue='angular bias', data=df_all_group, col='group', kind='point')\n",
    "# sns.catplot(x='actual control', y='nSeg', hue='angular bias', data=df_nap_, kind='point', col='group')"
   ]
  },
  {
   "cell_type": "code",
   "execution_count": 78,
   "metadata": {},
   "outputs": [
    {
     "data": {
      "text/html": [
       "<div>\n",
       "<style scoped>\n",
       "    .dataframe tbody tr th:only-of-type {\n",
       "        vertical-align: middle;\n",
       "    }\n",
       "\n",
       "    .dataframe tbody tr th {\n",
       "        vertical-align: top;\n",
       "    }\n",
       "\n",
       "    .dataframe thead th {\n",
       "        text-align: right;\n",
       "    }\n",
       "</style>\n",
       "<table border=\"1\" class=\"dataframe\">\n",
       "  <thead>\n",
       "    <tr style=\"text-align: right;\">\n",
       "      <th></th>\n",
       "      <th>group</th>\n",
       "      <th>participant</th>\n",
       "      <th>actual control</th>\n",
       "      <th>angular bias</th>\n",
       "      <th>dimmean</th>\n",
       "      <th>dimstd</th>\n",
       "    </tr>\n",
       "  </thead>\n",
       "  <tbody>\n",
       "    <tr>\n",
       "      <th>0</th>\n",
       "      <td>H</td>\n",
       "      <td>K-Reg-H-10</td>\n",
       "      <td>0.30</td>\n",
       "      <td>0</td>\n",
       "      <td>0.238775</td>\n",
       "      <td>0.038806</td>\n",
       "    </tr>\n",
       "    <tr>\n",
       "      <th>1</th>\n",
       "      <td>H</td>\n",
       "      <td>K-Reg-H-10</td>\n",
       "      <td>0.30</td>\n",
       "      <td>90</td>\n",
       "      <td>0.265718</td>\n",
       "      <td>0.039986</td>\n",
       "    </tr>\n",
       "    <tr>\n",
       "      <th>2</th>\n",
       "      <td>H</td>\n",
       "      <td>K-Reg-H-10</td>\n",
       "      <td>0.55</td>\n",
       "      <td>0</td>\n",
       "      <td>0.220302</td>\n",
       "      <td>0.017047</td>\n",
       "    </tr>\n",
       "    <tr>\n",
       "      <th>3</th>\n",
       "      <td>H</td>\n",
       "      <td>K-Reg-H-10</td>\n",
       "      <td>0.55</td>\n",
       "      <td>90</td>\n",
       "      <td>0.290689</td>\n",
       "      <td>0.048756</td>\n",
       "    </tr>\n",
       "    <tr>\n",
       "      <th>4</th>\n",
       "      <td>H</td>\n",
       "      <td>K-Reg-H-10</td>\n",
       "      <td>0.80</td>\n",
       "      <td>0</td>\n",
       "      <td>0.229982</td>\n",
       "      <td>0.029701</td>\n",
       "    </tr>\n",
       "    <tr>\n",
       "      <th>...</th>\n",
       "      <td>...</td>\n",
       "      <td>...</td>\n",
       "      <td>...</td>\n",
       "      <td>...</td>\n",
       "      <td>...</td>\n",
       "      <td>...</td>\n",
       "    </tr>\n",
       "    <tr>\n",
       "      <th>295</th>\n",
       "      <td>S</td>\n",
       "      <td>Reg-S-5</td>\n",
       "      <td>0.30</td>\n",
       "      <td>90</td>\n",
       "      <td>0.332415</td>\n",
       "      <td>0.084333</td>\n",
       "    </tr>\n",
       "    <tr>\n",
       "      <th>296</th>\n",
       "      <td>S</td>\n",
       "      <td>Reg-S-5</td>\n",
       "      <td>0.55</td>\n",
       "      <td>0</td>\n",
       "      <td>0.258351</td>\n",
       "      <td>0.039677</td>\n",
       "    </tr>\n",
       "    <tr>\n",
       "      <th>297</th>\n",
       "      <td>S</td>\n",
       "      <td>Reg-S-5</td>\n",
       "      <td>0.55</td>\n",
       "      <td>90</td>\n",
       "      <td>0.293828</td>\n",
       "      <td>0.072613</td>\n",
       "    </tr>\n",
       "    <tr>\n",
       "      <th>298</th>\n",
       "      <td>S</td>\n",
       "      <td>Reg-S-5</td>\n",
       "      <td>0.80</td>\n",
       "      <td>0</td>\n",
       "      <td>0.231179</td>\n",
       "      <td>0.019622</td>\n",
       "    </tr>\n",
       "    <tr>\n",
       "      <th>299</th>\n",
       "      <td>S</td>\n",
       "      <td>Reg-S-5</td>\n",
       "      <td>0.80</td>\n",
       "      <td>90</td>\n",
       "      <td>0.321109</td>\n",
       "      <td>0.042405</td>\n",
       "    </tr>\n",
       "  </tbody>\n",
       "</table>\n",
       "<p>300 rows × 6 columns</p>\n",
       "</div>"
      ],
      "text/plain": [
       "    group participant  actual control  angular bias   dimmean    dimstd\n",
       "0       H  K-Reg-H-10            0.30             0  0.238775  0.038806\n",
       "1       H  K-Reg-H-10            0.30            90  0.265718  0.039986\n",
       "2       H  K-Reg-H-10            0.55             0  0.220302  0.017047\n",
       "3       H  K-Reg-H-10            0.55            90  0.290689  0.048756\n",
       "4       H  K-Reg-H-10            0.80             0  0.229982  0.029701\n",
       "..    ...         ...             ...           ...       ...       ...\n",
       "295     S     Reg-S-5            0.30            90  0.332415  0.084333\n",
       "296     S     Reg-S-5            0.55             0  0.258351  0.039677\n",
       "297     S     Reg-S-5            0.55            90  0.293828  0.072613\n",
       "298     S     Reg-S-5            0.80             0  0.231179  0.019622\n",
       "299     S     Reg-S-5            0.80            90  0.321109  0.042405\n",
       "\n",
       "[300 rows x 6 columns]"
      ]
     },
     "execution_count": 78,
     "metadata": {},
     "output_type": "execute_result"
    }
   ],
   "source": [
    "df_all_group = df_all_.copy()\n",
    "df_all_group = df_all_group.drop(['trial no.', 'response'], axis=1)\n",
    "df_all_group = df_all_group.groupby(['group', 'participant', 'actual control', 'angular bias'])\n",
    "df_all_group = df_all_group.agg(['mean', 'std']).reset_index()\n",
    "df_all_group.columns = df_all_group.columns.to_flat_index()\n",
    "df_all_group.columns = [''.join(c) for c in df_all_group.columns]\n",
    "df_all_group\n",
    "# df_all_group = df_all_group.groupby()\n",
    "# df_all_group.\n",
    "# sns.catplot(x='actual control', y='dim', hue='angular bias', data=df_all_group, col='group', kind='point')\n",
    "# sns.catplot(x='actual control', y='nSeg', hue='angular bias', data=df_nap_, kind='point', col='group')"
   ]
  },
  {
   "cell_type": "code",
   "execution_count": null,
   "metadata": {},
   "outputs": [],
   "source": [
    "# df_all_group.groupby()"
   ]
  },
  {
   "cell_type": "code",
   "execution_count": 131,
   "metadata": {},
   "outputs": [
    {
     "data": {
      "image/png": "[encoded data removed]",
      "text/plain": [
       "<Figure size 640x480 with 2 Axes>"
      ]
     },
     "metadata": {},
     "output_type": "display_data"
    },
    {
     "data": {
      "text/plain": [
       "<ggplot: (8763998817241)>"
      ]
     },
     "execution_count": 131,
     "metadata": {},
     "output_type": "execute_result"
    }
   ],
   "source": [
    "import plotnine as pn\n",
    "import plotnine_prism as pnp\n",
    "from scipy.stats import sem\n",
    "df_all_group_ = df_all_group.copy()\n",
    "df_all_group_['angular bias'] = pd.Categorical(df_all_group_['angular bias'])\n",
    "# df_all_group_['actual control'] = pd.Categorical(df_all_group_['actual control'])\n",
    "(pn.ggplot(df_all_group_, pn.aes(x='actual control', y='dim', color='angular bias')) + \n",
    " pn.stat_summary(geom='point', fun_y=np.mean, position=pn.position_dodge(width=0.1)) +\n",
    " pn.stat_summary(geom='line', fun_y=np.mean, position=pn.position_dodge(width=0.1)) +\n",
    " pn.stat_summary(geom='errorbar', fun_data = 'mean_se', width = 0.2, position=pn.position_dodge(width=0.1)) +\n",
    "#  pn.geom_line() + \n",
    "#  pn.geom_point() + \n",
    "#  pn.theme_gray() +\n",
    " pn.scale_x_continuous(breaks=[0.3, 0.55, 0.8], labels=['0.3', '0.55', '0.8'])+\n",
    " pn.facet_wrap('group') \n",
    ")"
   ]
  },
  {
   "cell_type": "code",
   "execution_count": 6,
   "metadata": {},
   "outputs": [
    {
     "data": {
      "text/html": [
       "<div>\n",
       "<style scoped>\n",
       "    .dataframe tbody tr th:only-of-type {\n",
       "        vertical-align: middle;\n",
       "    }\n",
       "\n",
       "    .dataframe tbody tr th {\n",
       "        vertical-align: top;\n",
       "    }\n",
       "\n",
       "    .dataframe thead th {\n",
       "        text-align: right;\n",
       "    }\n",
       "</style>\n",
       "<table border=\"1\" class=\"dataframe\">\n",
       "  <thead>\n",
       "    <tr style=\"text-align: right;\">\n",
       "      <th></th>\n",
       "      <th>group</th>\n",
       "      <th>participant</th>\n",
       "      <th>actual control</th>\n",
       "      <th>angular bias</th>\n",
       "      <th>dim</th>\n",
       "    </tr>\n",
       "  </thead>\n",
       "  <tbody>\n",
       "    <tr>\n",
       "      <th>0</th>\n",
       "      <td>H</td>\n",
       "      <td>K-Reg-H-10</td>\n",
       "      <td>0.30</td>\n",
       "      <td>0</td>\n",
       "      <td>0.238775</td>\n",
       "    </tr>\n",
       "    <tr>\n",
       "      <th>1</th>\n",
       "      <td>H</td>\n",
       "      <td>K-Reg-H-10</td>\n",
       "      <td>0.30</td>\n",
       "      <td>90</td>\n",
       "      <td>0.265718</td>\n",
       "    </tr>\n",
       "    <tr>\n",
       "      <th>2</th>\n",
       "      <td>H</td>\n",
       "      <td>K-Reg-H-10</td>\n",
       "      <td>0.55</td>\n",
       "      <td>0</td>\n",
       "      <td>0.220302</td>\n",
       "    </tr>\n",
       "    <tr>\n",
       "      <th>3</th>\n",
       "      <td>H</td>\n",
       "      <td>K-Reg-H-10</td>\n",
       "      <td>0.55</td>\n",
       "      <td>90</td>\n",
       "      <td>0.290689</td>\n",
       "    </tr>\n",
       "    <tr>\n",
       "      <th>4</th>\n",
       "      <td>H</td>\n",
       "      <td>K-Reg-H-10</td>\n",
       "      <td>0.80</td>\n",
       "      <td>0</td>\n",
       "      <td>0.229982</td>\n",
       "    </tr>\n",
       "  </tbody>\n",
       "</table>\n",
       "</div>"
      ],
      "text/plain": [
       "  group participant  actual control  angular bias       dim\n",
       "0     H  K-Reg-H-10            0.30             0  0.238775\n",
       "1     H  K-Reg-H-10            0.30            90  0.265718\n",
       "2     H  K-Reg-H-10            0.55             0  0.220302\n",
       "3     H  K-Reg-H-10            0.55            90  0.290689\n",
       "4     H  K-Reg-H-10            0.80             0  0.229982"
      ]
     },
     "execution_count": 6,
     "metadata": {},
     "output_type": "execute_result"
    }
   ],
   "source": [
    "df_all_group.head()"
   ]
  },
  {
   "cell_type": "markdown",
   "metadata": {},
   "source": [
    "# Statistical testing"
   ]
  },
  {
   "cell_type": "code",
   "execution_count": 28,
   "metadata": {},
   "outputs": [],
   "source": [
    "df_all_group_ = df_all_group.copy()\n",
    "df_anova = df_all_group_.pivot_table(index='participant', values='dim', columns=['group', 'actual control', 'angular bias'])\n",
    "df_anova = df_anova.reset_index()\n",
    "df_anova.to_csv('anova')"
   ]
  },
  {
   "cell_type": "code",
   "execution_count": 21,
   "metadata": {},
   "outputs": [
    {
     "ename": "ValueError",
     "evalue": "within and between factors must both be strings referring to a column in the data. Specifying multiple within and between factors is currently not supported. For more information, see: https://github.com/raphaelvallat/pingouin/issues/136",
     "output_type": "error",
     "traceback": [
      "\u001b[0;31m---------------------------------------------------------------------------\u001b[0m",
      "\u001b[0;31mValueError\u001b[0m                                Traceback (most recent call last)",
      "\u001b[1;32m/home/acercyc/projects/Keio Testing_analysis/src/ana_action_plan.ipynb Cell 10\u001b[0m in \u001b[0;36m<cell line: 2>\u001b[0;34m()\u001b[0m\n\u001b[1;32m      <a href='vscode-notebook-cell://ssh-remote%2Blocalhost/home/acercyc/projects/Keio%20Testing_analysis/src/ana_action_plan.ipynb#ch0000014vscode-remote?line=0'>1</a>\u001b[0m \u001b[39mfrom\u001b[39;00m \u001b[39mpingouin\u001b[39;00m \u001b[39mimport\u001b[39;00m mixed_anova\n\u001b[0;32m----> <a href='vscode-notebook-cell://ssh-remote%2Blocalhost/home/acercyc/projects/Keio%20Testing_analysis/src/ana_action_plan.ipynb#ch0000014vscode-remote?line=1'>2</a>\u001b[0m anova \u001b[39m=\u001b[39m mixed_anova(df_all_group, dv\u001b[39m=\u001b[39;49m\u001b[39m'\u001b[39;49m\u001b[39mdim\u001b[39;49m\u001b[39m'\u001b[39;49m, within\u001b[39m=\u001b[39;49m[\u001b[39m'\u001b[39;49m\u001b[39mgroup\u001b[39;49m\u001b[39m'\u001b[39;49m, \u001b[39m'\u001b[39;49m\u001b[39mactual control\u001b[39;49m\u001b[39m'\u001b[39;49m, \u001b[39m'\u001b[39;49m\u001b[39mangular bias\u001b[39;49m\u001b[39m'\u001b[39;49m],\n\u001b[1;32m      <a href='vscode-notebook-cell://ssh-remote%2Blocalhost/home/acercyc/projects/Keio%20Testing_analysis/src/ana_action_plan.ipynb#ch0000014vscode-remote?line=2'>3</a>\u001b[0m                     between\u001b[39m=\u001b[39;49m\u001b[39m'\u001b[39;49m\u001b[39mgroup\u001b[39;49m\u001b[39m'\u001b[39;49m)\n",
      "File \u001b[0;32m~/anaconda3/envs/py38/lib/python3.8/site-packages/pingouin/parametric.py:1468\u001b[0m, in \u001b[0;36mmixed_anova\u001b[0;34m(data, dv, within, subject, between, correction, effsize)\u001b[0m\n\u001b[1;32m   1466\u001b[0m both_are_str \u001b[39m=\u001b[39m \u001b[39misinstance\u001b[39m(within, (\u001b[39mstr\u001b[39m, \u001b[39mint\u001b[39m)) \u001b[39mand\u001b[39;00m \u001b[39misinstance\u001b[39m(between, (\u001b[39mstr\u001b[39m, \u001b[39mint\u001b[39m))\n\u001b[1;32m   1467\u001b[0m \u001b[39mif\u001b[39;00m one_is_list \u001b[39mor\u001b[39;00m \u001b[39mnot\u001b[39;00m both_are_str:\n\u001b[0;32m-> 1468\u001b[0m     \u001b[39mraise\u001b[39;00m \u001b[39mValueError\u001b[39;00m(\n\u001b[1;32m   1469\u001b[0m         \u001b[39m\"\u001b[39m\u001b[39mwithin and between factors must both be strings referring to a column in the data. \u001b[39m\u001b[39m\"\u001b[39m\n\u001b[1;32m   1470\u001b[0m         \u001b[39m\"\u001b[39m\u001b[39mSpecifying multiple within and between factors is currently not supported. \u001b[39m\u001b[39m\"\u001b[39m\n\u001b[1;32m   1471\u001b[0m         \u001b[39m\"\u001b[39m\u001b[39mFor more information, see: https://github.com/raphaelvallat/pingouin/issues/136\u001b[39m\u001b[39m\"\u001b[39m\n\u001b[1;32m   1472\u001b[0m     )\n\u001b[1;32m   1474\u001b[0m \u001b[39m# Check data\u001b[39;00m\n\u001b[1;32m   1475\u001b[0m data \u001b[39m=\u001b[39m _check_dataframe(\n\u001b[1;32m   1476\u001b[0m     dv\u001b[39m=\u001b[39mdv, within\u001b[39m=\u001b[39mwithin, between\u001b[39m=\u001b[39mbetween, data\u001b[39m=\u001b[39mdata, subject\u001b[39m=\u001b[39msubject, effects\u001b[39m=\u001b[39m\u001b[39m\"\u001b[39m\u001b[39minteraction\u001b[39m\u001b[39m\"\u001b[39m\n\u001b[1;32m   1477\u001b[0m )\n",
      "\u001b[0;31mValueError\u001b[0m: within and between factors must both be strings referring to a column in the data. Specifying multiple within and between factors is currently not supported. For more information, see: https://github.com/raphaelvallat/pingouin/issues/136"
     ]
    }
   ],
   "source": [
    "from pingouin import mixed_anova\n",
    "anova = mixed_anova(df_all_group, dv='dim', within=['group', 'actual control', 'angular bias'],\n",
    "                    between='group')"
   ]
  },
  {
   "cell_type": "code",
   "execution_count": 18,
   "metadata": {},
   "outputs": [
    {
     "ename": "NotImplementedError",
     "evalue": "Between subject effect not yet supported!",
     "output_type": "error",
     "traceback": [
      "\u001b[0;31m---------------------------------------------------------------------------\u001b[0m",
      "\u001b[0;31mNotImplementedError\u001b[0m                       Traceback (most recent call last)",
      "\u001b[1;32m/home/acercyc/projects/Keio Testing_analysis/src/ana_action_plan.ipynb Cell 10\u001b[0m in \u001b[0;36m<cell line: 4>\u001b[0;34m()\u001b[0m\n\u001b[1;32m      <a href='vscode-notebook-cell://ssh-remote%2Blocalhost/home/acercyc/projects/Keio%20Testing_analysis/src/ana_action_plan.ipynb#ch0000011vscode-remote?line=0'>1</a>\u001b[0m \u001b[39mfrom\u001b[39;00m \u001b[39mstatsmodels\u001b[39;00m\u001b[39m.\u001b[39;00m\u001b[39mstats\u001b[39;00m\u001b[39m.\u001b[39;00m\u001b[39manova\u001b[39;00m \u001b[39mimport\u001b[39;00m AnovaRM\n\u001b[1;32m      <a href='vscode-notebook-cell://ssh-remote%2Blocalhost/home/acercyc/projects/Keio%20Testing_analysis/src/ana_action_plan.ipynb#ch0000011vscode-remote?line=1'>2</a>\u001b[0m df_all_group_ \u001b[39m=\u001b[39m df_all_group\u001b[39m.\u001b[39mrename(columns\u001b[39m=\u001b[39m{\u001b[39m'\u001b[39m\u001b[39mactual control\u001b[39m\u001b[39m'\u001b[39m: \u001b[39m'\u001b[39m\u001b[39mactual_control\u001b[39m\u001b[39m'\u001b[39m, \n\u001b[1;32m      <a href='vscode-notebook-cell://ssh-remote%2Blocalhost/home/acercyc/projects/Keio%20Testing_analysis/src/ana_action_plan.ipynb#ch0000011vscode-remote?line=2'>3</a>\u001b[0m                                              \u001b[39m'\u001b[39m\u001b[39mangular bias\u001b[39m\u001b[39m'\u001b[39m: \u001b[39m'\u001b[39m\u001b[39mangular_bias\u001b[39m\u001b[39m'\u001b[39m})\n\u001b[0;32m----> <a href='vscode-notebook-cell://ssh-remote%2Blocalhost/home/acercyc/projects/Keio%20Testing_analysis/src/ana_action_plan.ipynb#ch0000011vscode-remote?line=3'>4</a>\u001b[0m anova \u001b[39m=\u001b[39m AnovaRM(df_all_group_, \u001b[39m'\u001b[39;49m\u001b[39mdim\u001b[39;49m\u001b[39m'\u001b[39;49m, \u001b[39m'\u001b[39;49m\u001b[39mparticipant\u001b[39;49m\u001b[39m'\u001b[39;49m, \n\u001b[1;32m      <a href='vscode-notebook-cell://ssh-remote%2Blocalhost/home/acercyc/projects/Keio%20Testing_analysis/src/ana_action_plan.ipynb#ch0000011vscode-remote?line=4'>5</a>\u001b[0m                 within\u001b[39m=\u001b[39;49m[\u001b[39m'\u001b[39;49m\u001b[39mactual_control\u001b[39;49m\u001b[39m'\u001b[39;49m, \u001b[39m\"\u001b[39;49m\u001b[39mangular_bias\u001b[39;49m\u001b[39m\"\u001b[39;49m], \n\u001b[1;32m      <a href='vscode-notebook-cell://ssh-remote%2Blocalhost/home/acercyc/projects/Keio%20Testing_analysis/src/ana_action_plan.ipynb#ch0000011vscode-remote?line=5'>6</a>\u001b[0m                 between\u001b[39m=\u001b[39;49m\u001b[39m'\u001b[39;49m\u001b[39mgroup\u001b[39;49m\u001b[39m'\u001b[39;49m)\u001b[39m.\u001b[39mfit()\n",
      "File \u001b[0;32m~/anaconda3/envs/py38/lib/python3.8/site-packages/statsmodels/stats/anova.py:487\u001b[0m, in \u001b[0;36mAnovaRM.__init__\u001b[0;34m(self, data, depvar, subject, within, between, aggregate_func)\u001b[0m\n\u001b[1;32m    485\u001b[0m \u001b[39mself\u001b[39m\u001b[39m.\u001b[39mbetween \u001b[39m=\u001b[39m between\n\u001b[1;32m    486\u001b[0m \u001b[39mif\u001b[39;00m between \u001b[39mis\u001b[39;00m \u001b[39mnot\u001b[39;00m \u001b[39mNone\u001b[39;00m:\n\u001b[0;32m--> 487\u001b[0m     \u001b[39mraise\u001b[39;00m \u001b[39mNotImplementedError\u001b[39;00m(\u001b[39m'\u001b[39m\u001b[39mBetween subject effect not \u001b[39m\u001b[39m'\u001b[39m\n\u001b[1;32m    488\u001b[0m                               \u001b[39m'\u001b[39m\u001b[39myet supported!\u001b[39m\u001b[39m'\u001b[39m)\n\u001b[1;32m    489\u001b[0m \u001b[39mself\u001b[39m\u001b[39m.\u001b[39msubject \u001b[39m=\u001b[39m subject\n\u001b[1;32m    491\u001b[0m \u001b[39mif\u001b[39;00m aggregate_func \u001b[39m==\u001b[39m \u001b[39m'\u001b[39m\u001b[39mmean\u001b[39m\u001b[39m'\u001b[39m:\n",
      "\u001b[0;31mNotImplementedError\u001b[0m: Between subject effect not yet supported!"
     ]
    }
   ],
   "source": [
    "from statsmodels.stats.anova import AnovaRM\n",
    "df_all_group_ = df_all_group.rename(columns={'actual control': 'actual_control', \n",
    "                                             'angular bias': 'angular_bias'})\n",
    "anova = AnovaRM(df_all_group_, 'dim', 'participant', \n",
    "                within=['actual_control', \"angular_bias\"], \n",
    "                between='group').fit()\n"
   ]
  },
  {
   "cell_type": "code",
   "execution_count": 17,
   "metadata": {},
   "outputs": [
    {
     "name": "stdout",
     "output_type": "stream",
     "text": [
      "                          Anova\n",
      "=========================================================\n",
      "                            F Value Num DF  Den DF Pr > F\n",
      "---------------------------------------------------------\n",
      "actual_control               0.7116 2.0000 98.0000 0.4934\n",
      "angular_bias                 2.7322 1.0000 49.0000 0.1047\n",
      "actual_control:angular_bias  0.7950 2.0000 98.0000 0.4545\n",
      "=========================================================\n",
      "\n"
     ]
    }
   ],
   "source": [
    "print(anova)"
   ]
  },
  {
   "cell_type": "markdown",
   "metadata": {},
   "source": [
    "## logistic regression on dimensionality and response"
   ]
  },
  {
   "cell_type": "code",
   "execution_count": null,
   "metadata": {},
   "outputs": [],
   "source": [
    "def reg_dim_resp(subj, task):\n",
    "    df_dim = add_dim(subj, task)\n",
    "    df_dim = sm.add_constant(df_dim)\n",
    "    logit_res = sm.Logit(df_dim['response'], df_dim[['dim', 'const']]).fit()\n",
    "    return logit_res\n",
    "\n",
    "logit_res = utils.GroupOperation.map(reg_dim_resp, subjs, task)"
   ]
  },
  {
   "cell_type": "code",
   "execution_count": 133,
   "metadata": {},
   "outputs": [
    {
     "data": {
      "text/plain": [
       "Ttest_1sampResult(statistic=-2.376005879805179, pvalue=0.02582898625194411)"
      ]
     },
     "execution_count": 133,
     "metadata": {},
     "output_type": "execute_result"
    }
   ],
   "source": [
    "# extract coefficients and compute group t-test\n",
    "dim_beta = [x.params['dim'] for x in logit_res]\n",
    "scipy.stats.ttest_1samp(dim_beta, 0)"
   ]
  }
 ],
 "metadata": {
  "kernelspec": {
   "display_name": "py310",
   "language": "python",
   "name": "python3"
  },
  "language_info": {
   "codemirror_mode": {
    "name": "ipython",
    "version": 3
   },
   "file_extension": ".py",
   "mimetype": "text/x-python",
   "name": "python",
   "nbconvert_exporter": "python",
   "pygments_lexer": "ipython3",
   "version": "3.10.9"
  },
  "orig_nbformat": 4,
  "vscode": {
   "interpreter": {
    "hash": "0bfe45cfa5af8caecc1324233dd1bb80b7f37bc486d77a1e494b9aae421ca5f7"
   }
  }
 },
 "nbformat": 4,
 "nbformat_minor": 2
}

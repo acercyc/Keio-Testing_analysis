{
 "cells": [
  {
   "cell_type": "code",
   "execution_count": 10,
   "metadata": {},
   "outputs": [],
   "source": [
    "import numpy as np\n",
    "import pandas as pd\n",
    "import matplotlib.pyplot as plt\n",
    "import matplotlib as mpl\n",
    "import plotnine as pn\n",
    "import seaborn as sns \n",
    "import torch\n",
    "\n",
    "import utils\n",
    "from sklearn.metrics.pairwise import cosine_similarity, paired_distances\n",
    "from scipy.spatial import distance\n",
    "from alive_progress import alive_bar\n"
   ]
  },
  {
   "cell_type": "code",
   "execution_count": null,
   "metadata": {},
   "outputs": [],
   "source": [
    "import importlib\n",
    "importlib.reload(utils)\n"
   ]
  },
  {
   "cell_type": "code",
   "execution_count": null,
   "metadata": {},
   "outputs": [],
   "source": [
    "# subj = utils.ExpInfo.getSubjIDs()[1]\n",
    "subj = 'K-Reg-H-7'\n",
    "task = utils.ExpInfo.taskName[1]\n"
   ]
  },
  {
   "cell_type": "code",
   "execution_count": null,
   "metadata": {},
   "outputs": [],
   "source": [
    "# xhy = utils.LoadData.xhy(subj, task)\n",
    "# xhy_disp = utils.LoadData.xhy_disp(subj, task)\n",
    "d, d_disp = utils.LoadData.mouseMovement_array(subj, task, velocity=True)\n",
    "df_beh = utils.LoadData.behaviorData(subj, task) "
   ]
  },
  {
   "cell_type": "code",
   "execution_count": 6,
   "metadata": {},
   "outputs": [],
   "source": [
    "iTrial = 3\n",
    "wSize = 100\n",
    "\n",
    "dist_measure = 'euclidean'\n",
    "# target = df_beh.loc[iTrial, 'target dot']\n",
    "# choice = df_beh.loc[iTrial, 'selected dot']\n",
    "\n",
    "\n"
   ]
  },
  {
   "cell_type": "code",
   "execution_count": 11,
   "metadata": {},
   "outputs": [
    {
     "name": "stdout",
     "output_type": "stream",
     "text": [
      "|▋⚠︎                                      | (!) 1/60 [2%] in 42.7s (0.02/s)                                              \n"
     ]
    }
   ],
   "source": [
    "dists = []\n",
    "dist_coss = []\n",
    "with alive_bar(len(d), force_tty=True) as bar:\n",
    "    for iTrial in range(len(d)):\n",
    "\n",
    "        # ---------------------------------------------------------------------------- #\n",
    "        #                                compute forward                               #\n",
    "        # ---------------------------------------------------------------------------- #\n",
    "        x = d[iTrial]\n",
    "        x = utils.DataProcessing.rollingWindow(x, wSize, 1)\n",
    "        h, y = utils.test.quick_forward(subj, x)\n",
    "\n",
    "        h_disp = []\n",
    "        for i in range(3):\n",
    "            x_disp = d_disp[iTrial][:, i*2:i*2+2]\n",
    "            x_disp = utils.DataProcessing.rollingWindow(x_disp, wSize, 1)\n",
    "            h_disp_, y_disp = utils.test.quick_forward(subj, x_disp)\n",
    "            h_disp.append(h_disp_)\n",
    "\n",
    "\n",
    "        # ---------------------------------------------------------------------------- #\n",
    "        #                                   distance                                   #\n",
    "        # ---------------------------------------------------------------------------- #\n",
    "        dist_cos = []\n",
    "        dist = []\n",
    "        for iDot in range(3):\n",
    "            h1 = h\n",
    "            h2 = h_disp[iDot]\n",
    "            dist_cos_ = cosine_similarity(h1, h2).diagonal()\n",
    "            dist_ = paired_distances(h1, h2, metric=dist_measure)\n",
    "            dist_cos.append(dist_cos_)\n",
    "            dist.append(dist_)\n",
    "            \n",
    "        dist = np.vstack(dist).T\n",
    "        dist_cos = np.vstack(dist_cos).T\n",
    "        \n",
    "        dists.append(dist)\n",
    "        dist_coss.append(dist_cos)\n",
    "        bar()\n"
   ]
  },
  {
   "cell_type": "code",
   "execution_count": 12,
   "metadata": {},
   "outputs": [
    {
     "ename": "ValueError",
     "evalue": "Length of values (200) does not match length of index (60)",
     "output_type": "error",
     "traceback": [
      "\u001b[0;31m---------------------------------------------------------------------------\u001b[0m",
      "\u001b[0;31mValueError\u001b[0m                                Traceback (most recent call last)",
      "\u001b[1;32m/home/acercyc/projects/Keio Testing_analysis/src/ana_three_dot_traj_dist_preview_2_trialBased.ipynb Cell 7\u001b[0m in \u001b[0;36m<cell line: 2>\u001b[0;34m()\u001b[0m\n\u001b[1;32m      <a href='vscode-notebook-cell://ssh-remote%2Blocalhost/home/acercyc/projects/Keio%20Testing_analysis/src/ana_three_dot_traj_dist_preview_2_trialBased.ipynb#ch0000011vscode-remote?line=0'>1</a>\u001b[0m df_beh_ \u001b[39m=\u001b[39m df_beh\u001b[39m.\u001b[39mcopy()\n\u001b[0;32m----> <a href='vscode-notebook-cell://ssh-remote%2Blocalhost/home/acercyc/projects/Keio%20Testing_analysis/src/ana_three_dot_traj_dist_preview_2_trialBased.ipynb#ch0000011vscode-remote?line=1'>2</a>\u001b[0m df_beh_[\u001b[39m'\u001b[39m\u001b[39mdist\u001b[39m\u001b[39m'\u001b[39m] \u001b[39m=\u001b[39m dist\n",
      "File \u001b[0;32m~/anaconda3/envs/py38/lib/python3.8/site-packages/pandas/core/frame.py:3655\u001b[0m, in \u001b[0;36mDataFrame.__setitem__\u001b[0;34m(self, key, value)\u001b[0m\n\u001b[1;32m   3652\u001b[0m     \u001b[39mself\u001b[39m\u001b[39m.\u001b[39m_setitem_array([key], value)\n\u001b[1;32m   3653\u001b[0m \u001b[39melse\u001b[39;00m:\n\u001b[1;32m   3654\u001b[0m     \u001b[39m# set column\u001b[39;00m\n\u001b[0;32m-> 3655\u001b[0m     \u001b[39mself\u001b[39;49m\u001b[39m.\u001b[39;49m_set_item(key, value)\n",
      "File \u001b[0;32m~/anaconda3/envs/py38/lib/python3.8/site-packages/pandas/core/frame.py:3832\u001b[0m, in \u001b[0;36mDataFrame._set_item\u001b[0;34m(self, key, value)\u001b[0m\n\u001b[1;32m   3822\u001b[0m \u001b[39mdef\u001b[39;00m \u001b[39m_set_item\u001b[39m(\u001b[39mself\u001b[39m, key, value) \u001b[39m-\u001b[39m\u001b[39m>\u001b[39m \u001b[39mNone\u001b[39;00m:\n\u001b[1;32m   3823\u001b[0m     \u001b[39m\"\"\"\u001b[39;00m\n\u001b[1;32m   3824\u001b[0m \u001b[39m    Add series to DataFrame in specified column.\u001b[39;00m\n\u001b[1;32m   3825\u001b[0m \n\u001b[0;32m   (...)\u001b[0m\n\u001b[1;32m   3830\u001b[0m \u001b[39m    ensure homogeneity.\u001b[39;00m\n\u001b[1;32m   3831\u001b[0m \u001b[39m    \"\"\"\u001b[39;00m\n\u001b[0;32m-> 3832\u001b[0m     value \u001b[39m=\u001b[39m \u001b[39mself\u001b[39;49m\u001b[39m.\u001b[39;49m_sanitize_column(value)\n\u001b[1;32m   3834\u001b[0m     \u001b[39mif\u001b[39;00m (\n\u001b[1;32m   3835\u001b[0m         key \u001b[39min\u001b[39;00m \u001b[39mself\u001b[39m\u001b[39m.\u001b[39mcolumns\n\u001b[1;32m   3836\u001b[0m         \u001b[39mand\u001b[39;00m value\u001b[39m.\u001b[39mndim \u001b[39m==\u001b[39m \u001b[39m1\u001b[39m\n\u001b[1;32m   3837\u001b[0m         \u001b[39mand\u001b[39;00m \u001b[39mnot\u001b[39;00m is_extension_array_dtype(value)\n\u001b[1;32m   3838\u001b[0m     ):\n\u001b[1;32m   3839\u001b[0m         \u001b[39m# broadcast across multiple columns if necessary\u001b[39;00m\n\u001b[1;32m   3840\u001b[0m         \u001b[39mif\u001b[39;00m \u001b[39mnot\u001b[39;00m \u001b[39mself\u001b[39m\u001b[39m.\u001b[39mcolumns\u001b[39m.\u001b[39mis_unique \u001b[39mor\u001b[39;00m \u001b[39misinstance\u001b[39m(\u001b[39mself\u001b[39m\u001b[39m.\u001b[39mcolumns, MultiIndex):\n",
      "File \u001b[0;32m~/anaconda3/envs/py38/lib/python3.8/site-packages/pandas/core/frame.py:4535\u001b[0m, in \u001b[0;36mDataFrame._sanitize_column\u001b[0;34m(self, value)\u001b[0m\n\u001b[1;32m   4532\u001b[0m     \u001b[39mreturn\u001b[39;00m _reindex_for_setitem(value, \u001b[39mself\u001b[39m\u001b[39m.\u001b[39mindex)\n\u001b[1;32m   4534\u001b[0m \u001b[39mif\u001b[39;00m is_list_like(value):\n\u001b[0;32m-> 4535\u001b[0m     com\u001b[39m.\u001b[39;49mrequire_length_match(value, \u001b[39mself\u001b[39;49m\u001b[39m.\u001b[39;49mindex)\n\u001b[1;32m   4536\u001b[0m \u001b[39mreturn\u001b[39;00m sanitize_array(value, \u001b[39mself\u001b[39m\u001b[39m.\u001b[39mindex, copy\u001b[39m=\u001b[39m\u001b[39mTrue\u001b[39;00m, allow_2d\u001b[39m=\u001b[39m\u001b[39mTrue\u001b[39;00m)\n",
      "File \u001b[0;32m~/anaconda3/envs/py38/lib/python3.8/site-packages/pandas/core/common.py:557\u001b[0m, in \u001b[0;36mrequire_length_match\u001b[0;34m(data, index)\u001b[0m\n\u001b[1;32m    553\u001b[0m \u001b[39m\"\"\"\u001b[39;00m\n\u001b[1;32m    554\u001b[0m \u001b[39mCheck the length of data matches the length of the index.\u001b[39;00m\n\u001b[1;32m    555\u001b[0m \u001b[39m\"\"\"\u001b[39;00m\n\u001b[1;32m    556\u001b[0m \u001b[39mif\u001b[39;00m \u001b[39mlen\u001b[39m(data) \u001b[39m!=\u001b[39m \u001b[39mlen\u001b[39m(index):\n\u001b[0;32m--> 557\u001b[0m     \u001b[39mraise\u001b[39;00m \u001b[39mValueError\u001b[39;00m(\n\u001b[1;32m    558\u001b[0m         \u001b[39m\"\u001b[39m\u001b[39mLength of values \u001b[39m\u001b[39m\"\u001b[39m\n\u001b[1;32m    559\u001b[0m         \u001b[39mf\u001b[39m\u001b[39m\"\u001b[39m\u001b[39m(\u001b[39m\u001b[39m{\u001b[39;00m\u001b[39mlen\u001b[39m(data)\u001b[39m}\u001b[39;00m\u001b[39m) \u001b[39m\u001b[39m\"\u001b[39m\n\u001b[1;32m    560\u001b[0m         \u001b[39m\"\u001b[39m\u001b[39mdoes not match length of index \u001b[39m\u001b[39m\"\u001b[39m\n\u001b[1;32m    561\u001b[0m         \u001b[39mf\u001b[39m\u001b[39m\"\u001b[39m\u001b[39m(\u001b[39m\u001b[39m{\u001b[39;00m\u001b[39mlen\u001b[39m(index)\u001b[39m}\u001b[39;00m\u001b[39m)\u001b[39m\u001b[39m\"\u001b[39m\n\u001b[1;32m    562\u001b[0m     )\n",
      "\u001b[0;31mValueError\u001b[0m: Length of values (200) does not match length of index (60)"
     ]
    }
   ],
   "source": [
    "df_beh_ = df_beh.copy()\n",
    "df_beh_['dist'] = dist\n"
   ]
  },
  {
   "cell_type": "markdown",
   "metadata": {},
   "source": [
    "# ROC"
   ]
  },
  {
   "cell_type": "code",
   "execution_count": null,
   "metadata": {},
   "outputs": [],
   "source": [
    "# from sklearn import metrics \n",
    "\n",
    "# y_true = np.zeros(dist.shape)\n",
    "# y_true[:, 1] = 1\n",
    "# fpr, tpr, thresholds = metrics.roc_curve(y_true.flatten(), 1-dist.flatten())\n",
    "# roc_auc = metrics.auc(fpr, tpr)\n",
    "# metrics.RocCurveDisplay(fpr=fpr, tpr=tpr, roc_auc=roc_auc).plot()\n",
    "\n",
    "# y_true = np.zeros(dist.shape)\n",
    "# target = df_beh['target dot'][iTrial]-1\n",
    "# y_true[:, target] = 1\n",
    "# # fpr, tpr, thresholds = metrics.roc_curve(y_true.flatten(), 1-dist.flatten())\n",
    "# fpr, tpr, thresholds = metrics.roc_curve(y_true.flatten(), 1-dist.flatten())\n",
    "# roc_auc.append(metrics.auc(fpr, tpr))"
   ]
  },
  {
   "cell_type": "markdown",
   "metadata": {},
   "source": [
    "# xy space"
   ]
  },
  {
   "cell_type": "code",
   "execution_count": null,
   "metadata": {},
   "outputs": [],
   "source": [
    "# d1 = d[0][iTrial]\n",
    "# dist = []\n",
    "# for i in range(3):\n",
    "#     d2 = d[1][iTrial][:, i*2:i*2+2]\n",
    "#     dist_ = cosine_similarity(d1, d2).diagonal()\n",
    "#     # dist_ = paired_distances(d1, d2, metric=dist_measure)\n",
    "#     dist.append(dist_)\n",
    "# dist = np.vstack(dist).T\n",
    "\n",
    "# fig, ax = plt.subplots(1, 1, figsize=(10, 5))\n",
    "# ax.plot(dist)\n",
    "# ax.legend(['dot 1', 'dot 2', 'dot 3'])\n",
    "\n",
    "# fig, ax = plt.subplots(1, 1, figsize=(10, 5))\n",
    "# ax.plot(dist.cumsum(axis=0))\n",
    "# ax.legend(['dot 1', 'dot 2', 'dot 3'])\n"
   ]
  }
 ],
 "metadata": {
  "kernelspec": {
   "display_name": "Python 3.8.13 ('py38')",
   "language": "python",
   "name": "python3"
  },
  "language_info": {
   "codemirror_mode": {
    "name": "ipython",
    "version": 3
   },
   "file_extension": ".py",
   "mimetype": "text/x-python",
   "name": "python",
   "nbconvert_exporter": "python",
   "pygments_lexer": "ipython3",
   "version": "3.8.13"
  },
  "orig_nbformat": 4,
  "vscode": {
   "interpreter": {
    "hash": "c38880c0b251f16d71f4d18036765822673f8ed835e0120528c8cebbbd5836f8"
   }
  }
 },
 "nbformat": 4,
 "nbformat_minor": 2
}

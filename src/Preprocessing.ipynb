{
 "cells": [
  {
   "cell_type": "code",
   "execution_count": 4,
   "metadata": {},
   "outputs": [],
   "source": [
    "import numpy as np\n",
    "import pandas as pd\n",
    "from scipy.io import loadmat\n",
    "import glob \n",
    "import re"
   ]
  },
  {
   "cell_type": "code",
   "execution_count": 12,
   "metadata": {},
   "outputs": [
    {
     "data": {
      "text/plain": [
       "['/home/acercyc/projects/Keio Testing_analysis/data/raw/Keio Results',\n",
       " '/home/acercyc/projects/Keio Testing_analysis/data/raw/Komagino Results']"
      ]
     },
     "execution_count": 12,
     "metadata": {},
     "output_type": "execute_result"
    }
   ],
   "source": [
    "import ProjInfo\n",
    "bad_subj = ProjInfo.bad_subj\n",
    "datapaths = [str(i) for i in ProjInfo.path_raw]\n",
    "savepath = ProjInfo.path_project / 'data' / 'Preprocessing' / 'mouseMovement_temp'\n",
    "savepath.mkdir(exist_ok=True, parents=True)\n",
    "savepath = str(savepath)"
   ]
  },
  {
   "cell_type": "markdown",
   "metadata": {},
   "source": [
    "# Converting mouse.mat to csv"
   ]
  },
  {
   "cell_type": "code",
   "execution_count": 15,
   "metadata": {},
   "outputs": [
    {
     "name": "stdout",
     "output_type": "stream",
     "text": [
      "Error:  /home/acercyc/projects/Keio Testing_analysis/data/raw/Komagino Results/test2_28-Jan-2020_18-54-38_reaching_mouse.mat\n",
      "Error:  /home/acercyc/projects/Keio Testing_analysis/data/raw/Komagino Results/test_28-Jan-2020_18-28-01_three_dot_mouse.mat\n"
     ]
    }
   ],
   "source": [
    "for datapath in datapaths:\n",
    "    files = glob.glob(datapath + '/*mouse.mat')\n",
    "    for file in files:\n",
    "        try:\n",
    "            # parse file name\n",
    "            id = re.search(r'((K-Reg)|(Reg))-(S|H)-\\d+', file).group()\n",
    "            if id in bad_subj:\n",
    "                continue\n",
    "            group = re.findall(r'-(S|H)-', id)[0]\n",
    "            task = re.search(r'((three_dot)|(one_dot)|(reaching))', file).group()\n",
    "            fName_save = savepath + f'/{id}_{task}.csv'\n",
    "\n",
    "            # load and save data\n",
    "            data = loadmat(file)['mouseMovement']\n",
    "            if task == 'three_dot':\n",
    "                header = ['trialno', 'frameCounter', 'x-shift', 'y-shift', 'dot-x1', 'dot-y1', 'dot-x2', 'dot-y2', 'dot-x3', 'dot-y3']\n",
    "            elif task == 'one_dot':\n",
    "                header = ['trialno', 'frameCounter', 'x-shift', 'y-shift', 'dot-x', 'dot-y']\n",
    "            elif task == 'reaching':\n",
    "                header = ['trialno', 'frameCounter', 'x-shift', 'y-shift', 'dot-x', 'dot-y']\n",
    "            else:\n",
    "                print('Error: task not defined')\n",
    "\n",
    "            df = pd.DataFrame(data, columns=header)\n",
    "            df['group'] = group\n",
    "            df['subjID'] = id\n",
    "            df.to_csv(fName_save, index=False)\n",
    "        except:\n",
    "            print('Error: ', file)\n",
    "            continue   \n",
    "        \n",
    "\n",
    "\n"
   ]
  }
 ],
 "metadata": {
  "kernelspec": {
   "display_name": "Python 3.8.13 ('py38')",
   "language": "python",
   "name": "python3"
  },
  "language_info": {
   "codemirror_mode": {
    "name": "ipython",
    "version": 3
   },
   "file_extension": ".py",
   "mimetype": "text/x-python",
   "name": "python",
   "nbconvert_exporter": "python",
   "pygments_lexer": "ipython3",
   "version": "3.8.13"
  },
  "orig_nbformat": 4,
  "vscode": {
   "interpreter": {
    "hash": "c38880c0b251f16d71f4d18036765822673f8ed835e0120528c8cebbbd5836f8"
   }
  }
 },
 "nbformat": 4,
 "nbformat_minor": 2
}

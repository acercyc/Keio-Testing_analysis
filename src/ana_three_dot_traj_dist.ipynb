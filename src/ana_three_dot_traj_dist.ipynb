{
 "cells": [
  {
   "cell_type": "code",
   "execution_count": 1,
   "metadata": {},
   "outputs": [],
   "source": [
    "import numpy as np\n",
    "import pandas as pd\n",
    "import matplotlib.pyplot as plt\n",
    "import matplotlib as mpl\n",
    "import plotnine as pn\n",
    "import seaborn as sns \n",
    "\n",
    "import utils\n",
    "from sklearn.metrics.pairwise import cosine_similarity, paired_distances\n",
    "from sklearn import metrics \n",
    "from scipy.spatial import distance\n"
   ]
  },
  {
   "cell_type": "code",
   "execution_count": 2,
   "metadata": {},
   "outputs": [],
   "source": [
    "subj = utils.ExpInfo.getSubjIDs()[1]\n",
    "task = utils.ExpInfo.taskName[1]\n"
   ]
  },
  {
   "cell_type": "code",
   "execution_count": 3,
   "metadata": {},
   "outputs": [],
   "source": [
    "xhy = utils.LoadData.xhy(subj, task)\n",
    "xhy_disp = utils.LoadData.xhy_disp(subj, task)\n",
    "d = utils.LoadData.mouseMovement_array(subj, task, velocity=True)\n",
    "df_beh = utils.LoadData.behaviorData(subj, task) "
   ]
  },
  {
   "cell_type": "code",
   "execution_count": 8,
   "metadata": {},
   "outputs": [],
   "source": [
    "# iTrial = 46\n",
    "dist_measure = 'euclidean'\n",
    "dists = []\n",
    "dist_coss = []\n",
    "roc_auc = []\n",
    "for iTrial in range(len(xhy[1])):\n",
    "    dist_cos = []\n",
    "    dist = []\n",
    "    for iDot in range(3):\n",
    "        h1 = xhy[1][iTrial][:-1, :]\n",
    "        h2 = xhy_disp[1][iTrial][iDot]\n",
    "        dist_cos_ = cosine_similarity(h1, h2).diagonal()\n",
    "        dist_ = paired_distances(h1, h2, metric=dist_measure)\n",
    "        dist_cos.append(dist_cos_)\n",
    "        dist.append(dist_)\n",
    "        \n",
    "    dist = np.vstack(dist).T\n",
    "    dist_cos = np.vstack(dist_cos).T    \n",
    "    \n",
    "    dists.append(dist)\n",
    "    dist_coss.append(dist_cos)\n",
    "    \n",
    "    # ROC\n",
    "    y_true = np.zeros(dist.shape)\n",
    "    target = df_beh['target dot'][iTrial]-1\n",
    "    y_true[:, target] = 1\n",
    "    fpr, tpr, thresholds = metrics.roc_curve(y_true.flatten(), 1-dist.flatten())\n",
    "    roc_auc.append(metrics.auc(fpr, tpr))\n",
    "    \n",
    "    # metrics.RocCurveDisplay(fpr=fpr, tpr=tpr, roc_auc=roc_auc).plot()"
   ]
  },
  {
   "cell_type": "code",
   "execution_count": 10,
   "metadata": {},
   "outputs": [],
   "source": [
    "df_beh_ = df_beh.copy()\n",
    "df_beh_['AUC'] = roc_auc"
   ]
  },
  {
   "cell_type": "code",
   "execution_count": null,
   "metadata": {},
   "outputs": [
    {
     "data": {
      "text/plain": [
       "0.5796440972222222"
      ]
     },
     "execution_count": 70,
     "metadata": {},
     "output_type": "execute_result"
    }
   ],
   "source": [
    "dists"
   ]
  },
  {
   "cell_type": "code",
   "execution_count": null,
   "metadata": {},
   "outputs": [],
   "source": []
  }
 ],
 "metadata": {
  "kernelspec": {
   "display_name": "Python 3.8.13 ('py38')",
   "language": "python",
   "name": "python3"
  },
  "language_info": {
   "codemirror_mode": {
    "name": "ipython",
    "version": 3
   },
   "file_extension": ".py",
   "mimetype": "text/x-python",
   "name": "python",
   "nbconvert_exporter": "python",
   "pygments_lexer": "ipython3",
   "version": "3.8.13"
  },
  "orig_nbformat": 4,
  "vscode": {
   "interpreter": {
    "hash": "c38880c0b251f16d71f4d18036765822673f8ed835e0120528c8cebbbd5836f8"
   }
  }
 },
 "nbformat": 4,
 "nbformat_minor": 2
}

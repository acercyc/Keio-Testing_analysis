{
 "cells": [
  {
   "cell_type": "code",
   "execution_count": 1,
   "metadata": {},
   "outputs": [],
   "source": [
    "\n",
    "import numpy as np \n",
    "import pandas as pd\n",
    "import matplotlib.pyplot as plt\n",
    "import utils \n",
    "import torch\n",
    "from torch import nn\n",
    "from torchsummary import summary\n",
    "\n",
    "import pytorch_lightning as pl\n",
    "\n"
   ]
  },
  {
   "cell_type": "code",
   "execution_count": 2,
   "metadata": {},
   "outputs": [
    {
     "data": {
      "text/plain": [
       "'cuda'"
      ]
     },
     "execution_count": 2,
     "metadata": {},
     "output_type": "execute_result"
    }
   ],
   "source": [
    "device = \"cuda\" if torch.cuda.is_available() else \"cpu\"\n",
    "device"
   ]
  },
  {
   "cell_type": "code",
   "execution_count": 3,
   "metadata": {},
   "outputs": [],
   "source": [
    "data = utils.SynthData.spiral()"
   ]
  },
  {
   "cell_type": "code",
   "execution_count": 25,
   "metadata": {},
   "outputs": [
    {
     "ename": "RuntimeError",
     "evalue": "The size of tensor a (15) must match the size of tensor b (3) at non-singleton dimension 2",
     "output_type": "error",
     "traceback": [
      "\u001b[0;31m---------------------------------------------------------------------------\u001b[0m",
      "\u001b[0;31mRuntimeError\u001b[0m                              Traceback (most recent call last)",
      "\u001b[1;32m/home/acercyc/projects/Keio Testing_analysis/src/TrajNet_test_CNN.ipynb Cell 4'\u001b[0m in \u001b[0;36m<cell line: 86>\u001b[0;34m()\u001b[0m\n\u001b[1;32m     <a href='vscode-notebook-cell://ssh-remote%2Blocalhost/home/acercyc/projects/Keio%20Testing_analysis/src/TrajNet_test_CNN.ipynb#ch0000008vscode-remote?line=79'>80</a>\u001b[0m \u001b[39m# model = TrajNet()\u001b[39;00m\n\u001b[1;32m     <a href='vscode-notebook-cell://ssh-remote%2Blocalhost/home/acercyc/projects/Keio%20Testing_analysis/src/TrajNet_test_CNN.ipynb#ch0000008vscode-remote?line=80'>81</a>\u001b[0m \u001b[39m# d = torch.rand(5, 2, 3)\u001b[39;00m\n\u001b[1;32m     <a href='vscode-notebook-cell://ssh-remote%2Blocalhost/home/acercyc/projects/Keio%20Testing_analysis/src/TrajNet_test_CNN.ipynb#ch0000008vscode-remote?line=81'>82</a>\u001b[0m \u001b[39m# d = model.forward(d)\u001b[39;00m\n\u001b[1;32m     <a href='vscode-notebook-cell://ssh-remote%2Blocalhost/home/acercyc/projects/Keio%20Testing_analysis/src/TrajNet_test_CNN.ipynb#ch0000008vscode-remote?line=82'>83</a>\u001b[0m \u001b[39m# d\u001b[39;00m\n\u001b[1;32m     <a href='vscode-notebook-cell://ssh-remote%2Blocalhost/home/acercyc/projects/Keio%20Testing_analysis/src/TrajNet_test_CNN.ipynb#ch0000008vscode-remote?line=84'>85</a>\u001b[0m model \u001b[39m=\u001b[39m DecoderLayer()\n\u001b[0;32m---> <a href='vscode-notebook-cell://ssh-remote%2Blocalhost/home/acercyc/projects/Keio%20Testing_analysis/src/TrajNet_test_CNN.ipynb#ch0000008vscode-remote?line=85'>86</a>\u001b[0m model(torch\u001b[39m.\u001b[39;49mrand(\u001b[39m5\u001b[39;49m, \u001b[39m32\u001b[39;49m, \u001b[39m3\u001b[39;49m))\n",
      "File \u001b[0;32m~/anaconda3/envs/py38/lib/python3.8/site-packages/torch/nn/modules/module.py:1110\u001b[0m, in \u001b[0;36mModule._call_impl\u001b[0;34m(self, *input, **kwargs)\u001b[0m\n\u001b[1;32m   1106\u001b[0m \u001b[39m# If we don't have any hooks, we want to skip the rest of the logic in\u001b[39;00m\n\u001b[1;32m   1107\u001b[0m \u001b[39m# this function, and just call forward.\u001b[39;00m\n\u001b[1;32m   1108\u001b[0m \u001b[39mif\u001b[39;00m \u001b[39mnot\u001b[39;00m (\u001b[39mself\u001b[39m\u001b[39m.\u001b[39m_backward_hooks \u001b[39mor\u001b[39;00m \u001b[39mself\u001b[39m\u001b[39m.\u001b[39m_forward_hooks \u001b[39mor\u001b[39;00m \u001b[39mself\u001b[39m\u001b[39m.\u001b[39m_forward_pre_hooks \u001b[39mor\u001b[39;00m _global_backward_hooks\n\u001b[1;32m   1109\u001b[0m         \u001b[39mor\u001b[39;00m _global_forward_hooks \u001b[39mor\u001b[39;00m _global_forward_pre_hooks):\n\u001b[0;32m-> 1110\u001b[0m     \u001b[39mreturn\u001b[39;00m forward_call(\u001b[39m*\u001b[39;49m\u001b[39minput\u001b[39;49m, \u001b[39m*\u001b[39;49m\u001b[39m*\u001b[39;49mkwargs)\n\u001b[1;32m   1111\u001b[0m \u001b[39m# Do not call functions when jit is used\u001b[39;00m\n\u001b[1;32m   1112\u001b[0m full_backward_hooks, non_full_backward_hooks \u001b[39m=\u001b[39m [], []\n",
      "\u001b[1;32m/home/acercyc/projects/Keio Testing_analysis/src/TrajNet_test_CNN.ipynb Cell 4'\u001b[0m in \u001b[0;36mDecoderLayer.forward\u001b[0;34m(self, x)\u001b[0m\n\u001b[1;32m     <a href='vscode-notebook-cell://ssh-remote%2Blocalhost/home/acercyc/projects/Keio%20Testing_analysis/src/TrajNet_test_CNN.ipynb#ch0000008vscode-remote?line=42'>43</a>\u001b[0m x \u001b[39m=\u001b[39m \u001b[39mself\u001b[39m\u001b[39m.\u001b[39mselu(x)\n\u001b[1;32m     <a href='vscode-notebook-cell://ssh-remote%2Blocalhost/home/acercyc/projects/Keio%20Testing_analysis/src/TrajNet_test_CNN.ipynb#ch0000008vscode-remote?line=43'>44</a>\u001b[0m res \u001b[39m=\u001b[39m \u001b[39mself\u001b[39m\u001b[39m.\u001b[39mbatchNorm2(res)\n\u001b[0;32m---> <a href='vscode-notebook-cell://ssh-remote%2Blocalhost/home/acercyc/projects/Keio%20Testing_analysis/src/TrajNet_test_CNN.ipynb#ch0000008vscode-remote?line=44'>45</a>\u001b[0m x \u001b[39m+\u001b[39m\u001b[39m=\u001b[39m res\n\u001b[1;32m     <a href='vscode-notebook-cell://ssh-remote%2Blocalhost/home/acercyc/projects/Keio%20Testing_analysis/src/TrajNet_test_CNN.ipynb#ch0000008vscode-remote?line=45'>46</a>\u001b[0m \u001b[39mreturn\u001b[39;00m x\n",
      "\u001b[0;31mRuntimeError\u001b[0m: The size of tensor a (15) must match the size of tensor b (3) at non-singleton dimension 2"
     ]
    }
   ],
   "source": [
    "class EncoderLayer(nn.Module):\n",
    "    def __init__(self, nFeature=32):\n",
    "        super(EncoderLayer, self).__init__()\n",
    "        self.conv = nn.Conv1d(nFeature, nFeature, kernel_size=5, dilation=3 ,padding='same')\n",
    "        self.batchNorm = nn.BatchNorm1d(nFeature)\n",
    "        self.selu = nn.SELU()\n",
    "        self.batchNorm2 = nn.BatchNorm1d(nFeature)\n",
    "                \n",
    "    def forward(self, x):\n",
    "        res = x\n",
    "        x = self.conv(x)\n",
    "        x = self.batchNorm(x)\n",
    "        x = self.selu(x)\n",
    "        \n",
    "        res = self.batchNorm2(res)\n",
    "        x += res\n",
    "        return x\n",
    "\n",
    "class Encoder(nn.Module):\n",
    "    def __init__(self, nLayer=16, nFeature=32):\n",
    "        super(Encoder, self).__init__()\n",
    "        self.seq = nn.Sequential()\n",
    "        for i in range(nLayer):\n",
    "            self.seq.add_module(f'conv{i}', EncoderLayer(nFeature=nFeature))\n",
    "    \n",
    "    def forward(self, x):\n",
    "        x = self.seq(x)\n",
    "        return x\n",
    "\n",
    "    \n",
    "\n",
    "\n",
    "\n",
    "class TrajNet(pl.LightningModule):\n",
    "    def __init__(self, nhidden=8, nLayer=16, nFeature=32):\n",
    "        super(TrajNet, self).__init__()\n",
    "        self.conv_enc = nn.Conv1d(2, nFeature, kernel_size=1)\n",
    "        self.encoder = Encoder(nLayer=nLayer, nFeature=nFeature)\n",
    "        self.mu = nn.Linear(nFeature, nhidden)\n",
    "        self.log_var = nn.Linear(nFeature, nhidden)\n",
    "    \n",
    "    @staticmethod\n",
    "    def reparameterize(self, mu, log_var):\n",
    "        \"\"\"\n",
    "        :param mu: mean from the encoder's latent space\n",
    "        :param log_var: log variance from the encoder's latent space\n",
    "        \"\"\"\n",
    "        std = torch.exp(0.5*log_var) # standard deviation\n",
    "        eps = torch.randn_like(std) # `randn_like` as we need the same size\n",
    "        sample = mu + (eps * std) # sampling as if coming from the input space\n",
    "        return sample        \n",
    "        \n",
    "    def forward(self, x):\n",
    "        # x: (batch_size, 2, time_step)\n",
    "        x = self.conv_enc(x)\n",
    "        x = self.encoder(x)\n",
    "        x = x[:, :, 0]\n",
    "        x = x.flatten(1)\n",
    "        mu = self.mu(x)\n",
    "        log_var = self.log_var(x)\n",
    "        \n",
    "        \n",
    "        return mu, log_var\n",
    "    \n",
    "# model = TrajNet()\n",
    "# d = torch.rand(5, 2, 3)\n",
    "# d = model.forward(d)\n",
    "# d\n",
    "\n"
   ]
  },
  {
   "cell_type": "code",
   "execution_count": 28,
   "metadata": {},
   "outputs": [
    {
     "data": {
      "text/plain": [
       "torch.Size([5, 32, 15])"
      ]
     },
     "execution_count": 28,
     "metadata": {},
     "output_type": "execute_result"
    }
   ],
   "source": [
    "\n",
    "class DecoderLayer(nn.Module):\n",
    "    def __init__(self, nFeature=32):\n",
    "        super(DecoderLayer, self).__init__()\n",
    "        self.convT = nn.ConvTranspose1d(nFeature, nFeature, kernel_size=5, dilation=3)\n",
    "        self.batchNorm1 = nn.BatchNorm1d(nFeature)\n",
    "        self.selu = nn.SELU()\n",
    "        self.batchNorm2 = nn.BatchNorm1d(nFeature)\n",
    "        \n",
    "    def forward(self, x):\n",
    "        res = x\n",
    "        x = self.convT(x)\n",
    "        x = self.batchNorm1(x)\n",
    "        x = self.selu(x)\n",
    "        # res = self.batchNorm2(res)\n",
    "        # x += res\n",
    "        return x\n",
    "    \n",
    "model = DecoderLayer()\n",
    "model(torch.rand(5, 32, 3)).shape"
   ]
  },
  {
   "cell_type": "code",
   "execution_count": 37,
   "metadata": {},
   "outputs": [
    {
     "data": {
      "text/plain": [
       "torch.Size([22])"
      ]
     },
     "execution_count": 37,
     "metadata": {},
     "output_type": "execute_result"
    }
   ],
   "source": [
    "l = nn.ConvTranspose1d(3, 3, kernel_size=5, dilation=3)\n",
    "x = torch.rand(1, 3, 1)\n",
    "x = x.repeat(1, 1, 10)\n",
    "l(x)[0, 0, :].shape"
   ]
  }
 ],
 "metadata": {
  "kernelspec": {
   "display_name": "Python 3.8.13 ('py38')",
   "language": "python",
   "name": "python3"
  },
  "language_info": {
   "codemirror_mode": {
    "name": "ipython",
    "version": 3
   },
   "file_extension": ".py",
   "mimetype": "text/x-python",
   "name": "python",
   "nbconvert_exporter": "python",
   "pygments_lexer": "ipython3",
   "version": "3.8.13"
  },
  "orig_nbformat": 4,
  "vscode": {
   "interpreter": {
    "hash": "c38880c0b251f16d71f4d18036765822673f8ed835e0120528c8cebbbd5836f8"
   }
  }
 },
 "nbformat": 4,
 "nbformat_minor": 2
}

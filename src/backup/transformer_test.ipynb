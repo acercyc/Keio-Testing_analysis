{
 "cells": [
  {
   "cell_type": "code",
   "execution_count": 1,
   "metadata": {},
   "outputs": [
    {
     "name": "stderr",
     "output_type": "stream",
     "text": [
      "/home/acercyc/anaconda3/envs/py38/lib/python3.8/site-packages/tqdm/auto.py:22: TqdmWarning: IProgress not found. Please update jupyter and ipywidgets. See https://ipywidgets.readthedocs.io/en/stable/user_install.html\n",
      "  from .autonotebook import tqdm as notebook_tqdm\n"
     ]
    }
   ],
   "source": [
    "import numpy as np \n",
    "import pandas as pd\n",
    "import matplotlib.pyplot as plt\n",
    "import utils \n",
    "import torch\n",
    "from torch import nn\n"
   ]
  },
  {
   "cell_type": "code",
   "execution_count": 2,
   "metadata": {},
   "outputs": [
    {
     "data": {
      "text/plain": [
       "'cuda'"
      ]
     },
     "execution_count": 2,
     "metadata": {},
     "output_type": "execute_result"
    }
   ],
   "source": [
    "device = \"cuda\" if torch.cuda.is_available() else \"cpu\"\n",
    "device"
   ]
  },
  {
   "cell_type": "code",
   "execution_count": 3,
   "metadata": {},
   "outputs": [
    {
     "data": {
      "text/plain": [
       "[<matplotlib.lines.Line2D at 0x7f0d936592b0>]"
      ]
     },
     "execution_count": 3,
     "metadata": {},
     "output_type": "execute_result"
    },
    {
     "data": {
      "image/png": "[encoded data removed]",
      "text/plain": [
       "<Figure size 432x288 with 1 Axes>"
      ]
     },
     "metadata": {
      "needs_background": "light"
     },
     "output_type": "display_data"
    }
   ],
   "source": [
    "data = np.linspace(0, 2*np.pi, 64)\n",
    "data = np.sin(data)\n",
    "data = np.tile(data, (128, 1))\n",
    "data = data + np.random.random(data.shape)/2\n",
    "plt.plot(data[0, :])"
   ]
  },
  {
   "cell_type": "code",
   "execution_count": 105,
   "metadata": {},
   "outputs": [],
   "source": [
    "nFeature = 16\n",
    "class model_1(nn.Module):\n",
    "    def __init__(self, nFeature=nFeature, nhead=1, dim_feedforward=16, num_layers=1, dropout=0.1):\n",
    "        super(model_1, self).__init__()\n",
    "        encoder_ = nn.TransformerEncoderLayer(d_model=nFeature,\n",
    "                                        nhead=nhead,\n",
    "                                        dim_feedforward=dim_feedforward,\n",
    "                                        batch_first=True, \n",
    "                                        activation='gelu',\n",
    "                                        dropout=dropout)\n",
    "        self.encoder = nn.TransformerEncoder(encoder_, num_layers=num_layers)\n",
    "\n",
    "    def forward(self, x):\n",
    "        y = self.encoder(x)\n",
    "        return y\n",
    "\n",
    "\n",
    "\n",
    "model = model_1().to(device)\n",
    "x = torch.from_numpy(data).float().to(device)\n",
    "x = x.unsqueeze(2)\n",
    "x = x.repeat((1, 1, nFeature))\n",
    "\n",
    "optimizer = torch.optim.Adam(model.parameters(), lr=0.001)\n",
    "criterion = nn.MSELoss()\n",
    "# model = model_1()\n",
    "# x = torch.rand(32, 10, nFeature)\n",
    "# y = model(x)\n",
    "# y"
   ]
  },
  {
   "cell_type": "code",
   "execution_count": 54,
   "metadata": {},
   "outputs": [],
   "source": [
    "nFeature = 16\n",
    "class model_1(nn.Module):\n",
    "    def __init__(self, nFeature=nFeature, nhead=1, dim_feedforward=16, num_layers=1, dropout=0.1):\n",
    "        super(model_1, self).__init__()\n",
    "        self.conv = nn.Conv1d(1, nFeature, 1)\n",
    "        encoder_ = nn.TransformerEncoderLayer(d_model=nFeature,\n",
    "                                        nhead=nhead,\n",
    "                                        dim_feedforward=dim_feedforward,\n",
    "                                        batch_first=True, \n",
    "                                        activation='gelu',\n",
    "                                        dropout=dropout)\n",
    "        self.encoder = nn.TransformerEncoder(encoder_, num_layers=num_layers)\n",
    "\n",
    "    def forward(self, x):\n",
    "        x = x.permute(0, 2, 1)\n",
    "        x = self.conv(x)\n",
    "        x = x.permute(0, 2, 1)\n",
    "        y = self.encoder(x)\n",
    "        y = y[:, :, 0:1]\n",
    "        return y\n",
    "\n",
    "\n",
    "\n",
    "model = model_1().to(device)\n",
    "x = torch.from_numpy(data).float().to(device)\n",
    "x = x.unsqueeze(2)\n",
    "# x = x.repeat((1, 1, nFeature))\n",
    "\n",
    "optimizer = torch.optim.Adam(model.parameters(), lr=0.001)\n",
    "criterion = nn.MSELoss()\n",
    "# model = model_1()\n",
    "# x = torch.rand(32, 10, nFeature)\n",
    "y = model(x)\n",
    "# y"
   ]
  },
  {
   "cell_type": "code",
   "execution_count": 99,
   "metadata": {},
   "outputs": [],
   "source": [
    "model.train()\n",
    "for epoch in range(100):\n",
    "    optimizer.zero_grad()\n",
    "    y = model(x)\n",
    "    loss = criterion(x, y)\n",
    "    loss.backward()\n",
    "    optimizer.step() \n",
    "    # print(loss.item())\n"
   ]
  },
  {
   "cell_type": "code",
   "execution_count": 91,
   "metadata": {},
   "outputs": [],
   "source": [
    "nTime = np.arange(30, 50)"
   ]
  },
  {
   "cell_type": "code",
   "execution_count": 102,
   "metadata": {},
   "outputs": [],
   "source": [
    "# vari length\n",
    "model.train()\n",
    "x_ = x[:, nTime, :]\n",
    "for epoch in range(100):\n",
    "    optimizer.zero_grad()\n",
    "    y_ = model(x_)\n",
    "    loss = criterion(x_, y_)\n",
    "    loss.backward()\n",
    "    optimizer.step() \n",
    "    # print(loss.item())"
   ]
  },
  {
   "cell_type": "code",
   "execution_count": 103,
   "metadata": {},
   "outputs": [
    {
     "data": {
      "text/plain": [
       "[<matplotlib.lines.Line2D at 0x7f0d4fd25b50>]"
      ]
     },
     "execution_count": 103,
     "metadata": {},
     "output_type": "execute_result"
    },
    {
     "data": {
      "image/png": "[encoded data removed]",
      "text/plain": [
       "<Figure size 432x288 with 1 Axes>"
      ]
     },
     "metadata": {
      "needs_background": "light"
     },
     "output_type": "display_data"
    }
   ],
   "source": [
    "model.eval()\n",
    "y = model(x)\n",
    "y_ = y.detach().cpu().numpy()\n",
    "x_ = x.detach().cpu().numpy()\n",
    "plt.figure()\n",
    "plt.plot(x_[0, :, 0])\n",
    "plt.plot(y_[0, :, 0])\n",
    "# y_"
   ]
  },
  {
   "cell_type": "code",
   "execution_count": 104,
   "metadata": {},
   "outputs": [
    {
     "data": {
      "text/plain": [
       "[<matplotlib.lines.Line2D at 0x7f0d4fc96100>]"
      ]
     },
     "execution_count": 104,
     "metadata": {},
     "output_type": "execute_result"
    },
    {
     "data": {
      "image/png": "[encoded data removed]",
      "text/plain": [
       "<Figure size 432x288 with 1 Axes>"
      ]
     },
     "metadata": {
      "needs_background": "light"
     },
     "output_type": "display_data"
    }
   ],
   "source": [
    "model.eval()\n",
    "x_ = x[:, nTime, :]\n",
    "y_ = model(x_)\n",
    "y_ = y_.detach().cpu().numpy()\n",
    "x_ = x_.detach().cpu().numpy()\n",
    "plt.figure()\n",
    "plt.plot(x_[0, :, 0])\n",
    "plt.plot(y_[0, :, 0])"
   ]
  },
  {
   "cell_type": "code",
   "execution_count": null,
   "metadata": {},
   "outputs": [],
   "source": []
  },
  {
   "cell_type": "code",
   "execution_count": 100,
   "metadata": {},
   "outputs": [
    {
     "data": {
      "text/plain": [
       "tensor([[[-0.2434, -1.4392,  0.5353,  ...,  0.9233, -1.2760,  0.5801],\n",
       "         [-0.1185, -1.3067,  0.6932,  ...,  0.7176, -1.1372, -0.5397],\n",
       "         [-0.2910, -1.2665,  0.3510,  ...,  1.1704, -1.1281, -0.6259],\n",
       "         ...,\n",
       "         [-0.0893, -1.2042,  0.6019,  ...,  1.0468, -1.0753, -0.8406],\n",
       "         [-0.1866, -1.2717,  0.3409,  ...,  0.5146, -1.2568, -0.9440],\n",
       "         [-0.1801, -1.2614,  0.7197,  ...,  0.9568, -1.0962, -0.8571]],\n",
       "\n",
       "        [[-0.2466, -1.2822,  1.0870,  ...,  0.9956, -1.1564, -0.5900],\n",
       "         [-0.2462, -1.3793,  0.5473,  ...,  0.9610, -1.3288,  0.5830],\n",
       "         [-0.2347, -1.2120,  1.0680,  ...,  1.2679, -1.1363, -0.8281],\n",
       "         ...,\n",
       "         [-0.2009, -1.3976,  0.6164,  ...,  0.8462, -1.3192, -0.7910],\n",
       "         [ 0.3516, -1.5027,  0.3049,  ...,  0.9072,  0.5303, -0.9750],\n",
       "         [-0.3085, -1.5104,  0.9582,  ...,  0.5975,  0.7982, -0.9941]],\n",
       "\n",
       "        [[-0.2522, -1.5760,  1.4251,  ...,  0.8641,  0.8847, -0.8602],\n",
       "         [-0.4269, -1.3487,  0.8484,  ...,  0.7410, -1.3087, -0.7282],\n",
       "         [-0.0736, -1.2486,  0.5930,  ...,  0.7530, -1.0813, -0.7889],\n",
       "         ...,\n",
       "         [-0.2908, -1.2353,  0.3424,  ...,  0.6998, -1.2326, -0.8403],\n",
       "         [ 0.0638, -1.3219,  0.7554,  ...,  0.8499, -1.1593, -0.7435],\n",
       "         [-0.1898,  1.0729,  0.0765,  ...,  0.7854, -1.3193, -0.6947]],\n",
       "\n",
       "        ...,\n",
       "\n",
       "        [[ 0.5392, -1.3826,  0.5090,  ...,  0.9658, -1.1869, -0.5941],\n",
       "         [-0.1899, -1.0600,  0.2403,  ...,  0.9152, -1.3778, -0.7115],\n",
       "         [ 0.3274, -1.4412,  0.1272,  ...,  0.4573, -1.3386,  0.3104],\n",
       "         ...,\n",
       "         [ 0.2123, -1.2654,  0.6803,  ...,  1.0744, -1.1049, -0.8048],\n",
       "         [-0.2361, -1.2937,  0.5732,  ...,  1.2059, -1.0794, -0.8822],\n",
       "         [-0.2704, -1.3290,  0.4012,  ...,  0.7263, -1.2072,  0.4411]],\n",
       "\n",
       "        [[ 0.1217, -1.2074,  0.6751,  ...,  1.2434, -0.9082, -0.7618],\n",
       "         [ 0.0279, -1.3887,  0.9802,  ...,  1.1961, -1.1149, -0.7234],\n",
       "         [ 0.0661, -1.4823,  1.1155,  ...,  1.3855, -1.1409, -0.6994],\n",
       "         ...,\n",
       "         [-0.2086,  0.8011, -0.1104,  ...,  0.2358, -1.4448, -1.1237],\n",
       "         [-0.3139,  0.9549,  0.6051,  ...,  0.7402, -1.2191, -1.0648],\n",
       "         [-0.4582, -1.3679,  0.2592,  ...,  0.3256,  0.4618, -1.1521]],\n",
       "\n",
       "        [[-0.0581, -1.1453,  0.6851,  ...,  1.0464, -0.9903, -0.7200],\n",
       "         [-0.0767, -1.2563,  0.7074,  ...,  0.7354, -1.0842, -0.8055],\n",
       "         [-0.1976, -1.2513,  1.1294,  ...,  0.9519, -1.1038, -0.8460],\n",
       "         ...,\n",
       "         [-0.1192, -1.2467,  0.6496,  ...,  1.0339, -1.0901, -0.7978],\n",
       "         [-0.1427, -1.2727,  0.6709,  ...,  1.0332, -1.0809, -0.8027],\n",
       "         [-0.1163, -1.1979,  0.6683,  ...,  1.0067, -1.0977, -0.7996]]],\n",
       "       device='cuda:0', grad_fn=<NativeLayerNormBackward0>)"
      ]
     },
     "execution_count": 100,
     "metadata": {},
     "output_type": "execute_result"
    }
   ],
   "source": [
    "nFeature = 10\n",
    "encoder_layer = nn.TransformerEncoderLayer(d_model=nFeature, \n",
    "                                           nhead=1, \n",
    "                                           activation='gelu',\n",
    "                                           dim_feedforward=16,\n",
    "                                           batch_first=True)\n",
    "transformer_encoder = nn.TransformerEncoder(encoder_layer, num_layers=1)\n",
    "\n",
    "# src = torch.rand(32, 10, nFeature)\n",
    "\n",
    "src = torch.rand(32, 10, 1)\n",
    "src = src.repeat((1, 1, nFeature))\n",
    "\n",
    "\n",
    "\n",
    "# out = transformer_encoder(src)\n",
    "# out\n",
    "\n",
    "transformer_encoder = transformer_encoder.to(device)\n",
    "out = transformer_encoder(src.to(device))\n",
    "out"
   ]
  },
  {
   "cell_type": "code",
   "execution_count": 80,
   "metadata": {},
   "outputs": [
    {
     "data": {
      "text/plain": [
       "tensor([[[-0.4016, -0.3352, -1.3450,  ..., -0.6946,  0.1325, -0.2213],\n",
       "         [-0.6497, -1.2454, -0.2542,  ..., -0.4871,  0.0460, -0.7788],\n",
       "         [-1.2152, -0.6605, -1.2638,  ..., -0.2336, -0.1403, -0.3001],\n",
       "         ...,\n",
       "         [-0.4580,  0.0149,  0.6100,  ..., -0.0617,  0.5307,  1.1141],\n",
       "         [-0.9561, -0.8807, -0.4972,  ..., -0.4643,  0.3281, -0.1904],\n",
       "         [-0.1114,  0.2439, -0.9574,  ..., -1.1174,  0.5744,  0.6816]],\n",
       "\n",
       "        [[-0.5458, -0.6337, -0.8612,  ..., -0.4901,  0.6178, -0.7928],\n",
       "         [-0.7211, -0.8112, -0.6624,  ..., -0.6258,  0.2720, -0.4216],\n",
       "         [-0.6884, -0.3801, -0.5452,  ...,  0.4263, -0.1700, -0.1761],\n",
       "         ...,\n",
       "         [-0.1838, -0.0241, -0.4391,  ...,  0.2536,  0.2154, -0.0642],\n",
       "         [ 0.0405, -1.1664, -0.2536,  ...,  0.1347, -0.2475,  0.2564],\n",
       "         [-0.5082, -0.1030, -1.1790,  ..., -0.7871,  0.7200, -0.1388]],\n",
       "\n",
       "        [[-0.7778, -0.9378, -1.2282,  ..., -0.5236,  0.6272, -1.0475],\n",
       "         [-0.9951, -0.8284, -1.5453,  ..., -0.1544,  0.3394, -0.9572],\n",
       "         [-0.3277, -0.7168,  0.0102,  ...,  0.2567, -0.3546,  0.6157],\n",
       "         ...,\n",
       "         [-0.6118, -0.5312,  0.3291,  ...,  1.0981, -0.6019,  0.2240],\n",
       "         [-0.5813, -1.4520,  0.2873,  ..., -0.4976, -0.2493,  0.3890],\n",
       "         [-1.4212, -0.0251, -1.0990,  ..., -0.8199, -0.2435,  0.8206]],\n",
       "\n",
       "        ...,\n",
       "\n",
       "        [[-0.7847,  0.0557, -1.1427,  ..., -0.3980,  0.2110, -0.5024],\n",
       "         [-0.6586, -0.0669, -1.5611,  ..., -0.3906,  0.1054, -0.6666],\n",
       "         [-0.9813, -0.2661, -0.8019,  ..., -0.4215, -0.1917,  0.1149],\n",
       "         ...,\n",
       "         [-0.1973, -0.5601, -0.3833,  ...,  0.4697,  0.2851, -0.3980],\n",
       "         [-0.0274, -1.3702,  0.0423,  ...,  0.0232, -0.0291,  1.0268],\n",
       "         [-0.2209,  0.0066, -0.4037,  ..., -1.1977,  0.6527,  0.2944]],\n",
       "\n",
       "        [[-0.9222, -0.8716, -0.3968,  ..., -1.1593,  0.2675, -0.3575],\n",
       "         [-1.3810, -0.8448, -1.4962,  ..., -0.6157,  0.8820,  0.2471],\n",
       "         [-1.7117, -0.5404, -0.7705,  ..., -0.3823, -0.1007,  0.0671],\n",
       "         ...,\n",
       "         [-0.1577,  0.0249,  0.1494,  ..., -0.4772, -0.0959,  0.1685],\n",
       "         [-0.5552, -0.6861,  0.2344,  ..., -0.8312, -0.7255,  0.4355],\n",
       "         [-0.5373, -0.4709, -0.8201,  ..., -0.8508,  0.3769,  0.7181]],\n",
       "\n",
       "        [[-0.7474, -0.5335, -0.5952,  ..., -0.3067,  1.0964, -1.0459],\n",
       "         [-0.9650, -1.1055, -1.0989,  ..., -1.0519,  1.2165,  0.8720],\n",
       "         [-1.0707, -0.2564, -0.4432,  ...,  0.6762, -0.6404,  0.6455],\n",
       "         ...,\n",
       "         [ 0.2585,  0.2082,  0.0119,  ...,  0.0597, -0.1705,  0.5129],\n",
       "         [-0.1474, -1.6406,  0.0755,  ..., -0.4348, -0.7594,  0.6138],\n",
       "         [ 0.1133, -0.3104,  0.0412,  ..., -2.2045, -0.1942,  0.3359]]],\n",
       "       grad_fn=<NativeLayerNormBackward0>)"
      ]
     },
     "execution_count": 80,
     "metadata": {},
     "output_type": "execute_result"
    }
   ],
   "source": [
    "encoder_layer = nn.TransformerEncoderLayer(d_model=512, nhead=8)\n",
    "transformer_encoder = nn.TransformerEncoder(encoder_layer, num_layers=6)\n",
    "src = torch.rand(10, 32, 512)\n",
    "out = transformer_encoder(src)\n",
    "out"
   ]
  }
 ],
 "metadata": {
  "kernelspec": {
   "display_name": "Python 3.8.13 ('py38')",
   "language": "python",
   "name": "python3"
  },
  "language_info": {
   "codemirror_mode": {
    "name": "ipython",
    "version": 3
   },
   "file_extension": ".py",
   "mimetype": "text/x-python",
   "name": "python",
   "nbconvert_exporter": "python",
   "pygments_lexer": "ipython3",
   "version": "3.8.13"
  },
  "orig_nbformat": 4,
  "vscode": {
   "interpreter": {
    "hash": "c38880c0b251f16d71f4d18036765822673f8ed835e0120528c8cebbbd5836f8"
   }
  }
 },
 "nbformat": 4,
 "nbformat_minor": 2
}

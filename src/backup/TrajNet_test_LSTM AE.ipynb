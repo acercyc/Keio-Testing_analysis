{
 "cells": [
  {
   "cell_type": "code",
   "execution_count": 3,
   "metadata": {},
   "outputs": [
    {
     "name": "stderr",
     "output_type": "stream",
     "text": [
      "/home/acercyc/anaconda3/envs/py38/lib/python3.8/site-packages/pytorch_lightning/loggers/wandb.py:347: UserWarning: There is a wandb run already in progress and newly created instances of `WandbLogger` will reuse this run. If this is not desired, call `wandb.finish()` before instantiating `WandbLogger`.\n",
      "  rank_zero_warn(\n"
     ]
    }
   ],
   "source": [
    "\n",
    "import numpy as np \n",
    "import pandas as pd\n",
    "import matplotlib.pyplot as plt\n",
    "import utils \n",
    "import torch\n",
    "from torch import nn\n",
    "from torchsummary import summary\n",
    "from einops import rearrange, reduce, repeat\n",
    "\n",
    "import pytorch_lightning as pl\n",
    "from pytorch_lightning.loggers import WandbLogger\n",
    "wandb_logger = WandbLogger(project=\"LSTM_AE\")\n",
    "\n",
    "\n",
    "\n"
   ]
  },
  {
   "cell_type": "code",
   "execution_count": 4,
   "metadata": {},
   "outputs": [],
   "source": [
    "# import wandb\n",
    "# wandb.init()\n"
   ]
  },
  {
   "cell_type": "code",
   "execution_count": 5,
   "metadata": {},
   "outputs": [
    {
     "data": {
      "text/plain": [
       "'cuda'"
      ]
     },
     "execution_count": 5,
     "metadata": {},
     "output_type": "execute_result"
    }
   ],
   "source": [
    "device = \"cuda\" if torch.cuda.is_available() else \"cpu\"\n",
    "device"
   ]
  },
  {
   "cell_type": "code",
   "execution_count": 6,
   "metadata": {},
   "outputs": [],
   "source": [
    "\n",
    "class SpiralDataset(torch.utils.data.Dataset):\n",
    "    def __init__(self, nTime=72, nBatch=64, seed=0):\n",
    "        self.data = utils.SynthData.spiral(nTime, nBatch, seed)\n",
    "        \n",
    "    def __getitem__(self, idx):\n",
    "        return self.data[idx, :, :]\n",
    "        \n",
    "    def __len__(self):\n",
    "        return self.data.shape[0]\n",
    "        \n",
    "            \n",
    "\n",
    "class SynthDataModule(pl.LightningDataModule):\n",
    "    def __init__(self):\n",
    "        self.prepare_data_per_node = False\n",
    "        self._log_hyperparams = True\n",
    "        self.dataset_train = SpiralDataset()\n",
    "        \n",
    "    def train_dataloader(self):\n",
    "        return torch.utils.data.DataLoader(self.dataset_train, batch_size=64, shuffle=True)\n",
    "        \n"
   ]
  },
  {
   "cell_type": "code",
   "execution_count": 7,
   "metadata": {},
   "outputs": [],
   "source": [
    "class EncoderLayer(nn.Module):\n",
    "    def __init__(self, nFeature=32, dropout=0.1):\n",
    "        super(EncoderLayer, self).__init__()        \n",
    "        self.lstm = nn.LSTM(nFeature, nFeature, 1, batch_first=True)\n",
    "        self.selu = nn.SELU()\n",
    "        self.dropout = nn.Dropout(dropout)\n",
    "                \n",
    "    def forward(self, x, hc=None):   \n",
    "        # b t f \n",
    "        res = x\n",
    "        if hc is None:\n",
    "            x, hidden = self.lstm(x)\n",
    "        else:\n",
    "            x, hidden = self.lstm(x, hc)\n",
    "        x = self.selu(x)\n",
    "        x += res\n",
    "        x = self.dropout(x)\n",
    "        return x\n",
    "\n",
    "\n",
    "class Encoder(nn.Module):\n",
    "    def __init__(self, nLayer=8, nFeature=32, dropout=0.1):\n",
    "        super(Encoder, self).__init__()\n",
    "        self.seq = nn.Sequential()\n",
    "        for i in range(nLayer):\n",
    "            self.seq.add_module(f'lstm{i}', EncoderLayer(nFeature=nFeature))\n",
    "            \n",
    "    def forward(self, x):\n",
    "        x = self.seq(x)        \n",
    "        return x\n",
    "        \n",
    "# model = Encoder()\n",
    "# model(torch.rand(3, 10, 32)).shape"
   ]
  },
  {
   "cell_type": "code",
   "execution_count": 8,
   "metadata": {},
   "outputs": [],
   "source": [
    "\n",
    "class DecoderLayer(nn.Module):\n",
    "    def __init__(self, nFeature=32, dropout=0.1):\n",
    "        super(DecoderLayer, self).__init__()\n",
    "        self.lstm = nn.LSTM(nFeature, nFeature, 1, batch_first=True)\n",
    "        self.selu = nn.SELU()\n",
    "        self.dropout = nn.Dropout(dropout)\n",
    "        \n",
    "    def forward(self, x, hc=None):   \n",
    "        # b t f \n",
    "        res = x\n",
    "        if hc is None:\n",
    "            x, hidden = self.lstm(x)\n",
    "        else:\n",
    "            x, hidden = self.lstm(x, hc)\n",
    "        x = self.selu(x)\n",
    "        x += res\n",
    "        x = self.dropout(x)\n",
    "        return x\n",
    "    \n",
    "\n",
    "class Decoder(nn.Module):\n",
    "    def __init__(self, nLayer=8, nFeature=32, dropout=0.1):\n",
    "        super(Decoder, self).__init__()\n",
    "        self.seq = nn.Sequential()\n",
    "        for i in range(nLayer):\n",
    "            self.seq.add_module(f'lstm{i}', DecoderLayer(nFeature=nFeature))\n",
    "            \n",
    "    def forward(self, x):\n",
    "        x = self.seq(x)        \n",
    "        return x  \n",
    "    \n",
    "# model = Decoder()\n",
    "# model(torch.rand(5, 3, 32)).shape"
   ]
  },
  {
   "cell_type": "code",
   "execution_count": 14,
   "metadata": {},
   "outputs": [],
   "source": [
    "class TrajNet(pl.LightningModule):\n",
    "    def __init__(self, nhidden=16, nLayer=8, nFeature=32, dropout=0.02):\n",
    "        super(TrajNet, self).__init__()\n",
    "\n",
    "        # Encoder\n",
    "        self.conv_enc = nn.Conv1d(2, nFeature, kernel_size=1)\n",
    "        self.dropout_enc = nn.Dropout(dropout)\n",
    "        self.encoder = Encoder(\n",
    "            nLayer=nLayer, nFeature=nFeature, dropout=dropout)\n",
    "\n",
    "        # Hidden\n",
    "        self.preZ = nn.Linear(nFeature, nhidden)\n",
    "        self.postZ = nn.Linear(nhidden, nFeature)\n",
    "\n",
    "        # Decoder\n",
    "        self.conv_dec1 = nn.Conv1d(nhidden, nFeature, kernel_size=1)\n",
    "        self.decoder = Decoder(\n",
    "            nLayer=nLayer, nFeature=nFeature, dropout=dropout)\n",
    "        self.conv_dec2 = nn.Conv1d(nFeature, 2, kernel_size=1)\n",
    "\n",
    "    @staticmethod\n",
    "    def reparameterize(mu, log_var, nTime):\n",
    "        mu = repeat(mu, 'b f -> b t f', t=nTime)\n",
    "        std = torch.exp(0.5*log_var)  # standard deviation\n",
    "        std = repeat(std, 'b f -> b t f', t=nTime)\n",
    "        sample = torch.normal(mu, std) # b f\n",
    "        # sample = repeat(sample, 'b f -> b t f', t=nTime)\n",
    "        return sample\n",
    "\n",
    "    def forward(self, x):\n",
    "        # x: b t f\n",
    "        nTime = x.shape[1]\n",
    "        # --------------------------------- encoding --------------------------------- #\n",
    "        x = rearrange(x, 'b t f -> b f t')\n",
    "        x = self.conv_enc(x)\n",
    "        # x = self.dropout_enc(x)\n",
    "        x = rearrange(x, 'b f t -> b t f')\n",
    "        x = self.encoder(x)\n",
    "        x = x[:, -1, :]\n",
    "\n",
    "        # ---------------------------------- hidden ---------------------------------- #\n",
    "        x = self.preZ(x)\n",
    "        z = torch.tanh(x)\n",
    "        y = self.postZ(z)\n",
    "        y = torch.tanh(z)\n",
    "        y = repeat(y, 'b f -> b t f', t=nTime)\n",
    "\n",
    "        # --------------------------------- decoding --------------------------------- #\n",
    "        y = rearrange(y, 'b t f -> b f t')\n",
    "        y = self.conv_dec1(y)\n",
    "        y = rearrange(y, 'b f t -> b t f')\n",
    "        y = self.decoder(y)\n",
    "        # y = y[:, :, 0:2]\n",
    "        y = rearrange(y, 'b t f -> b f t')\n",
    "        y = self.conv_dec2(y)\n",
    "        y = rearrange(y, 'b f t -> b t f')\n",
    "\n",
    "        return y\n",
    "    \n",
    "    def training_step(self, batch, batch_idx):\n",
    "        y = self.forward(batch)\n",
    "        loss = torch.nn.functional.mse_loss(y, batch)\n",
    "        self.log('train_loss', loss)\n",
    "        return loss\n",
    "\n",
    "    def configure_optimizers(self):\n",
    "        return torch.optim.Adam(self.parameters(), lr=0.001)\n",
    "\n",
    "# model = TrajNet()\n",
    "# # b t f\n",
    "# d = torch.rand(5, 3, 2)\n",
    "# d = model.forward(d)\n"
   ]
  },
  {
   "cell_type": "code",
   "execution_count": 15,
   "metadata": {},
   "outputs": [],
   "source": [
    "dataMD = SynthDataModule()\n",
    "model = TrajNet().double()\n"
   ]
  },
  {
   "cell_type": "code",
   "execution_count": 49,
   "metadata": {},
   "outputs": [
    {
     "name": "stderr",
     "output_type": "stream",
     "text": [
      "GPU available: True, used: False\n",
      "TPU available: False, using: 0 TPU cores\n",
      "IPU available: False, using: 0 IPUs\n",
      "HPU available: False, using: 0 HPUs\n",
      "/home/acercyc/anaconda3/envs/py38/lib/python3.8/site-packages/pytorch_lightning/trainer/trainer.py:1814: PossibleUserWarning: GPU available but not used. Set `accelerator` and `devices` using `Trainer(accelerator='gpu', devices=2)`.\n",
      "  rank_zero_warn(\n",
      "/home/acercyc/anaconda3/envs/py38/lib/python3.8/site-packages/pytorch_lightning/callbacks/model_checkpoint.py:611: UserWarning: Checkpoint directory /home/acercyc/projects/Keio Testing_analysis/src/VAE/3g58jpq0/checkpoints exists and is not empty.\n",
      "  rank_zero_warn(f\"Checkpoint directory {dirpath} exists and is not empty.\")\n",
      "\n",
      "  | Name        | Type    | Params\n",
      "----------------------------------------\n",
      "0 | conv_enc    | Conv1d  | 96    \n",
      "1 | dropout_enc | Dropout | 0     \n",
      "2 | encoder     | Encoder | 67.6 K\n",
      "3 | preZ        | Linear  | 528   \n",
      "4 | postZ       | Linear  | 544   \n",
      "5 | conv_dec1   | Conv1d  | 544   \n",
      "6 | decoder     | Decoder | 67.6 K\n",
      "7 | conv_dec2   | Conv1d  | 66    \n",
      "----------------------------------------\n",
      "136 K     Trainable params\n",
      "0         Non-trainable params\n",
      "136 K     Total params\n",
      "0.548     Total estimated model params size (MB)\n",
      "/home/acercyc/anaconda3/envs/py38/lib/python3.8/site-packages/pytorch_lightning/trainer/connectors/data_connector.py:240: PossibleUserWarning: The dataloader, train_dataloader, does not have many workers which may be a bottleneck. Consider increasing the value of the `num_workers` argument` (try 12 which is the number of cpus on this machine) in the `DataLoader` init to improve performance.\n",
      "  rank_zero_warn(\n",
      "/home/acercyc/anaconda3/envs/py38/lib/python3.8/site-packages/pytorch_lightning/trainer/trainer.py:1933: PossibleUserWarning: The number of training batches (1) is smaller than the logging interval Trainer(log_every_n_steps=10). Set a lower value for log_every_n_steps if you want to see logs for the training epoch.\n",
      "  rank_zero_warn(\n"
     ]
    },
    {
     "data": {
      "application/vnd.jupyter.widget-view+json": {
       "model_id": "6ba90e602df24910b3e4478458f11d46",
       "version_major": 2,
       "version_minor": 0
      },
      "text/plain": [
       "Training: 0it [00:00, ?it/s]"
      ]
     },
     "metadata": {},
     "output_type": "display_data"
    }
   ],
   "source": [
    "trainer = pl.Trainer(max_epochs=100000, logger=wandb_logger, log_every_n_steps=10)\n",
    "trainer.fit(model, dataMD)\n",
    "# trainer.optimizers[0]"
   ]
  },
  {
   "cell_type": "code",
   "execution_count": 101,
   "metadata": {},
   "outputs": [
    {
     "data": {
      "text/plain": [
       "[<matplotlib.lines.Line2D at 0x7f621ef058b0>]"
      ]
     },
     "execution_count": 101,
     "metadata": {},
     "output_type": "execute_result"
    },
    {
     "data": {
      "image/png": "[encoded data removed]",
      "text/plain": [
       "<Figure size 432x288 with 1 Axes>"
      ]
     },
     "metadata": {
      "needs_background": "light"
     },
     "output_type": "display_data"
    }
   ],
   "source": [
    "x = dataMD.dataset_train[np.random.randint(0, len(dataMD.dataset_train))]\n",
    "model.eval()\n",
    "y = model(torch.from_numpy(x).unsqueeze(0))\n",
    "y = y.detach().numpy().squeeze()\n",
    "fig, ax = plt.subplots(1, 1)\n",
    "ax.plot(x[:, 0], x[:, 1], '-')\n",
    "ax.plot(y[:, 0], y[:, 1], '-')b\n"
   ]
  },
  {
   "cell_type": "code",
   "execution_count": 152,
   "metadata": {},
   "outputs": [
    {
     "data": {
      "text/plain": [
       "[<matplotlib.lines.Line2D at 0x7f621d9ccd60>]"
      ]
     },
     "execution_count": 152,
     "metadata": {},
     "output_type": "execute_result"
    },
    {
     "data": {
      "image/png": "[encoded data removed]",
      "text/plain": [
       "<Figure size 432x288 with 1 Axes>"
      ]
     },
     "metadata": {
      "needs_background": "light"
     },
     "output_type": "display_data"
    }
   ],
   "source": [
    "dataset_eval = SpiralDataset(seed=1)\n",
    "x = dataset_eval[np.random.randint(0, len(dataset_eval))]\n",
    "model.eval()\n",
    "y = model(torch.from_numpy(x).unsqueeze(0))\n",
    "y = y.detach().numpy().squeeze()\n",
    "fig, ax = plt.subplots(1, 1)\n",
    "ax.plot(x[:, 0], x[:, 1], '-')\n",
    "ax.plot(y[:, 0], y[:, 1], '-')\n"
   ]
  }
 ],
 "metadata": {
  "kernelspec": {
   "display_name": "Python 3.8.13 ('py38')",
   "language": "python",
   "name": "python3"
  },
  "language_info": {
   "codemirror_mode": {
    "name": "ipython",
    "version": 3
   },
   "file_extension": ".py",
   "mimetype": "text/x-python",
   "name": "python",
   "nbconvert_exporter": "python",
   "pygments_lexer": "ipython3",
   "version": "3.8.13"
  },
  "orig_nbformat": 4,
  "vscode": {
   "interpreter": {
    "hash": "c38880c0b251f16d71f4d18036765822673f8ed835e0120528c8cebbbd5836f8"
   }
  }
 },
 "nbformat": 4,
 "nbformat_minor": 2
}

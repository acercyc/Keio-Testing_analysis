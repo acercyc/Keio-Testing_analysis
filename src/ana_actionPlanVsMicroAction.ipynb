{
 "cells": [
  {
   "cell_type": "code",
   "execution_count": 1,
   "metadata": {},
   "outputs": [
    {
     "name": "stdout",
     "output_type": "stream",
     "text": [
      "(-0.8912799047605414, 0.3749185174912557)\n",
      "(1.0171097212822693, 0.3091012362386931)\n"
     ]
    }
   ],
   "source": [
    "import numpy as np\n",
    "import pandas as pd\n",
    "import corrstats\n",
    "\n",
    "\n"
   ]
  },
  {
   "attachments": {},
   "cell_type": "markdown",
   "metadata": {},
   "source": [
    "# One dot analysis"
   ]
  },
  {
   "cell_type": "code",
   "execution_count": 2,
   "metadata": {},
   "outputs": [
    {
     "data": {
      "text/html": [
       "<div>\n",
       "<style scoped>\n",
       "    .dataframe tbody tr th:only-of-type {\n",
       "        vertical-align: middle;\n",
       "    }\n",
       "\n",
       "    .dataframe tbody tr th {\n",
       "        vertical-align: top;\n",
       "    }\n",
       "\n",
       "    .dataframe thead th {\n",
       "        text-align: right;\n",
       "    }\n",
       "</style>\n",
       "<table border=\"1\" class=\"dataframe\">\n",
       "  <thead>\n",
       "    <tr style=\"text-align: right;\">\n",
       "      <th></th>\n",
       "      <th>z</th>\n",
       "      <th>p</th>\n",
       "    </tr>\n",
       "  </thead>\n",
       "  <tbody>\n",
       "    <tr>\n",
       "      <th>H</th>\n",
       "      <td>4.548113</td>\n",
       "      <td>0.000005</td>\n",
       "    </tr>\n",
       "    <tr>\n",
       "      <th>S</th>\n",
       "      <td>2.750419</td>\n",
       "      <td>0.005952</td>\n",
       "    </tr>\n",
       "  </tbody>\n",
       "</table>\n",
       "</div>"
      ],
      "text/plain": [
       "          z         p\n",
       "H  4.548113  0.000005\n",
       "S  2.750419  0.005952"
      ]
     },
     "execution_count": 2,
     "metadata": {},
     "output_type": "execute_result"
    }
   ],
   "source": [
    "# Action plan \n",
    "# ---\n",
    "# group n\tr\tCI95%\tp-val\tBF10\tpower\n",
    "# H\tpearson\t150\t0.923198\t[0.9, 0.94]\t2.429047e-63\t4.516e+59\t1.0\n",
    "# S\tpearson\t150\t0.903196\t[0.87, 0.93]\t3.145193e-56\t4.44e+52\t1.0\n",
    "\n",
    "# Micro action\n",
    "# ---\n",
    "# group n\tr\tCI95%\tp-val\tBF10\tpower\t\t\t\t\t\n",
    "# H\tpearson\t150\t0.793108\t[0.72, 0.85]\t1.114204e-33\t2.851e+30\t1.0\n",
    "# S\tpearson\t150\t0.823786\t[0.76, 0.87]\t2.618132e-38\t1.014e+35\t1.0\n",
    "\n",
    "# Compute the correlation difference\n",
    "corr_H = corrstats.independent_corr(0.923198, 0.793108, 150, 150)\n",
    "corr_S = corrstats.independent_corr(0.903196, 0.823786, 150, 150)\n",
    "\n",
    "pd.DataFrame([corr_H, corr_S], index=['H', 'S'], columns=['z', 'p'])"
   ]
  },
  {
   "attachments": {},
   "cell_type": "markdown",
   "metadata": {},
   "source": [
    "# Three dot task"
   ]
  },
  {
   "cell_type": "code",
   "execution_count": 3,
   "metadata": {},
   "outputs": [
    {
     "data": {
      "text/html": [
       "<div>\n",
       "<style scoped>\n",
       "    .dataframe tbody tr th:only-of-type {\n",
       "        vertical-align: middle;\n",
       "    }\n",
       "\n",
       "    .dataframe tbody tr th {\n",
       "        vertical-align: top;\n",
       "    }\n",
       "\n",
       "    .dataframe thead th {\n",
       "        text-align: right;\n",
       "    }\n",
       "</style>\n",
       "<table border=\"1\" class=\"dataframe\">\n",
       "  <thead>\n",
       "    <tr style=\"text-align: right;\">\n",
       "      <th></th>\n",
       "      <th>z</th>\n",
       "      <th>p</th>\n",
       "    </tr>\n",
       "  </thead>\n",
       "  <tbody>\n",
       "    <tr>\n",
       "      <th>H</th>\n",
       "      <td>8.331724</td>\n",
       "      <td>0.000000</td>\n",
       "    </tr>\n",
       "    <tr>\n",
       "      <th>S</th>\n",
       "      <td>0.850710</td>\n",
       "      <td>0.394931</td>\n",
       "    </tr>\n",
       "  </tbody>\n",
       "</table>\n",
       "</div>"
      ],
      "text/plain": [
       "          z         p\n",
       "H  8.331724  0.000000\n",
       "S  0.850710  0.394931"
      ]
     },
     "execution_count": 3,
     "metadata": {},
     "output_type": "execute_result"
    }
   ],
   "source": [
    "# Action plan \n",
    "# ---\n",
    "# group n\tr\tCI95%\tp-val\tBF10\tpower\n",
    "# H\tpearson\t150\t0.901101\t[0.87, 0.93]\t1.416483e-55\t1.008e+52\t1.0\n",
    "# S\tpearson\t150\t0.515420\t[0.39, 0.62]\t1.488498e-11\t6.341e+08\t1.0\n",
    "\n",
    "# Micro action\n",
    "# ---\n",
    "# group n\tr\tCI95%\tp-val\tBF10\tpower\t\t\t\t\t\n",
    "# H\tpearson\t150\t0.466989\t[0.33, 0.58]\t1.702185e-09\t6.474e+06\t0.999986\n",
    "# S\tpearson\t150\t0.438889\t[0.3, 0.56]\t1.931733e-08\t6.241e+05\t0.999917\n",
    "\n",
    "# Compute the correlation difference\n",
    "corr_H = corrstats.independent_corr(0.901101, 0.466989, 150, 150)\n",
    "corr_S = corrstats.independent_corr(0.515420, 0.438889, 150, 150)\n",
    "\n",
    "pd.DataFrame([corr_H, corr_S], index=['H', 'S'], columns=['z', 'p'])"
   ]
  }
 ],
 "metadata": {
  "kernelspec": {
   "display_name": "py310",
   "language": "python",
   "name": "python3"
  },
  "language_info": {
   "codemirror_mode": {
    "name": "ipython",
    "version": 3
   },
   "file_extension": ".py",
   "mimetype": "text/x-python",
   "name": "python",
   "nbconvert_exporter": "python",
   "pygments_lexer": "ipython3",
   "version": "3.10.9"
  },
  "orig_nbformat": 4,
  "vscode": {
   "interpreter": {
    "hash": "0bfe45cfa5af8caecc1324233dd1bb80b7f37bc486d77a1e494b9aae421ca5f7"
   }
  }
 },
 "nbformat": 4,
 "nbformat_minor": 2
}

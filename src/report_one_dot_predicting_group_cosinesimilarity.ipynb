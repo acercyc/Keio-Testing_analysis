{
 "cells": [
  {
   "cell_type": "code",
   "execution_count": 1,
   "metadata": {},
   "outputs": [],
   "source": [
    "import numpy as np\n",
    "import pandas as pd\n",
    "\n",
    "import utils\n",
    "from sklearn.metrics.pairwise import paired_distances\n",
    "from sklearn.linear_model import LogisticRegression\n",
    "from sklearn.preprocessing import StandardScaler\n",
    "import matplotlib.pyplot as plt\n",
    "import seaborn as sns \n",
    "import seaborn.objects as so\n",
    "\n"
   ]
  },
  {
   "cell_type": "code",
   "execution_count": 2,
   "metadata": {},
   "outputs": [],
   "source": [
    "import pandas as pd\n",
    "import matplotlib.pyplot as plt\n",
    "import matplotlib as mpl\n",
    "import plotnine as pn\n",
    "\n",
    "from sklearn.metrics.pairwise import cosine_similarity, paired_distances\n",
    "from sklearn.preprocessing import StandardScaler, scale\n",
    "from scipy.spatial import distance\n",
    "\n",
    "from einops import rearrange, reduce, repeat\n"
   ]
  },
  {
   "cell_type": "code",
   "execution_count": 3,
   "metadata": {},
   "outputs": [
    {
     "data": {
      "text/plain": [
       "<module 'utils' from '/home/acercyc/Project/Keio Testing_analysis/src/utils.py'>"
      ]
     },
     "execution_count": 3,
     "metadata": {},
     "output_type": "execute_result"
    }
   ],
   "source": [
    "import importlib\n",
    "importlib.reload(utils)\n"
   ]
  },
  {
   "cell_type": "code",
   "execution_count": 4,
   "metadata": {},
   "outputs": [],
   "source": [
    "fn = utils.path_data / 'ana_one_dot_predicting_individual_beh_profile_cossmilarity/prediction.csv'\n",
    "df = pd.read_csv(fn)"
   ]
  },
  {
   "cell_type": "code",
   "execution_count": 5,
   "metadata": {},
   "outputs": [
    {
     "data": {
      "text/html": [
       "<div>\n",
       "<style scoped>\n",
       "    .dataframe tbody tr th:only-of-type {\n",
       "        vertical-align: middle;\n",
       "    }\n",
       "\n",
       "    .dataframe tbody tr th {\n",
       "        vertical-align: top;\n",
       "    }\n",
       "\n",
       "    .dataframe thead th {\n",
       "        text-align: right;\n",
       "    }\n",
       "</style>\n",
       "<table border=\"1\" class=\"dataframe\">\n",
       "  <thead>\n",
       "    <tr style=\"text-align: right;\">\n",
       "      <th></th>\n",
       "      <th>participant</th>\n",
       "      <th>trial no.</th>\n",
       "      <th>actual control</th>\n",
       "      <th>angular bias</th>\n",
       "      <th>response</th>\n",
       "      <th>group</th>\n",
       "      <th>dist_mean</th>\n",
       "      <th>dist_sd</th>\n",
       "      <th>v_mean</th>\n",
       "      <th>v_sd</th>\n",
       "      <th>...</th>\n",
       "      <th>b1</th>\n",
       "      <th>b2</th>\n",
       "      <th>b0</th>\n",
       "      <th>response_pred_stdz</th>\n",
       "      <th>b1_stdz</th>\n",
       "      <th>b2_stdz</th>\n",
       "      <th>b0_stdz</th>\n",
       "      <th>response_pred_p_only</th>\n",
       "      <th>b1_stdz_p_only</th>\n",
       "      <th>b0_stdz_p_only</th>\n",
       "    </tr>\n",
       "  </thead>\n",
       "  <tbody>\n",
       "    <tr>\n",
       "      <th>0</th>\n",
       "      <td>K-Reg-H-10</td>\n",
       "      <td>1</td>\n",
       "      <td>0.30</td>\n",
       "      <td>0</td>\n",
       "      <td>0</td>\n",
       "      <td>H</td>\n",
       "      <td>0.814116</td>\n",
       "      <td>0.797715</td>\n",
       "      <td>0.913790</td>\n",
       "      <td>0.736964</td>\n",
       "      <td>...</td>\n",
       "      <td>-3.44679</td>\n",
       "      <td>-1.133787</td>\n",
       "      <td>2.724355</td>\n",
       "      <td>0</td>\n",
       "      <td>-2.025295</td>\n",
       "      <td>-1.133769</td>\n",
       "      <td>-0.626027</td>\n",
       "      <td>0</td>\n",
       "      <td>-3.635382</td>\n",
       "      <td>1.83945</td>\n",
       "    </tr>\n",
       "    <tr>\n",
       "      <th>1</th>\n",
       "      <td>K-Reg-H-10</td>\n",
       "      <td>2</td>\n",
       "      <td>0.80</td>\n",
       "      <td>0</td>\n",
       "      <td>1</td>\n",
       "      <td>H</td>\n",
       "      <td>0.051420</td>\n",
       "      <td>0.154197</td>\n",
       "      <td>0.763800</td>\n",
       "      <td>0.818038</td>\n",
       "      <td>...</td>\n",
       "      <td>-3.44679</td>\n",
       "      <td>-1.133787</td>\n",
       "      <td>2.724355</td>\n",
       "      <td>1</td>\n",
       "      <td>-2.025295</td>\n",
       "      <td>-1.133769</td>\n",
       "      <td>-0.626027</td>\n",
       "      <td>1</td>\n",
       "      <td>-3.635382</td>\n",
       "      <td>1.83945</td>\n",
       "    </tr>\n",
       "    <tr>\n",
       "      <th>2</th>\n",
       "      <td>K-Reg-H-10</td>\n",
       "      <td>3</td>\n",
       "      <td>0.30</td>\n",
       "      <td>0</td>\n",
       "      <td>0</td>\n",
       "      <td>H</td>\n",
       "      <td>0.606636</td>\n",
       "      <td>0.576845</td>\n",
       "      <td>1.031310</td>\n",
       "      <td>0.690626</td>\n",
       "      <td>...</td>\n",
       "      <td>-3.44679</td>\n",
       "      <td>-1.133787</td>\n",
       "      <td>2.724355</td>\n",
       "      <td>0</td>\n",
       "      <td>-2.025295</td>\n",
       "      <td>-1.133769</td>\n",
       "      <td>-0.626027</td>\n",
       "      <td>0</td>\n",
       "      <td>-3.635382</td>\n",
       "      <td>1.83945</td>\n",
       "    </tr>\n",
       "    <tr>\n",
       "      <th>3</th>\n",
       "      <td>K-Reg-H-10</td>\n",
       "      <td>4</td>\n",
       "      <td>0.55</td>\n",
       "      <td>90</td>\n",
       "      <td>0</td>\n",
       "      <td>H</td>\n",
       "      <td>0.972314</td>\n",
       "      <td>0.794221</td>\n",
       "      <td>1.040956</td>\n",
       "      <td>0.807353</td>\n",
       "      <td>...</td>\n",
       "      <td>-3.44679</td>\n",
       "      <td>-1.133787</td>\n",
       "      <td>2.724355</td>\n",
       "      <td>0</td>\n",
       "      <td>-2.025295</td>\n",
       "      <td>-1.133769</td>\n",
       "      <td>-0.626027</td>\n",
       "      <td>0</td>\n",
       "      <td>-3.635382</td>\n",
       "      <td>1.83945</td>\n",
       "    </tr>\n",
       "    <tr>\n",
       "      <th>4</th>\n",
       "      <td>K-Reg-H-10</td>\n",
       "      <td>5</td>\n",
       "      <td>0.30</td>\n",
       "      <td>90</td>\n",
       "      <td>0</td>\n",
       "      <td>H</td>\n",
       "      <td>0.932129</td>\n",
       "      <td>0.663194</td>\n",
       "      <td>0.980944</td>\n",
       "      <td>0.668587</td>\n",
       "      <td>...</td>\n",
       "      <td>-3.44679</td>\n",
       "      <td>-1.133787</td>\n",
       "      <td>2.724355</td>\n",
       "      <td>0</td>\n",
       "      <td>-2.025295</td>\n",
       "      <td>-1.133769</td>\n",
       "      <td>-0.626027</td>\n",
       "      <td>0</td>\n",
       "      <td>-3.635382</td>\n",
       "      <td>1.83945</td>\n",
       "    </tr>\n",
       "  </tbody>\n",
       "</table>\n",
       "<p>5 rows × 21 columns</p>\n",
       "</div>"
      ],
      "text/plain": [
       "  participant  trial no.  actual control  angular bias  response group  \\\n",
       "0  K-Reg-H-10          1            0.30             0         0     H   \n",
       "1  K-Reg-H-10          2            0.80             0         1     H   \n",
       "2  K-Reg-H-10          3            0.30             0         0     H   \n",
       "3  K-Reg-H-10          4            0.55            90         0     H   \n",
       "4  K-Reg-H-10          5            0.30            90         0     H   \n",
       "\n",
       "   dist_mean   dist_sd    v_mean      v_sd  ...       b1        b2        b0  \\\n",
       "0   0.814116  0.797715  0.913790  0.736964  ... -3.44679 -1.133787  2.724355   \n",
       "1   0.051420  0.154197  0.763800  0.818038  ... -3.44679 -1.133787  2.724355   \n",
       "2   0.606636  0.576845  1.031310  0.690626  ... -3.44679 -1.133787  2.724355   \n",
       "3   0.972314  0.794221  1.040956  0.807353  ... -3.44679 -1.133787  2.724355   \n",
       "4   0.932129  0.663194  0.980944  0.668587  ... -3.44679 -1.133787  2.724355   \n",
       "\n",
       "   response_pred_stdz   b1_stdz   b2_stdz   b0_stdz  response_pred_p_only  \\\n",
       "0                   0 -2.025295 -1.133769 -0.626027                     0   \n",
       "1                   1 -2.025295 -1.133769 -0.626027                     1   \n",
       "2                   0 -2.025295 -1.133769 -0.626027                     0   \n",
       "3                   0 -2.025295 -1.133769 -0.626027                     0   \n",
       "4                   0 -2.025295 -1.133769 -0.626027                     0   \n",
       "\n",
       "   b1_stdz_p_only  b0_stdz_p_only  \n",
       "0       -3.635382         1.83945  \n",
       "1       -3.635382         1.83945  \n",
       "2       -3.635382         1.83945  \n",
       "3       -3.635382         1.83945  \n",
       "4       -3.635382         1.83945  \n",
       "\n",
       "[5 rows x 21 columns]"
      ]
     },
     "execution_count": 5,
     "metadata": {},
     "output_type": "execute_result"
    }
   ],
   "source": [
    "df.head()"
   ]
  },
  {
   "cell_type": "code",
   "execution_count": 6,
   "metadata": {},
   "outputs": [
    {
     "name": "stderr",
     "output_type": "stream",
     "text": [
      "/tmp/ipykernel_104748/1305714369.py:3: FutureWarning: This dataframe has a column name that matches the 'value_name' column name of the resulting Dataframe. In the future this will raise an error, please set the 'value_name' parameter of DataFrame.melt to a unique name.\n"
     ]
    },
    {
     "data": {
      "text/html": [
       "<div>\n",
       "<style scoped>\n",
       "    .dataframe tbody tr th:only-of-type {\n",
       "        vertical-align: middle;\n",
       "    }\n",
       "\n",
       "    .dataframe tbody tr th {\n",
       "        vertical-align: top;\n",
       "    }\n",
       "\n",
       "    .dataframe thead th {\n",
       "        text-align: right;\n",
       "    }\n",
       "</style>\n",
       "<table border=\"1\" class=\"dataframe\">\n",
       "  <thead>\n",
       "    <tr style=\"text-align: right;\">\n",
       "      <th></th>\n",
       "      <th>participant</th>\n",
       "      <th>actual control</th>\n",
       "      <th>angular bias</th>\n",
       "      <th>group</th>\n",
       "      <th>response_type</th>\n",
       "      <th>response</th>\n",
       "    </tr>\n",
       "  </thead>\n",
       "  <tbody>\n",
       "    <tr>\n",
       "      <th>0</th>\n",
       "      <td>K-Reg-H-10</td>\n",
       "      <td>0.30</td>\n",
       "      <td>0</td>\n",
       "      <td>H</td>\n",
       "      <td>response</td>\n",
       "      <td>0.1</td>\n",
       "    </tr>\n",
       "    <tr>\n",
       "      <th>1</th>\n",
       "      <td>K-Reg-H-10</td>\n",
       "      <td>0.30</td>\n",
       "      <td>0</td>\n",
       "      <td>H</td>\n",
       "      <td>response_pred_stdz</td>\n",
       "      <td>0.0</td>\n",
       "    </tr>\n",
       "    <tr>\n",
       "      <th>2</th>\n",
       "      <td>K-Reg-H-10</td>\n",
       "      <td>0.30</td>\n",
       "      <td>90</td>\n",
       "      <td>H</td>\n",
       "      <td>response</td>\n",
       "      <td>0.0</td>\n",
       "    </tr>\n",
       "    <tr>\n",
       "      <th>3</th>\n",
       "      <td>K-Reg-H-10</td>\n",
       "      <td>0.30</td>\n",
       "      <td>90</td>\n",
       "      <td>H</td>\n",
       "      <td>response_pred_stdz</td>\n",
       "      <td>0.0</td>\n",
       "    </tr>\n",
       "    <tr>\n",
       "      <th>4</th>\n",
       "      <td>K-Reg-H-10</td>\n",
       "      <td>0.55</td>\n",
       "      <td>0</td>\n",
       "      <td>H</td>\n",
       "      <td>response</td>\n",
       "      <td>1.0</td>\n",
       "    </tr>\n",
       "  </tbody>\n",
       "</table>\n",
       "</div>"
      ],
      "text/plain": [
       "  participant  actual control  angular bias group       response_type  \\\n",
       "0  K-Reg-H-10            0.30             0     H            response   \n",
       "1  K-Reg-H-10            0.30             0     H  response_pred_stdz   \n",
       "2  K-Reg-H-10            0.30            90     H            response   \n",
       "3  K-Reg-H-10            0.30            90     H  response_pred_stdz   \n",
       "4  K-Reg-H-10            0.55             0     H            response   \n",
       "\n",
       "   response  \n",
       "0       0.1  \n",
       "1       0.0  \n",
       "2       0.0  \n",
       "3       0.0  \n",
       "4       1.0  "
      ]
     },
     "execution_count": 6,
     "metadata": {},
     "output_type": "execute_result"
    }
   ],
   "source": [
    "predVar = 'response_pred_stdz'\n",
    "df_ = df.copy()\n",
    "df_ = df_.melt(['participant', 'actual control', 'angular bias', 'group'], ['response', predVar], \n",
    "               var_name='response_type', value_name='response')\n",
    "df_ = df_.groupby(['participant', 'actual control', 'angular bias', 'group', 'response_type']).mean()\n",
    "df_ = df_.reset_index()\n",
    "df_.head()"
   ]
  },
  {
   "cell_type": "code",
   "execution_count": 7,
   "metadata": {},
   "outputs": [],
   "source": [
    "# df_ = df_[['participant', 'actual control', 'angular bias', 'response_pred', 'group']]\n",
    "# df_ = df_.groupby(['participant', 'actual control', 'angular bias', 'group']).mean()\n",
    "# df_ = df_.reset_index()\n",
    "\n",
    "# grid = sns.FacetGrid(col='participant', col_wrap=5, data=df_)\n",
    "# grid.map_dataframe(sns.pointplot, \n",
    "#                    x='actual control', \n",
    "#                    y='response_pred', \n",
    "#                    hue='angular bias')\n",
    "# grid.add_legend()\n",
    "\n",
    "\n",
    "# plt.figure()\n",
    "# sns.catplot(x='actual control', y='response_pred', hue='angular bias', data=df_, col='group', kind='point')"
   ]
  },
  {
   "cell_type": "code",
   "execution_count": 8,
   "metadata": {},
   "outputs": [],
   "source": [
    "# # f = plt.figure(figsize=(10, 5))\n",
    "# # df_['angular bias'] = pd.Categorical(df_['angular bias'])\n",
    "# df_['angular bias'] = df_['angular bias'].astype('str')\n",
    "# df_['actual control'] = df_['actual control'].astype('str')\n",
    "\n",
    "# gap = 0.1\n",
    "# byVar = ['response', 'actual control', 'angular bias', 'response_type']\n",
    "\n",
    "# g = (\n",
    "#     so.Plot(df_, x='response_type', y='response', color='angular bias')\n",
    "#     # .add(so.Dots(alpha=0.2), so.Jitter(x=.05, y=.05))\n",
    "#     # .pair(x=[\"actual control\", 'angular bias'])\n",
    "#     # .facet(row=\"group\")    \n",
    "#     .add(so.Line(alpha=0.2, marker='.'), so.Agg(),  so.Jitter(x=.05, y=.05), group=\"participant\")\n",
    "#     # .add(so.Range(), so.Est(errorbar=\"se\"))\n",
    "#     .add(so.Dot(pointsize=10), so.Agg(), so.Dodge(), marker='response_type', fill='response_type')\n",
    "#     .add(so.Range(), so.Est(errorbar=\"se\"), so.Dodge())\n",
    "#     .facet(row=\"group\", col='actual control')\n",
    "#     .layout(size=(6, 10))\n",
    "#     .limit(y=(-0.1, 1.1))\n",
    "#     # .on(f)\n",
    "  \n",
    "# )\n",
    "# g\n",
    "# # print(g)\n",
    "# # fn = utils.Save.savepath('report_three_dot_prediction_group', 'real_pred_group_performce.pdf')\n",
    "# # g.save(fn)\n"
   ]
  },
  {
   "cell_type": "code",
   "execution_count": 9,
   "metadata": {},
   "outputs": [],
   "source": [
    "# # print(g)\n",
    "# fn = utils.Save.savepath('report_one_dot_predicting_group_cosinesimilarity', 'real_pred_group_performce.pdf')\n",
    "# g.save(fn)\n"
   ]
  },
  {
   "cell_type": "code",
   "execution_count": 10,
   "metadata": {},
   "outputs": [
    {
     "data": {
      "text/html": [
       "<div>\n",
       "<style scoped>\n",
       "    .dataframe tbody tr th:only-of-type {\n",
       "        vertical-align: middle;\n",
       "    }\n",
       "\n",
       "    .dataframe tbody tr th {\n",
       "        vertical-align: top;\n",
       "    }\n",
       "\n",
       "    .dataframe thead th {\n",
       "        text-align: right;\n",
       "    }\n",
       "</style>\n",
       "<table border=\"1\" class=\"dataframe\">\n",
       "  <thead>\n",
       "    <tr style=\"text-align: right;\">\n",
       "      <th></th>\n",
       "      <th>participant</th>\n",
       "      <th>actual control</th>\n",
       "      <th>angular bias</th>\n",
       "      <th>group</th>\n",
       "      <th>trial no.</th>\n",
       "      <th>response</th>\n",
       "      <th>dist_mean</th>\n",
       "      <th>dist_sd</th>\n",
       "      <th>v_mean</th>\n",
       "      <th>v_sd</th>\n",
       "      <th>...</th>\n",
       "      <th>b1</th>\n",
       "      <th>b2</th>\n",
       "      <th>b0</th>\n",
       "      <th>response_pred_stdz</th>\n",
       "      <th>b1_stdz</th>\n",
       "      <th>b2_stdz</th>\n",
       "      <th>b0_stdz</th>\n",
       "      <th>response_pred_p_only</th>\n",
       "      <th>b1_stdz_p_only</th>\n",
       "      <th>b0_stdz_p_only</th>\n",
       "    </tr>\n",
       "  </thead>\n",
       "  <tbody>\n",
       "    <tr>\n",
       "      <th>0</th>\n",
       "      <td>K-Reg-H-10</td>\n",
       "      <td>0.30</td>\n",
       "      <td>0</td>\n",
       "      <td>H</td>\n",
       "      <td>24.4</td>\n",
       "      <td>0.1</td>\n",
       "      <td>0.771607</td>\n",
       "      <td>0.667468</td>\n",
       "      <td>0.937608</td>\n",
       "      <td>0.707579</td>\n",
       "      <td>...</td>\n",
       "      <td>-3.44679</td>\n",
       "      <td>-1.133787</td>\n",
       "      <td>2.724355</td>\n",
       "      <td>0.0</td>\n",
       "      <td>-2.025295</td>\n",
       "      <td>-1.133769</td>\n",
       "      <td>-0.626027</td>\n",
       "      <td>0.0</td>\n",
       "      <td>-3.635382</td>\n",
       "      <td>1.83945</td>\n",
       "    </tr>\n",
       "    <tr>\n",
       "      <th>1</th>\n",
       "      <td>K-Reg-H-10</td>\n",
       "      <td>0.30</td>\n",
       "      <td>90</td>\n",
       "      <td>H</td>\n",
       "      <td>30.0</td>\n",
       "      <td>0.0</td>\n",
       "      <td>0.945339</td>\n",
       "      <td>0.701454</td>\n",
       "      <td>0.962041</td>\n",
       "      <td>0.704085</td>\n",
       "      <td>...</td>\n",
       "      <td>-3.44679</td>\n",
       "      <td>-1.133787</td>\n",
       "      <td>2.724355</td>\n",
       "      <td>0.0</td>\n",
       "      <td>-2.025295</td>\n",
       "      <td>-1.133769</td>\n",
       "      <td>-0.626027</td>\n",
       "      <td>0.0</td>\n",
       "      <td>-3.635382</td>\n",
       "      <td>1.83945</td>\n",
       "    </tr>\n",
       "    <tr>\n",
       "      <th>2</th>\n",
       "      <td>K-Reg-H-10</td>\n",
       "      <td>0.55</td>\n",
       "      <td>0</td>\n",
       "      <td>H</td>\n",
       "      <td>37.1</td>\n",
       "      <td>1.0</td>\n",
       "      <td>0.238722</td>\n",
       "      <td>0.248492</td>\n",
       "      <td>0.836019</td>\n",
       "      <td>0.700166</td>\n",
       "      <td>...</td>\n",
       "      <td>-3.44679</td>\n",
       "      <td>-1.133787</td>\n",
       "      <td>2.724355</td>\n",
       "      <td>1.0</td>\n",
       "      <td>-2.025295</td>\n",
       "      <td>-1.133769</td>\n",
       "      <td>-0.626027</td>\n",
       "      <td>1.0</td>\n",
       "      <td>-3.635382</td>\n",
       "      <td>1.83945</td>\n",
       "    </tr>\n",
       "    <tr>\n",
       "      <th>3</th>\n",
       "      <td>K-Reg-H-10</td>\n",
       "      <td>0.55</td>\n",
       "      <td>90</td>\n",
       "      <td>H</td>\n",
       "      <td>28.8</td>\n",
       "      <td>0.0</td>\n",
       "      <td>0.892368</td>\n",
       "      <td>0.692534</td>\n",
       "      <td>0.990788</td>\n",
       "      <td>0.752664</td>\n",
       "      <td>...</td>\n",
       "      <td>-3.44679</td>\n",
       "      <td>-1.133787</td>\n",
       "      <td>2.724355</td>\n",
       "      <td>0.0</td>\n",
       "      <td>-2.025295</td>\n",
       "      <td>-1.133769</td>\n",
       "      <td>-0.626027</td>\n",
       "      <td>0.0</td>\n",
       "      <td>-3.635382</td>\n",
       "      <td>1.83945</td>\n",
       "    </tr>\n",
       "    <tr>\n",
       "      <th>4</th>\n",
       "      <td>K-Reg-H-10</td>\n",
       "      <td>0.80</td>\n",
       "      <td>0</td>\n",
       "      <td>H</td>\n",
       "      <td>29.6</td>\n",
       "      <td>1.0</td>\n",
       "      <td>0.088934</td>\n",
       "      <td>0.219984</td>\n",
       "      <td>0.650327</td>\n",
       "      <td>0.763478</td>\n",
       "      <td>...</td>\n",
       "      <td>-3.44679</td>\n",
       "      <td>-1.133787</td>\n",
       "      <td>2.724355</td>\n",
       "      <td>1.0</td>\n",
       "      <td>-2.025295</td>\n",
       "      <td>-1.133769</td>\n",
       "      <td>-0.626027</td>\n",
       "      <td>1.0</td>\n",
       "      <td>-3.635382</td>\n",
       "      <td>1.83945</td>\n",
       "    </tr>\n",
       "  </tbody>\n",
       "</table>\n",
       "<p>5 rows × 21 columns</p>\n",
       "</div>"
      ],
      "text/plain": [
       "  participant  actual control  angular bias group  trial no.  response  \\\n",
       "0  K-Reg-H-10            0.30             0     H       24.4       0.1   \n",
       "1  K-Reg-H-10            0.30            90     H       30.0       0.0   \n",
       "2  K-Reg-H-10            0.55             0     H       37.1       1.0   \n",
       "3  K-Reg-H-10            0.55            90     H       28.8       0.0   \n",
       "4  K-Reg-H-10            0.80             0     H       29.6       1.0   \n",
       "\n",
       "   dist_mean   dist_sd    v_mean      v_sd  ...       b1        b2        b0  \\\n",
       "0   0.771607  0.667468  0.937608  0.707579  ... -3.44679 -1.133787  2.724355   \n",
       "1   0.945339  0.701454  0.962041  0.704085  ... -3.44679 -1.133787  2.724355   \n",
       "2   0.238722  0.248492  0.836019  0.700166  ... -3.44679 -1.133787  2.724355   \n",
       "3   0.892368  0.692534  0.990788  0.752664  ... -3.44679 -1.133787  2.724355   \n",
       "4   0.088934  0.219984  0.650327  0.763478  ... -3.44679 -1.133787  2.724355   \n",
       "\n",
       "   response_pred_stdz   b1_stdz   b2_stdz   b0_stdz  response_pred_p_only  \\\n",
       "0                 0.0 -2.025295 -1.133769 -0.626027                   0.0   \n",
       "1                 0.0 -2.025295 -1.133769 -0.626027                   0.0   \n",
       "2                 1.0 -2.025295 -1.133769 -0.626027                   1.0   \n",
       "3                 0.0 -2.025295 -1.133769 -0.626027                   0.0   \n",
       "4                 1.0 -2.025295 -1.133769 -0.626027                   1.0   \n",
       "\n",
       "   b1_stdz_p_only  b0_stdz_p_only  \n",
       "0       -3.635382         1.83945  \n",
       "1       -3.635382         1.83945  \n",
       "2       -3.635382         1.83945  \n",
       "3       -3.635382         1.83945  \n",
       "4       -3.635382         1.83945  \n",
       "\n",
       "[5 rows x 21 columns]"
      ]
     },
     "execution_count": 10,
     "metadata": {},
     "output_type": "execute_result"
    }
   ],
   "source": [
    "predVar = 'response_pred'\n",
    "# predVar = 'response_pred_p_only'\n",
    "\n",
    "df_ = df.copy()\n",
    "# df_ = df_.melt(['participant', 'actual control', 'angular bias', 'group'], ['response', predVar], \n",
    "#                var_name='response_type', value_name='response')\n",
    "df_ = df_.groupby(['participant', 'actual control', 'angular bias', 'group']).mean()\n",
    "df_ = df_.reset_index()\n",
    "df_.head()"
   ]
  },
  {
   "cell_type": "code",
   "execution_count": 11,
   "metadata": {},
   "outputs": [],
   "source": [
    "df_count = df_.value_counts(['group', 'response', predVar])\n",
    "# df_count.columns = ['count']\n",
    "df_count = df_count.reset_index()\n",
    "df_count = df_count.sort_values(by='group')\n",
    "\n",
    "df_count.rename(columns={0:'Frequency'}, inplace=True)\n",
    "\n",
    "# scaling \n",
    "df_count['Frequency'] = (df_count['Frequency'])**(1/2)"
   ]
  },
  {
   "cell_type": "code",
   "execution_count": 12,
   "metadata": {},
   "outputs": [
    {
     "data": {
      "text/plain": [
       "Text(9.444444444444445, 0.5, 'Predicted accuracy')"
      ]
     },
     "execution_count": 12,
     "metadata": {},
     "output_type": "execute_result"
    },
    {
     "data": {
      "image/png": "[encoded data removed]",
      "text/plain": [
       "<Figure size 1000x500 with 2 Axes>"
      ]
     },
     "metadata": {},
     "output_type": "display_data"
    }
   ],
   "source": [
    "g = sns.relplot(data=df_count, x='response', y=predVar, \n",
    "                size='Frequency', color='k',\n",
    "                sizes=(20, 500), col='group', height=5, legend=False)\n",
    "ax = g.figure.get_axes()\n",
    "sns.regplot(data=df_.query('group==\"H\"'), x='response', y=predVar, color='red', scatter=False, ax=ax[0])\n",
    "sns.regplot(data=df_.query('group==\"S\"'), x='response', y=predVar, color='red', scatter=False, ax=ax[1])\n",
    "ax[0].set_ylabel('Predicted accuracy')"
   ]
  },
  {
   "cell_type": "code",
   "execution_count": null,
   "metadata": {},
   "outputs": [],
   "source": [
    "\n",
    "\n",
    "# g = sns.relplot(data=df_count, x='response', y='response_pred_p_only', \n",
    "#                 size='Frequency', color='k',\n",
    "#                 sizes=(20, 500), col='group', height=5)\n",
    "# g.map(sns.regplot, 'response', 'response_pred_p_only', color='red', scatter=False)\n",
    "# g.set_axis_labels('Groud true response', 'Predicted response')\n"
   ]
  },
  {
   "cell_type": "code",
   "execution_count": 13,
   "metadata": {},
   "outputs": [],
   "source": [
    "fn = utils.Save.savepath('report_one_dot_predicting_group_cosinesimilarity', 'correlation.pdf')\n",
    "g.savefig(fn)"
   ]
  },
  {
   "cell_type": "code",
   "execution_count": 14,
   "metadata": {},
   "outputs": [
    {
     "data": {
      "text/html": [
       "<div>\n",
       "<style scoped>\n",
       "    .dataframe tbody tr th:only-of-type {\n",
       "        vertical-align: middle;\n",
       "    }\n",
       "\n",
       "    .dataframe tbody tr th {\n",
       "        vertical-align: top;\n",
       "    }\n",
       "\n",
       "    .dataframe thead th {\n",
       "        text-align: right;\n",
       "    }\n",
       "</style>\n",
       "<table border=\"1\" class=\"dataframe\">\n",
       "  <thead>\n",
       "    <tr style=\"text-align: right;\">\n",
       "      <th></th>\n",
       "      <th></th>\n",
       "      <th>n</th>\n",
       "      <th>r</th>\n",
       "      <th>CI95%</th>\n",
       "      <th>p-val</th>\n",
       "      <th>BF10</th>\n",
       "      <th>power</th>\n",
       "    </tr>\n",
       "    <tr>\n",
       "      <th>group</th>\n",
       "      <th></th>\n",
       "      <th></th>\n",
       "      <th></th>\n",
       "      <th></th>\n",
       "      <th></th>\n",
       "      <th></th>\n",
       "      <th></th>\n",
       "    </tr>\n",
       "  </thead>\n",
       "  <tbody>\n",
       "    <tr>\n",
       "      <th>H</th>\n",
       "      <th>pearson</th>\n",
       "      <td>150</td>\n",
       "      <td>0.793108</td>\n",
       "      <td>[0.72, 0.85]</td>\n",
       "      <td>1.114204e-33</td>\n",
       "      <td>2.851e+30</td>\n",
       "      <td>1.0</td>\n",
       "    </tr>\n",
       "    <tr>\n",
       "      <th>S</th>\n",
       "      <th>pearson</th>\n",
       "      <td>150</td>\n",
       "      <td>0.823786</td>\n",
       "      <td>[0.76, 0.87]</td>\n",
       "      <td>2.618132e-38</td>\n",
       "      <td>1.014e+35</td>\n",
       "      <td>1.0</td>\n",
       "    </tr>\n",
       "  </tbody>\n",
       "</table>\n",
       "</div>"
      ],
      "text/plain": [
       "                 n         r         CI95%         p-val       BF10  power\n",
       "group                                                                     \n",
       "H     pearson  150  0.793108  [0.72, 0.85]  1.114204e-33  2.851e+30    1.0\n",
       "S     pearson  150  0.823786  [0.76, 0.87]  2.618132e-38  1.014e+35    1.0"
      ]
     },
     "execution_count": 14,
     "metadata": {},
     "output_type": "execute_result"
    }
   ],
   "source": [
    "import pingouin as pg\n",
    "df_.groupby(['group']).apply(lambda x: pg.corr(x['response'].values, x[predVar].values))"
   ]
  },
  {
   "cell_type": "code",
   "execution_count": 18,
   "metadata": {},
   "outputs": [
    {
     "data": {
      "text/plain": [
       "<seaborn.axisgrid.FacetGrid at 0x7f2bff6b35b0>"
      ]
     },
     "execution_count": 18,
     "metadata": {},
     "output_type": "execute_result"
    },
    {
     "data": {
      "text/plain": [
       "<Figure size 640x480 with 0 Axes>"
      ]
     },
     "metadata": {},
     "output_type": "display_data"
    },
    {
     "data": {
      "image/png": "[encoded data removed]",
      "text/plain": [
       "<Figure size 1097.24x500 with 2 Axes>"
      ]
     },
     "metadata": {},
     "output_type": "display_data"
    }
   ],
   "source": [
    "df_ = df.copy()\n",
    "df_ = df_[['participant', 'actual control', 'angular bias', predVar, 'group']]\n",
    "df_ = df_.groupby(['participant', 'actual control', 'angular bias', 'group']).mean()\n",
    "df_ = df_.reset_index()\n",
    "\n",
    "plt.figure()\n",
    "g = sns.catplot(x='actual control', y='response_pred', hue='angular bias', data=df_, col='group', kind='point')\n",
    "g.set_ylabels('Predicted response')"
   ]
  },
  {
   "cell_type": "code",
   "execution_count": 19,
   "metadata": {},
   "outputs": [],
   "source": [
    "fn = utils.Save.savepath('report_one_dot_predicting_group_cosinesimilarity', 'group.pdf')\n",
    "g.savefig(fn)"
   ]
  },
  {
   "cell_type": "code",
   "execution_count": null,
   "metadata": {},
   "outputs": [],
   "source": [
    "# df_count = df_.value_counts(['group', 'response', 'response_pred_stdz'])\n",
    "# # df_count.columns = ['count']\n",
    "# df_count = df_count.reset_index()\n",
    "# df_count = df_count.sort_values(by='group')\n",
    "\n",
    "# df_count.rename(columns={0:'Frequency'}, inplace=True)\n",
    "\n",
    "# # scaling \n",
    "# df_count['Frequency'] = (df_count['Frequency'])**(1/2)\n",
    "\n",
    "# g = sns.relplot(data=df_count, x='response', y='response_pred_stdz', \n",
    "#                 size='Frequency', color='k',\n",
    "#                 sizes=(20, 500), col='group', height=5)\n",
    "# g.map(sns.regplot, 'response', 'response_pred_stdz', color='red', scatter=False)\n",
    "# g.set_axis_labels('Groud true response', 'Predicted response')\n"
   ]
  },
  {
   "attachments": {},
   "cell_type": "markdown",
   "metadata": {},
   "source": [
    "# Regression coefficients for the one dot predicting group"
   ]
  },
  {
   "cell_type": "code",
   "execution_count": null,
   "metadata": {},
   "outputs": [],
   "source": [
    "df.head()"
   ]
  },
  {
   "cell_type": "code",
   "execution_count": null,
   "metadata": {},
   "outputs": [],
   "source": [
    "df_ = df[['participant', 'group', 'b0', 'b1', 'b2']].groupby(['participant', 'group']).mean()\n",
    "df_ = df_.reset_index()\n",
    "df_ = df_.replace({'group': {'H': 'Health', 'S': 'Patient'}})\n",
    "df_.plot()\n",
    "df_.head()\n",
    "\n"
   ]
  },
  {
   "cell_type": "markdown",
   "metadata": {},
   "source": [
    "## b1"
   ]
  },
  {
   "cell_type": "code",
   "execution_count": null,
   "metadata": {},
   "outputs": [],
   "source": [
    "\n",
    "fig, ax = plt.subplots(figsize=(5, 5))\n",
    "sns.set_theme(style='ticks')\n",
    "sns.boxplot(data=df_, x=\"group\", y=\"b1\", palette=utils.Plot.palette_group)\n",
    "# sns.despine(offset=10, trim=True)\n",
    "# sns.set(ylim=(-5, 1))\n",
    "plt.ylim(-4, 0)\n"
   ]
  },
  {
   "cell_type": "code",
   "execution_count": null,
   "metadata": {},
   "outputs": [],
   "source": [
    "fn = utils.Save.savepath('report_one_dot_predicting_group_cosinesimilarity', 'b1.pdf')\n",
    "fig.savefig(fn)"
   ]
  },
  {
   "cell_type": "code",
   "execution_count": null,
   "metadata": {},
   "outputs": [],
   "source": [
    "from pingouin import ttest\n",
    "df_.groupby(['group']).apply(lambda x: ttest(x['b1'].values, 0))"
   ]
  },
  {
   "cell_type": "code",
   "execution_count": null,
   "metadata": {},
   "outputs": [],
   "source": [
    "# ttest between groups\n",
    "g1 = df_[df_['group'] == 'Health']['b1'].values\n",
    "g2 = df_[df_['group'] == 'Patient']['b1'].values\n",
    "ttest(g1, g2)"
   ]
  },
  {
   "attachments": {},
   "cell_type": "markdown",
   "metadata": {},
   "source": [
    "## b2"
   ]
  },
  {
   "cell_type": "code",
   "execution_count": null,
   "metadata": {},
   "outputs": [],
   "source": [
    "fig, ax = plt.subplots(figsize=(5, 5))\n",
    "sns.set_theme(style='ticks')\n",
    "sns.boxplot(data=df_, x=\"group\", y=\"b2\", palette=utils.Plot.palette_group)"
   ]
  },
  {
   "cell_type": "code",
   "execution_count": null,
   "metadata": {},
   "outputs": [],
   "source": [
    "fn = utils.Save.savepath('report_one_dot_predicting_group_cosinesimilarity', 'b2.pdf')\n",
    "fig.savefig(fn)"
   ]
  },
  {
   "cell_type": "code",
   "execution_count": null,
   "metadata": {},
   "outputs": [],
   "source": [
    "from pingouin import ttest\n",
    "df_.groupby(['group']).apply(lambda x: ttest(x['b2'].values, 0))"
   ]
  },
  {
   "cell_type": "code",
   "execution_count": null,
   "metadata": {},
   "outputs": [],
   "source": [
    "# ttest between groups\n",
    "g1 = df_[df_['group'] == 'Health']['b2'].values\n",
    "g2 = df_[df_['group'] == 'Patient']['b2'].values\n",
    "ttest(g1, g2)"
   ]
  }
 ],
 "metadata": {
  "kernelspec": {
   "display_name": "py310",
   "language": "python",
   "name": "python3"
  },
  "language_info": {
   "codemirror_mode": {
    "name": "ipython",
    "version": 3
   },
   "file_extension": ".py",
   "mimetype": "text/x-python",
   "name": "python",
   "nbconvert_exporter": "python",
   "pygments_lexer": "ipython3",
   "version": "3.10.9"
  },
  "orig_nbformat": 4,
  "vscode": {
   "interpreter": {
    "hash": "0bfe45cfa5af8caecc1324233dd1bb80b7f37bc486d77a1e494b9aae421ca5f7"
   }
  }
 },
 "nbformat": 4,
 "nbformat_minor": 2
}

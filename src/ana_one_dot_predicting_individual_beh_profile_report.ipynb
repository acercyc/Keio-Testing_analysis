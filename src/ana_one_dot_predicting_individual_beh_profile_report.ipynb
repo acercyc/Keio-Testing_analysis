{
 "cells": [
  {
   "cell_type": "code",
   "execution_count": null,
   "metadata": {},
   "outputs": [],
   "source": [
    "import numpy as np\n",
    "import pandas as pd\n",
    "\n",
    "import utils\n",
    "from sklearn.metrics.pairwise import paired_distances\n",
    "from sklearn.linear_model import LogisticRegression\n",
    "from sklearn.preprocessing import StandardScaler\n",
    "import matplotlib.pyplot as plt\n",
    "import seaborn as sns \n",
    "import seaborn.objects as so\n",
    "\n"
   ]
  },
  {
   "cell_type": "code",
   "execution_count": null,
   "metadata": {},
   "outputs": [],
   "source": [
    "import matplotlib.pyplot as plt\n",
    "import matplotlib as mpl\n",
    "import plotnine as pn\n",
    "import pingouin as pg   \n",
    "\n",
    "\n",
    "from sklearn.metrics.pairwise import cosine_similarity, paired_distances\n",
    "from sklearn.preprocessing import StandardScaler, scale\n",
    "from scipy.spatial import distance\n",
    "from einops import rearrange, reduce, repeat\n"
   ]
  },
  {
   "cell_type": "code",
   "execution_count": 10,
   "metadata": {},
   "outputs": [],
   "source": [
    "dataFolder = 'ana_one_dot_predicting_individual_beh_profile_report'\n"
   ]
  },
  {
   "cell_type": "code",
   "execution_count": null,
   "metadata": {},
   "outputs": [],
   "source": [
    "import importlib\n",
    "importlib.reload(utils)"
   ]
  },
  {
   "cell_type": "code",
   "execution_count": null,
   "metadata": {},
   "outputs": [],
   "source": [
    "fn = utils.path_data / 'ana_one_dot_predicting_individual_beh_profile/prediction.csv'\n",
    "df = pd.read_csv(fn)"
   ]
  },
  {
   "cell_type": "code",
   "execution_count": null,
   "metadata": {},
   "outputs": [],
   "source": [
    "df.head()"
   ]
  },
  {
   "cell_type": "code",
   "execution_count": null,
   "metadata": {},
   "outputs": [],
   "source": [
    "predVar = 'response_pred_stdz'\n",
    "df_ = df.copy()\n",
    "df_ = df_.melt(['participant', 'actual control', 'angular bias', 'group'], ['response', predVar], \n",
    "               var_name='response_type', value_name='response')\n",
    "df_ = df_.groupby(['participant', 'actual control', 'angular bias', 'group', 'response_type']).mean()\n",
    "df_ = df_.reset_index()\n",
    "df_.head()"
   ]
  },
  {
   "cell_type": "code",
   "execution_count": null,
   "metadata": {},
   "outputs": [],
   "source": [
    "# df_ = df_[['participant', 'actual control', 'angular bias', 'response_pred', 'group']]\n",
    "# df_ = df_.groupby(['participant', 'actual control', 'angular bias', 'group']).mean()\n",
    "# df_ = df_.reset_index()\n",
    "\n",
    "# grid = sns.FacetGrid(col='participant', col_wrap=5, data=df_)\n",
    "# grid.map_dataframe(sns.pointplot, \n",
    "#                    x='actual control', \n",
    "#                    y='response_pred', \n",
    "#                    hue='angular bias')\n",
    "# grid.add_legend()\n",
    "\n",
    "\n",
    "# plt.figure()\n",
    "# sns.catplot(x='actual control', y='response_pred', hue='angular bias', data=df_, col='group', kind='point')"
   ]
  },
  {
   "cell_type": "raw",
   "metadata": {},
   "source": [
    "# f = plt.figure(figsize=(10, 5))\n",
    "# df_['angular bias'] = pd.Categorical(df_['angular bias'])\n",
    "df_['angular bias'] = df_['angular bias'].astype('str')\n",
    "df_['actual control'] = df_['actual control'].astype('str')\n",
    "\n",
    "gap = 0.1\n",
    "byVar = ['response', 'actual control', 'angular bias', 'response_type']\n",
    "\n",
    "g = (\n",
    "    so.Plot(df_, x='response_type', y='response', color='angular bias')\n",
    "    # .add(so.Dots(alpha=0.2), so.Jitter(x=.05, y=.05))\n",
    "    # .pair(x=[\"actual control\", 'angular bias'])\n",
    "    # .facet(row=\"group\")    \n",
    "    .add(so.Line(alpha=0.2, marker='.'), so.Agg(),  so.Jitter(x=.05, y=.05), group=\"participant\")\n",
    "    # .add(so.Range(), so.Est(errorbar=\"se\"))\n",
    "    .add(so.Dot(pointsize=10), so.Agg(), so.Dodge(), marker='response_type', fill='response_type')\n",
    "    .add(so.Range(), so.Est(errorbar=\"se\"), so.Dodge())\n",
    "    .facet(row=\"group\", col='actual control')\n",
    "    .layout(size=(6, 10))\n",
    "    .limit(y=(-0.1, 1.1))\n",
    "    # .on(f)\n",
    "  \n",
    ")\n",
    "g\n",
    "# print(g)\n",
    "# fn = utils.Save.savepath('report_three_dot_prediction_group', 'real_pred_group_performce.pdf')\n",
    "# g.save(fn)\n"
   ]
  },
  {
   "cell_type": "code",
   "execution_count": 6,
   "metadata": {},
   "outputs": [
    {
     "data": {
      "text/html": [
       "<div>\n",
       "<style scoped>\n",
       "    .dataframe tbody tr th:only-of-type {\n",
       "        vertical-align: middle;\n",
       "    }\n",
       "\n",
       "    .dataframe tbody tr th {\n",
       "        vertical-align: top;\n",
       "    }\n",
       "\n",
       "    .dataframe thead th {\n",
       "        text-align: right;\n",
       "    }\n",
       "</style>\n",
       "<table border=\"1\" class=\"dataframe\">\n",
       "  <thead>\n",
       "    <tr style=\"text-align: right;\">\n",
       "      <th></th>\n",
       "      <th>participant</th>\n",
       "      <th>actual control</th>\n",
       "      <th>angular bias</th>\n",
       "      <th>group</th>\n",
       "      <th>trial no.</th>\n",
       "      <th>response</th>\n",
       "      <th>dist_mean</th>\n",
       "      <th>dist_sd</th>\n",
       "      <th>v_mean</th>\n",
       "      <th>v_sd</th>\n",
       "      <th>...</th>\n",
       "      <th>b1</th>\n",
       "      <th>b2</th>\n",
       "      <th>b0</th>\n",
       "      <th>response_pred_stdz</th>\n",
       "      <th>b1_stdz</th>\n",
       "      <th>b2_stdz</th>\n",
       "      <th>b0_stdz</th>\n",
       "      <th>response_pred_p_only</th>\n",
       "      <th>b1_stdz_p_only</th>\n",
       "      <th>b0_stdz_p_only</th>\n",
       "    </tr>\n",
       "  </thead>\n",
       "  <tbody>\n",
       "    <tr>\n",
       "      <th>0</th>\n",
       "      <td>K-Reg-H-10</td>\n",
       "      <td>0.30</td>\n",
       "      <td>0</td>\n",
       "      <td>H</td>\n",
       "      <td>24.4</td>\n",
       "      <td>0.1</td>\n",
       "      <td>0.789420</td>\n",
       "      <td>0.183825</td>\n",
       "      <td>0.207674</td>\n",
       "      <td>0.070567</td>\n",
       "      <td>...</td>\n",
       "      <td>-3.230715</td>\n",
       "      <td>-0.339573</td>\n",
       "      <td>1.976842</td>\n",
       "      <td>0.0</td>\n",
       "      <td>-2.694824</td>\n",
       "      <td>0.616395</td>\n",
       "      <td>-0.634225</td>\n",
       "      <td>0.0</td>\n",
       "      <td>-3.258059</td>\n",
       "      <td>1.941227</td>\n",
       "    </tr>\n",
       "    <tr>\n",
       "      <th>1</th>\n",
       "      <td>K-Reg-H-10</td>\n",
       "      <td>0.30</td>\n",
       "      <td>90</td>\n",
       "      <td>H</td>\n",
       "      <td>30.0</td>\n",
       "      <td>0.0</td>\n",
       "      <td>0.912961</td>\n",
       "      <td>0.197374</td>\n",
       "      <td>0.219058</td>\n",
       "      <td>0.069594</td>\n",
       "      <td>...</td>\n",
       "      <td>-3.230715</td>\n",
       "      <td>-0.339573</td>\n",
       "      <td>1.976842</td>\n",
       "      <td>0.0</td>\n",
       "      <td>-2.694824</td>\n",
       "      <td>0.616395</td>\n",
       "      <td>-0.634225</td>\n",
       "      <td>0.0</td>\n",
       "      <td>-3.258059</td>\n",
       "      <td>1.941227</td>\n",
       "    </tr>\n",
       "    <tr>\n",
       "      <th>2</th>\n",
       "      <td>K-Reg-H-10</td>\n",
       "      <td>0.55</td>\n",
       "      <td>0</td>\n",
       "      <td>H</td>\n",
       "      <td>37.1</td>\n",
       "      <td>1.0</td>\n",
       "      <td>0.447812</td>\n",
       "      <td>0.122060</td>\n",
       "      <td>0.137169</td>\n",
       "      <td>0.058623</td>\n",
       "      <td>...</td>\n",
       "      <td>-3.230715</td>\n",
       "      <td>-0.339573</td>\n",
       "      <td>1.976842</td>\n",
       "      <td>1.0</td>\n",
       "      <td>-2.694824</td>\n",
       "      <td>0.616395</td>\n",
       "      <td>-0.634225</td>\n",
       "      <td>0.9</td>\n",
       "      <td>-3.258059</td>\n",
       "      <td>1.941227</td>\n",
       "    </tr>\n",
       "    <tr>\n",
       "      <th>3</th>\n",
       "      <td>K-Reg-H-10</td>\n",
       "      <td>0.55</td>\n",
       "      <td>90</td>\n",
       "      <td>H</td>\n",
       "      <td>28.8</td>\n",
       "      <td>0.0</td>\n",
       "      <td>0.832833</td>\n",
       "      <td>0.182092</td>\n",
       "      <td>0.175069</td>\n",
       "      <td>0.060175</td>\n",
       "      <td>...</td>\n",
       "      <td>-3.230715</td>\n",
       "      <td>-0.339573</td>\n",
       "      <td>1.976842</td>\n",
       "      <td>0.2</td>\n",
       "      <td>-2.694824</td>\n",
       "      <td>0.616395</td>\n",
       "      <td>-0.634225</td>\n",
       "      <td>0.2</td>\n",
       "      <td>-3.258059</td>\n",
       "      <td>1.941227</td>\n",
       "    </tr>\n",
       "    <tr>\n",
       "      <th>4</th>\n",
       "      <td>K-Reg-H-10</td>\n",
       "      <td>0.80</td>\n",
       "      <td>0</td>\n",
       "      <td>H</td>\n",
       "      <td>29.6</td>\n",
       "      <td>1.0</td>\n",
       "      <td>0.215066</td>\n",
       "      <td>0.060492</td>\n",
       "      <td>0.087633</td>\n",
       "      <td>0.061230</td>\n",
       "      <td>...</td>\n",
       "      <td>-3.230715</td>\n",
       "      <td>-0.339573</td>\n",
       "      <td>1.976842</td>\n",
       "      <td>1.0</td>\n",
       "      <td>-2.694824</td>\n",
       "      <td>0.616395</td>\n",
       "      <td>-0.634225</td>\n",
       "      <td>1.0</td>\n",
       "      <td>-3.258059</td>\n",
       "      <td>1.941227</td>\n",
       "    </tr>\n",
       "  </tbody>\n",
       "</table>\n",
       "<p>5 rows × 21 columns</p>\n",
       "</div>"
      ],
      "text/plain": [
       "  participant  actual control  angular bias group  trial no.  response  \\\n",
       "0  K-Reg-H-10            0.30             0     H       24.4       0.1   \n",
       "1  K-Reg-H-10            0.30            90     H       30.0       0.0   \n",
       "2  K-Reg-H-10            0.55             0     H       37.1       1.0   \n",
       "3  K-Reg-H-10            0.55            90     H       28.8       0.0   \n",
       "4  K-Reg-H-10            0.80             0     H       29.6       1.0   \n",
       "\n",
       "   dist_mean   dist_sd    v_mean      v_sd  ...        b1        b2        b0  \\\n",
       "0   0.789420  0.183825  0.207674  0.070567  ... -3.230715 -0.339573  1.976842   \n",
       "1   0.912961  0.197374  0.219058  0.069594  ... -3.230715 -0.339573  1.976842   \n",
       "2   0.447812  0.122060  0.137169  0.058623  ... -3.230715 -0.339573  1.976842   \n",
       "3   0.832833  0.182092  0.175069  0.060175  ... -3.230715 -0.339573  1.976842   \n",
       "4   0.215066  0.060492  0.087633  0.061230  ... -3.230715 -0.339573  1.976842   \n",
       "\n",
       "   response_pred_stdz   b1_stdz   b2_stdz   b0_stdz  response_pred_p_only  \\\n",
       "0                 0.0 -2.694824  0.616395 -0.634225                   0.0   \n",
       "1                 0.0 -2.694824  0.616395 -0.634225                   0.0   \n",
       "2                 1.0 -2.694824  0.616395 -0.634225                   0.9   \n",
       "3                 0.2 -2.694824  0.616395 -0.634225                   0.2   \n",
       "4                 1.0 -2.694824  0.616395 -0.634225                   1.0   \n",
       "\n",
       "   b1_stdz_p_only  b0_stdz_p_only  \n",
       "0       -3.258059        1.941227  \n",
       "1       -3.258059        1.941227  \n",
       "2       -3.258059        1.941227  \n",
       "3       -3.258059        1.941227  \n",
       "4       -3.258059        1.941227  \n",
       "\n",
       "[5 rows x 21 columns]"
      ]
     },
     "execution_count": 6,
     "metadata": {},
     "output_type": "execute_result"
    }
   ],
   "source": [
    "predVar = 'response_pred_stdz'\n",
    "df_ = df.copy()\n",
    "# df_ = df_.melt(['participant', 'actual control', 'angular bias', 'group'], ['response', predVar], \n",
    "#                var_name='response_type', value_name='response')\n",
    "df_ = df_.groupby(['participant', 'actual control', 'angular bias', 'group']).mean()\n",
    "df_ = df_.reset_index()\n",
    "df_.head()"
   ]
  },
  {
   "cell_type": "code",
   "execution_count": 7,
   "metadata": {},
   "outputs": [],
   "source": [
    "df_count = df_.value_counts(['group', 'response', predVar])\n",
    "df_count = df_count.reset_index()\n",
    "df_count = df_count.sort_values(by='group')\n",
    "\n",
    "df_count.rename(columns={0:'Frequency'}, inplace=True)\n",
    "\n",
    "# scaling \n",
    "df_count['Frequency'] = (df_count['Frequency'])**(1/2)"
   ]
  },
  {
   "cell_type": "code",
   "execution_count": 8,
   "metadata": {},
   "outputs": [
    {
     "data": {
      "text/plain": [
       "Text(9.444444444444445, 0.5, 'Predicted response')"
      ]
     },
     "execution_count": 8,
     "metadata": {},
     "output_type": "execute_result"
    },
    {
     "data": {
      "image/png": "[encoded data removed]",
      "text/plain": [
       "<Figure size 1000x500 with 2 Axes>"
      ]
     },
     "metadata": {},
     "output_type": "display_data"
    }
   ],
   "source": [
    "\n",
    "g = sns.relplot(data=df_count, x='response', y=predVar, \n",
    "                size='Frequency', color='k',\n",
    "                sizes=(20, 500), col='group', height=5, legend=False)\n",
    "ax = g.figure.get_axes()\n",
    "sns.regplot(data=df_.query('group==\"H\"'), x='response', y=predVar, color='red', scatter=False, ax=ax[0])\n",
    "sns.regplot(data=df_.query('group==\"S\"'), x='response', y=predVar, color='red', scatter=False, ax=ax[1])\n",
    "ax[0].set_ylabel('Predicted response')"
   ]
  },
  {
   "cell_type": "code",
   "execution_count": 11,
   "metadata": {},
   "outputs": [],
   "source": [
    "fn = utils.Save.savepath(dataFolder, 'correlation.pdf')\n",
    "g.savefig(fn)"
   ]
  },
  {
   "cell_type": "code",
   "execution_count": 12,
   "metadata": {},
   "outputs": [
    {
     "data": {
      "text/html": [
       "<div>\n",
       "<style scoped>\n",
       "    .dataframe tbody tr th:only-of-type {\n",
       "        vertical-align: middle;\n",
       "    }\n",
       "\n",
       "    .dataframe tbody tr th {\n",
       "        vertical-align: top;\n",
       "    }\n",
       "\n",
       "    .dataframe thead th {\n",
       "        text-align: right;\n",
       "    }\n",
       "</style>\n",
       "<table border=\"1\" class=\"dataframe\">\n",
       "  <thead>\n",
       "    <tr style=\"text-align: right;\">\n",
       "      <th></th>\n",
       "      <th></th>\n",
       "      <th>n</th>\n",
       "      <th>r</th>\n",
       "      <th>CI95%</th>\n",
       "      <th>p-val</th>\n",
       "      <th>BF10</th>\n",
       "      <th>power</th>\n",
       "    </tr>\n",
       "    <tr>\n",
       "      <th>group</th>\n",
       "      <th></th>\n",
       "      <th></th>\n",
       "      <th></th>\n",
       "      <th></th>\n",
       "      <th></th>\n",
       "      <th></th>\n",
       "      <th></th>\n",
       "    </tr>\n",
       "  </thead>\n",
       "  <tbody>\n",
       "    <tr>\n",
       "      <th>H</th>\n",
       "      <th>pearson</th>\n",
       "      <td>150</td>\n",
       "      <td>0.923198</td>\n",
       "      <td>[0.9, 0.94]</td>\n",
       "      <td>2.429047e-63</td>\n",
       "      <td>4.516e+59</td>\n",
       "      <td>1.0</td>\n",
       "    </tr>\n",
       "    <tr>\n",
       "      <th>S</th>\n",
       "      <th>pearson</th>\n",
       "      <td>150</td>\n",
       "      <td>0.903196</td>\n",
       "      <td>[0.87, 0.93]</td>\n",
       "      <td>3.145193e-56</td>\n",
       "      <td>4.44e+52</td>\n",
       "      <td>1.0</td>\n",
       "    </tr>\n",
       "  </tbody>\n",
       "</table>\n",
       "</div>"
      ],
      "text/plain": [
       "                 n         r         CI95%         p-val       BF10  power\n",
       "group                                                                     \n",
       "H     pearson  150  0.923198   [0.9, 0.94]  2.429047e-63  4.516e+59    1.0\n",
       "S     pearson  150  0.903196  [0.87, 0.93]  3.145193e-56   4.44e+52    1.0"
      ]
     },
     "execution_count": 12,
     "metadata": {},
     "output_type": "execute_result"
    }
   ],
   "source": [
    "corr_P = df_.groupby(['group']).apply(lambda x: pg.corr(x['response'].values, x['response_pred_stdz'].values))\n",
    "corr_P"
   ]
  },
  {
   "attachments": {},
   "cell_type": "markdown",
   "metadata": {},
   "source": [
    "## Only use action plan position"
   ]
  },
  {
   "cell_type": "raw",
   "metadata": {},
   "source": [
    "# df_count = df_.value_counts(['group', 'response', 'response_pred_stdz'])\n",
    "# # df_count.columns = ['count']\n",
    "# df_count = df_count.reset_index()\n",
    "# df_count = df_count.sort_values(by='group')\n",
    "\n",
    "# df_count.rename(columns={0:'Frequency'}, inplace=True)\n",
    "\n",
    "# # scaling \n",
    "# df_count['Frequency'] = (df_count['Frequency'])**(1/2)\n",
    "\n",
    "# g = sns.relplot(data=df_count, x='response', y='response_pred_stdz', \n",
    "#                 size='Frequency', color='k',\n",
    "#                 sizes=(20, 500), col='group', height=5, legend=False)\n",
    "# g.map(sns.regplot, 'response', 'response_pred_stdz', color='red', scatter=False)\n",
    "# g.set_axis_labels('Groud true response', 'Predicted response')\n"
   ]
  },
  {
   "attachments": {},
   "cell_type": "markdown",
   "metadata": {},
   "source": [
    "# Regression coefficients for the one dot predicting group"
   ]
  },
  {
   "cell_type": "code",
   "execution_count": 13,
   "metadata": {},
   "outputs": [
    {
     "data": {
      "text/html": [
       "<div>\n",
       "<style scoped>\n",
       "    .dataframe tbody tr th:only-of-type {\n",
       "        vertical-align: middle;\n",
       "    }\n",
       "\n",
       "    .dataframe tbody tr th {\n",
       "        vertical-align: top;\n",
       "    }\n",
       "\n",
       "    .dataframe thead th {\n",
       "        text-align: right;\n",
       "    }\n",
       "</style>\n",
       "<table border=\"1\" class=\"dataframe\">\n",
       "  <thead>\n",
       "    <tr style=\"text-align: right;\">\n",
       "      <th></th>\n",
       "      <th>participant</th>\n",
       "      <th>group</th>\n",
       "      <th>b0</th>\n",
       "      <th>b1</th>\n",
       "      <th>b2</th>\n",
       "    </tr>\n",
       "  </thead>\n",
       "  <tbody>\n",
       "    <tr>\n",
       "      <th>0</th>\n",
       "      <td>K-Reg-H-10</td>\n",
       "      <td>Health</td>\n",
       "      <td>1.976842</td>\n",
       "      <td>-3.230715</td>\n",
       "      <td>-0.339573</td>\n",
       "    </tr>\n",
       "    <tr>\n",
       "      <th>1</th>\n",
       "      <td>K-Reg-H-11</td>\n",
       "      <td>Health</td>\n",
       "      <td>2.412316</td>\n",
       "      <td>-3.034829</td>\n",
       "      <td>-0.309967</td>\n",
       "    </tr>\n",
       "    <tr>\n",
       "      <th>2</th>\n",
       "      <td>K-Reg-H-12</td>\n",
       "      <td>Health</td>\n",
       "      <td>0.982205</td>\n",
       "      <td>-3.189150</td>\n",
       "      <td>-0.627470</td>\n",
       "    </tr>\n",
       "    <tr>\n",
       "      <th>3</th>\n",
       "      <td>K-Reg-H-13</td>\n",
       "      <td>Health</td>\n",
       "      <td>1.267001</td>\n",
       "      <td>-3.030674</td>\n",
       "      <td>-0.374198</td>\n",
       "    </tr>\n",
       "    <tr>\n",
       "      <th>4</th>\n",
       "      <td>K-Reg-H-14</td>\n",
       "      <td>Health</td>\n",
       "      <td>2.434450</td>\n",
       "      <td>-3.543134</td>\n",
       "      <td>-0.406435</td>\n",
       "    </tr>\n",
       "  </tbody>\n",
       "</table>\n",
       "</div>"
      ],
      "text/plain": [
       "  participant   group        b0        b1        b2\n",
       "0  K-Reg-H-10  Health  1.976842 -3.230715 -0.339573\n",
       "1  K-Reg-H-11  Health  2.412316 -3.034829 -0.309967\n",
       "2  K-Reg-H-12  Health  0.982205 -3.189150 -0.627470\n",
       "3  K-Reg-H-13  Health  1.267001 -3.030674 -0.374198\n",
       "4  K-Reg-H-14  Health  2.434450 -3.543134 -0.406435"
      ]
     },
     "execution_count": 13,
     "metadata": {},
     "output_type": "execute_result"
    },
    {
     "data": {
      "image/png": "[encoded data removed]",
      "text/plain": [
       "<Figure size 640x480 with 1 Axes>"
      ]
     },
     "metadata": {},
     "output_type": "display_data"
    }
   ],
   "source": [
    "df_ = df[['participant', 'group', 'b0', 'b1', 'b2']].groupby(['participant', 'group']).mean()\n",
    "df_ = df_.reset_index()\n",
    "df_ = df_.replace({'group': {'H': 'Health', 'S': 'Patient'}})\n",
    "df_.plot()\n",
    "df_.head()"
   ]
  },
  {
   "cell_type": "markdown",
   "metadata": {},
   "source": [
    "## b1"
   ]
  },
  {
   "cell_type": "code",
   "execution_count": 14,
   "metadata": {},
   "outputs": [
    {
     "data": {
      "text/plain": [
       "(-4.0, 0.0)"
      ]
     },
     "execution_count": 14,
     "metadata": {},
     "output_type": "execute_result"
    },
    {
     "data": {
      "image/png": "[encoded data removed]",
      "text/plain": [
       "<Figure size 500x500 with 1 Axes>"
      ]
     },
     "metadata": {},
     "output_type": "display_data"
    }
   ],
   "source": [
    "\n",
    "fig, ax = plt.subplots(figsize=(5, 5))\n",
    "sns.set_theme(style='ticks')\n",
    "sns.boxplot(data=df_, x=\"group\", y=\"b1\", palette=utils.Plot.palette_group)\n",
    "# sns.despine(offset=10, trim=True)\n",
    "# sns.set(ylim=(-5, 1))\n",
    "plt.ylim(-4, 0)\n"
   ]
  },
  {
   "cell_type": "code",
   "execution_count": 15,
   "metadata": {},
   "outputs": [],
   "source": [
    "fn = utils.Save.savepath(dataFolder, 'b1.pdf')\n",
    "fig.savefig(fn)"
   ]
  },
  {
   "cell_type": "code",
   "execution_count": 16,
   "metadata": {},
   "outputs": [
    {
     "data": {
      "text/html": [
       "<div>\n",
       "<style scoped>\n",
       "    .dataframe tbody tr th:only-of-type {\n",
       "        vertical-align: middle;\n",
       "    }\n",
       "\n",
       "    .dataframe tbody tr th {\n",
       "        vertical-align: top;\n",
       "    }\n",
       "\n",
       "    .dataframe thead th {\n",
       "        text-align: right;\n",
       "    }\n",
       "</style>\n",
       "<table border=\"1\" class=\"dataframe\">\n",
       "  <thead>\n",
       "    <tr style=\"text-align: right;\">\n",
       "      <th></th>\n",
       "      <th></th>\n",
       "      <th>T</th>\n",
       "      <th>dof</th>\n",
       "      <th>alternative</th>\n",
       "      <th>p-val</th>\n",
       "      <th>CI95%</th>\n",
       "      <th>cohen-d</th>\n",
       "      <th>BF10</th>\n",
       "      <th>power</th>\n",
       "    </tr>\n",
       "    <tr>\n",
       "      <th>group</th>\n",
       "      <th></th>\n",
       "      <th></th>\n",
       "      <th></th>\n",
       "      <th></th>\n",
       "      <th></th>\n",
       "      <th></th>\n",
       "      <th></th>\n",
       "      <th></th>\n",
       "      <th></th>\n",
       "    </tr>\n",
       "  </thead>\n",
       "  <tbody>\n",
       "    <tr>\n",
       "      <th>Health</th>\n",
       "      <th>T-test</th>\n",
       "      <td>-19.628858</td>\n",
       "      <td>24</td>\n",
       "      <td>two-sided</td>\n",
       "      <td>2.738630e-16</td>\n",
       "      <td>[-2.99, -2.42]</td>\n",
       "      <td>3.925772</td>\n",
       "      <td>1.856e+13</td>\n",
       "      <td>1.0</td>\n",
       "    </tr>\n",
       "    <tr>\n",
       "      <th>Patient</th>\n",
       "      <th>T-test</th>\n",
       "      <td>-23.422743</td>\n",
       "      <td>24</td>\n",
       "      <td>two-sided</td>\n",
       "      <td>4.830295e-18</td>\n",
       "      <td>[-3.06, -2.56]</td>\n",
       "      <td>4.684549</td>\n",
       "      <td>8.744e+14</td>\n",
       "      <td>1.0</td>\n",
       "    </tr>\n",
       "  </tbody>\n",
       "</table>\n",
       "</div>"
      ],
      "text/plain": [
       "                        T  dof alternative         p-val           CI95%  \\\n",
       "group                                                                      \n",
       "Health  T-test -19.628858   24   two-sided  2.738630e-16  [-2.99, -2.42]   \n",
       "Patient T-test -23.422743   24   two-sided  4.830295e-18  [-3.06, -2.56]   \n",
       "\n",
       "                 cohen-d       BF10  power  \n",
       "group                                       \n",
       "Health  T-test  3.925772  1.856e+13    1.0  \n",
       "Patient T-test  4.684549  8.744e+14    1.0  "
      ]
     },
     "execution_count": 16,
     "metadata": {},
     "output_type": "execute_result"
    }
   ],
   "source": [
    "from pingouin import ttest\n",
    "df_.groupby(['group']).apply(lambda x: ttest(x['b1'].values, 0))"
   ]
  },
  {
   "cell_type": "code",
   "execution_count": 17,
   "metadata": {},
   "outputs": [
    {
     "data": {
      "text/html": [
       "<div>\n",
       "<style scoped>\n",
       "    .dataframe tbody tr th:only-of-type {\n",
       "        vertical-align: middle;\n",
       "    }\n",
       "\n",
       "    .dataframe tbody tr th {\n",
       "        vertical-align: top;\n",
       "    }\n",
       "\n",
       "    .dataframe thead th {\n",
       "        text-align: right;\n",
       "    }\n",
       "</style>\n",
       "<table border=\"1\" class=\"dataframe\">\n",
       "  <thead>\n",
       "    <tr style=\"text-align: right;\">\n",
       "      <th></th>\n",
       "      <th>T</th>\n",
       "      <th>dof</th>\n",
       "      <th>alternative</th>\n",
       "      <th>p-val</th>\n",
       "      <th>CI95%</th>\n",
       "      <th>cohen-d</th>\n",
       "      <th>BF10</th>\n",
       "      <th>power</th>\n",
       "    </tr>\n",
       "  </thead>\n",
       "  <tbody>\n",
       "    <tr>\n",
       "      <th>T-test</th>\n",
       "      <td>0.609086</td>\n",
       "      <td>48</td>\n",
       "      <td>two-sided</td>\n",
       "      <td>0.54534</td>\n",
       "      <td>[-0.26, 0.48]</td>\n",
       "      <td>0.172275</td>\n",
       "      <td>0.329</td>\n",
       "      <td>0.091724</td>\n",
       "    </tr>\n",
       "  </tbody>\n",
       "</table>\n",
       "</div>"
      ],
      "text/plain": [
       "               T  dof alternative    p-val          CI95%   cohen-d   BF10  \\\n",
       "T-test  0.609086   48   two-sided  0.54534  [-0.26, 0.48]  0.172275  0.329   \n",
       "\n",
       "           power  \n",
       "T-test  0.091724  "
      ]
     },
     "execution_count": 17,
     "metadata": {},
     "output_type": "execute_result"
    }
   ],
   "source": [
    "# ttest between groups\n",
    "g1 = df_[df_['group'] == 'Health']['b1'].values\n",
    "g2 = df_[df_['group'] == 'Patient']['b1'].values\n",
    "ttest(g1, g2)"
   ]
  },
  {
   "attachments": {},
   "cell_type": "markdown",
   "metadata": {},
   "source": [
    "## b2"
   ]
  },
  {
   "cell_type": "code",
   "execution_count": 18,
   "metadata": {},
   "outputs": [
    {
     "data": {
      "text/plain": [
       "<AxesSubplot: xlabel='group', ylabel='b2'>"
      ]
     },
     "execution_count": 18,
     "metadata": {},
     "output_type": "execute_result"
    },
    {
     "data": {
      "image/png": "[encoded data removed]",
      "text/plain": [
       "<Figure size 500x500 with 1 Axes>"
      ]
     },
     "metadata": {},
     "output_type": "display_data"
    }
   ],
   "source": [
    "fig, ax = plt.subplots(figsize=(5, 5))\n",
    "sns.set_theme(style='ticks')\n",
    "sns.boxplot(data=df_, x=\"group\", y=\"b2\", palette=utils.Plot.palette_group)"
   ]
  },
  {
   "cell_type": "code",
   "execution_count": 19,
   "metadata": {},
   "outputs": [],
   "source": [
    "fn = utils.Save.savepath(dataFolder, 'b2.pdf')\n",
    "fig.savefig(fn)"
   ]
  },
  {
   "cell_type": "code",
   "execution_count": 20,
   "metadata": {},
   "outputs": [
    {
     "data": {
      "text/html": [
       "<div>\n",
       "<style scoped>\n",
       "    .dataframe tbody tr th:only-of-type {\n",
       "        vertical-align: middle;\n",
       "    }\n",
       "\n",
       "    .dataframe tbody tr th {\n",
       "        vertical-align: top;\n",
       "    }\n",
       "\n",
       "    .dataframe thead th {\n",
       "        text-align: right;\n",
       "    }\n",
       "</style>\n",
       "<table border=\"1\" class=\"dataframe\">\n",
       "  <thead>\n",
       "    <tr style=\"text-align: right;\">\n",
       "      <th></th>\n",
       "      <th></th>\n",
       "      <th>T</th>\n",
       "      <th>dof</th>\n",
       "      <th>alternative</th>\n",
       "      <th>p-val</th>\n",
       "      <th>CI95%</th>\n",
       "      <th>cohen-d</th>\n",
       "      <th>BF10</th>\n",
       "      <th>power</th>\n",
       "    </tr>\n",
       "    <tr>\n",
       "      <th>group</th>\n",
       "      <th></th>\n",
       "      <th></th>\n",
       "      <th></th>\n",
       "      <th></th>\n",
       "      <th></th>\n",
       "      <th></th>\n",
       "      <th></th>\n",
       "      <th></th>\n",
       "      <th></th>\n",
       "    </tr>\n",
       "  </thead>\n",
       "  <tbody>\n",
       "    <tr>\n",
       "      <th>Health</th>\n",
       "      <th>T-test</th>\n",
       "      <td>-11.790510</td>\n",
       "      <td>24</td>\n",
       "      <td>two-sided</td>\n",
       "      <td>1.798133e-11</td>\n",
       "      <td>[-0.55, -0.39]</td>\n",
       "      <td>2.358102</td>\n",
       "      <td>4.924e+08</td>\n",
       "      <td>1.0</td>\n",
       "    </tr>\n",
       "    <tr>\n",
       "      <th>Patient</th>\n",
       "      <th>T-test</th>\n",
       "      <td>-17.424023</td>\n",
       "      <td>24</td>\n",
       "      <td>two-sided</td>\n",
       "      <td>3.990107e-15</td>\n",
       "      <td>[-0.56, -0.44]</td>\n",
       "      <td>3.484805</td>\n",
       "      <td>1.446e+12</td>\n",
       "      <td>1.0</td>\n",
       "    </tr>\n",
       "  </tbody>\n",
       "</table>\n",
       "</div>"
      ],
      "text/plain": [
       "                        T  dof alternative         p-val           CI95%  \\\n",
       "group                                                                      \n",
       "Health  T-test -11.790510   24   two-sided  1.798133e-11  [-0.55, -0.39]   \n",
       "Patient T-test -17.424023   24   two-sided  3.990107e-15  [-0.56, -0.44]   \n",
       "\n",
       "                 cohen-d       BF10  power  \n",
       "group                                       \n",
       "Health  T-test  2.358102  4.924e+08    1.0  \n",
       "Patient T-test  3.484805  1.446e+12    1.0  "
      ]
     },
     "execution_count": 20,
     "metadata": {},
     "output_type": "execute_result"
    }
   ],
   "source": [
    "from pingouin import ttest\n",
    "df_.groupby(['group']).apply(lambda x: ttest(x['b2'].values, 0))"
   ]
  },
  {
   "cell_type": "code",
   "execution_count": 21,
   "metadata": {},
   "outputs": [
    {
     "data": {
      "text/html": [
       "<div>\n",
       "<style scoped>\n",
       "    .dataframe tbody tr th:only-of-type {\n",
       "        vertical-align: middle;\n",
       "    }\n",
       "\n",
       "    .dataframe tbody tr th {\n",
       "        vertical-align: top;\n",
       "    }\n",
       "\n",
       "    .dataframe thead th {\n",
       "        text-align: right;\n",
       "    }\n",
       "</style>\n",
       "<table border=\"1\" class=\"dataframe\">\n",
       "  <thead>\n",
       "    <tr style=\"text-align: right;\">\n",
       "      <th></th>\n",
       "      <th>T</th>\n",
       "      <th>dof</th>\n",
       "      <th>alternative</th>\n",
       "      <th>p-val</th>\n",
       "      <th>CI95%</th>\n",
       "      <th>cohen-d</th>\n",
       "      <th>BF10</th>\n",
       "      <th>power</th>\n",
       "    </tr>\n",
       "  </thead>\n",
       "  <tbody>\n",
       "    <tr>\n",
       "      <th>T-test</th>\n",
       "      <td>0.624652</td>\n",
       "      <td>48</td>\n",
       "      <td>two-sided</td>\n",
       "      <td>0.535158</td>\n",
       "      <td>[-0.07, 0.13]</td>\n",
       "      <td>0.176678</td>\n",
       "      <td>0.332</td>\n",
       "      <td>0.093926</td>\n",
       "    </tr>\n",
       "  </tbody>\n",
       "</table>\n",
       "</div>"
      ],
      "text/plain": [
       "               T  dof alternative     p-val          CI95%   cohen-d   BF10  \\\n",
       "T-test  0.624652   48   two-sided  0.535158  [-0.07, 0.13]  0.176678  0.332   \n",
       "\n",
       "           power  \n",
       "T-test  0.093926  "
      ]
     },
     "execution_count": 21,
     "metadata": {},
     "output_type": "execute_result"
    }
   ],
   "source": [
    "# ttest between groups\n",
    "g1 = df_[df_['group'] == 'Health']['b2'].values\n",
    "g2 = df_[df_['group'] == 'Patient']['b2'].values\n",
    "ttest(g1, g2)"
   ]
  }
 ],
 "metadata": {
  "kernelspec": {
   "display_name": "py310",
   "language": "python",
   "name": "python3"
  },
  "language_info": {
   "codemirror_mode": {
    "name": "ipython",
    "version": 3
   },
   "file_extension": ".py",
   "mimetype": "text/x-python",
   "name": "python",
   "nbconvert_exporter": "python",
   "pygments_lexer": "ipython3",
   "version": "3.10.9"
  },
  "orig_nbformat": 4,
  "vscode": {
   "interpreter": {
    "hash": "0bfe45cfa5af8caecc1324233dd1bb80b7f37bc486d77a1e494b9aae421ca5f7"
   }
  }
 },
 "nbformat": 4,
 "nbformat_minor": 2
}

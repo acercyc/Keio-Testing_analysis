{
 "cells": [
  {
   "cell_type": "code",
   "execution_count": 4,
   "metadata": {},
   "outputs": [],
   "source": [
    "import numpy as np\n",
    "import pandas as pd\n",
    "import statsmodels.api as sm\n",
    "import scipy.stats\n",
    "\n",
    "import utils\n",
    "import seaborn as sns \n",
    "import plotnine as pn\n",
    "from sklearn.preprocessing import StandardScaler, scale\n"
   ]
  },
  {
   "cell_type": "code",
   "execution_count": 5,
   "metadata": {},
   "outputs": [
    {
     "data": {
      "text/plain": [
       "<module 'utils' from '/home/acercyc/Project/Keio Testing_analysis/src/utils.py'>"
      ]
     },
     "execution_count": 5,
     "metadata": {},
     "output_type": "execute_result"
    }
   ],
   "source": [
    "import importlib\n",
    "importlib.reload(utils)\n"
   ]
  },
  {
   "attachments": {},
   "cell_type": "markdown",
   "metadata": {},
   "source": [
    "# Measuring dimensionality "
   ]
  },
  {
   "cell_type": "code",
   "execution_count": 3,
   "metadata": {},
   "outputs": [
    {
     "name": "stdout",
     "output_type": "stream",
     "text": [
      "Group loop |████████████████████████████████████████| 50/50 [100%] in 9.2s (5.40/s)                                     \n"
     ]
    }
   ],
   "source": [
    "subjs = utils.ExpInfo.getSubjIDs()\n",
    "task = utils.ExpInfo.taskName[0]\n",
    "\n",
    "# compute dimensionality \n",
    "def add_dim(subj, task):\n",
    "    df = utils.LoadData.behaviorData(subj, task)\n",
    "    x, h, y = utils.LoadData.xhy(subj, task)\n",
    "    dims = []\n",
    "    for h_ in h:\n",
    "        h_ = scale(h_, axis=0)\n",
    "        dims.append(utils.Analysis.dim_measure(h_))\n",
    "    df_ = df\n",
    "    df_['dim'] = dims\n",
    "    return df_\n",
    "    \n",
    "df_all = utils.GroupOperation.map(add_dim, subjs, task)\n",
    "df_all = pd.concat(df_all, axis=0)\n"
   ]
  },
  {
   "cell_type": "code",
   "execution_count": 6,
   "metadata": {},
   "outputs": [],
   "source": [
    "filename = utils.Save.savepath('ana_action_plan_dimentionality_redraw', 'one_dot_dim.csv')\n",
    "df_all.to_csv(filename, index=False)"
   ]
  },
  {
   "cell_type": "code",
   "execution_count": 6,
   "metadata": {},
   "outputs": [
    {
     "name": "stdout",
     "output_type": "stream",
     "text": [
      "Group loop |████████████████████████████████████████| 50/50 [100%] in 10.6s (4.64/s)                                    \n"
     ]
    }
   ],
   "source": [
    "subjs = utils.ExpInfo.getSubjIDs()\n",
    "task = utils.ExpInfo.taskName[1]\n",
    "\n",
    "# compute dimensionality \n",
    "def add_dim(subj, task):\n",
    "    df = utils.LoadData.behaviorData(subj, task)\n",
    "    x, h, y = utils.LoadData.xhy(subj, task)\n",
    "    dims = []\n",
    "    for h_ in h:\n",
    "        h_ = scale(h_, axis=0)\n",
    "        dims.append(utils.Analysis.dim_measure(h_))\n",
    "    df_ = df\n",
    "    df_['dim'] = dims\n",
    "    return df_\n",
    "    \n",
    "df_all = utils.GroupOperation.map(add_dim, subjs, task)\n",
    "df_all = pd.concat(df_all, axis=0)\n"
   ]
  },
  {
   "cell_type": "code",
   "execution_count": null,
   "metadata": {},
   "outputs": [],
   "source": [
    "filename = utils.Save.savepath('ana_action_plan_dimentionality_redraw', 'three_dot_dim.csv')\n",
    "df_all.to_csv(filename, index=False)"
   ]
  }
 ],
 "metadata": {
  "kernelspec": {
   "display_name": "py310",
   "language": "python",
   "name": "python3"
  },
  "language_info": {
   "codemirror_mode": {
    "name": "ipython",
    "version": 3
   },
   "file_extension": ".py",
   "mimetype": "text/x-python",
   "name": "python",
   "nbconvert_exporter": "python",
   "pygments_lexer": "ipython3",
   "version": "3.10.9"
  },
  "orig_nbformat": 4,
  "vscode": {
   "interpreter": {
    "hash": "0bfe45cfa5af8caecc1324233dd1bb80b7f37bc486d77a1e494b9aae421ca5f7"
   }
  }
 },
 "nbformat": 4,
 "nbformat_minor": 2
}

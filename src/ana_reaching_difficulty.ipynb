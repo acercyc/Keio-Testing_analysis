{
 "cells": [
  {
   "cell_type": "code",
   "execution_count": 1,
   "metadata": {},
   "outputs": [],
   "source": [
    "import numpy as np\n",
    "import pandas as pd\n",
    "\n",
    "import utils\n",
    "from sklearn.metrics.pairwise import paired_distances\n",
    "from sklearn.metrics import pairwise_distances\n",
    "from sklearn.linear_model import LogisticRegression\n",
    "from sklearn.preprocessing import StandardScaler\n",
    "from scipy.stats import pearsonr\n",
    "\n",
    "import matplotlib.pyplot as plt\n",
    "import seaborn as sns \n",
    "\n",
    "import torch\n",
    "from alive_progress import alive_bar, alive_it\n",
    "\n",
    "\n"
   ]
  },
  {
   "cell_type": "code",
   "execution_count": 16,
   "metadata": {},
   "outputs": [
    {
     "data": {
      "text/plain": [
       "<module 'utils' from '/home/acercyc/projects/Keio Testing_analysis/src/utils.py'>"
      ]
     },
     "execution_count": 16,
     "metadata": {},
     "output_type": "execute_result"
    }
   ],
   "source": [
    "import importlib\n",
    "importlib.reload(utils)\n"
   ]
  },
  {
   "cell_type": "code",
   "execution_count": 2,
   "metadata": {},
   "outputs": [],
   "source": [
    "subjs = utils.ExpInfo.getSubjIDs()\n",
    "task = utils.ExpInfo.taskName[2]\n"
   ]
  },
  {
   "cell_type": "markdown",
   "metadata": {},
   "source": [
    "# Identify the subject with the best performance in no-noise trial"
   ]
  },
  {
   "cell_type": "code",
   "execution_count": 3,
   "metadata": {},
   "outputs": [],
   "source": [
    "task = utils.ExpInfo.taskName[2]\n",
    "df_beh_all = [utils.LoadData.behaviorData(x, task) for x in subjs]\n",
    "df_beh_all = pd.concat(df_beh_all)"
   ]
  },
  {
   "cell_type": "code",
   "execution_count": 22,
   "metadata": {},
   "outputs": [
    {
     "data": {
      "text/plain": [
       "'K-Reg-H-10'"
      ]
     },
     "execution_count": 22,
     "metadata": {},
     "output_type": "execute_result"
    }
   ],
   "source": [
    "df_ = df_beh_all.query('`actual control`==1')\n",
    "df_ = df_[['participant', 'number of reaching', 'group']]\n",
    "df_ = df_.groupby(['participant', 'group']).mean().reset_index()\n",
    "df_noNoise = df_.sort_values(by='number of reaching', ascending=False)\n",
    "topSubj = df_noNoise['participant'][0]\n",
    "topSubj"
   ]
  },
  {
   "cell_type": "markdown",
   "metadata": {},
   "source": [
    "## Extract motion data from the best subject"
   ]
  },
  {
   "cell_type": "code",
   "execution_count": 5,
   "metadata": {},
   "outputs": [],
   "source": [
    "df_beh = utils.LoadData.behaviorData(topSubj, task)\n",
    "trials_noNoise = np.where(df_beh['actual control'] == 1)[0]\n",
    "\n",
    "wSize = 60\n",
    "x, x_disp = utils.LoadData.mouseMovement_array(topSubj, task)\n",
    "x_top = [utils.DataProcessing.rollingWindow(x[iTrial], wSize) for iTrial in trials_noNoise]"
   ]
  },
  {
   "cell_type": "markdown",
   "metadata": {},
   "source": [
    "# Get hidden state by passing motion trajectories of the best subject to other subjects"
   ]
  },
  {
   "cell_type": "code",
   "execution_count": 6,
   "metadata": {},
   "outputs": [
    {
     "name": "stdout",
     "output_type": "stream",
     "text": [
      "Group loop |████████████████████████████████████████| 50/50 [100%] in 1:13.5 (0.68/s)                                   \n"
     ]
    }
   ],
   "source": [
    "# h: [subj][trial]\n",
    "h = []\n",
    "for subj in alive_it(subjs, force_tty=True, title='Group loop'):\n",
    "    h_, _ = utils.Model.quick_forward(subj, x_top)\n",
    "    h.append(h_)\n",
    "    "
   ]
  },
  {
   "cell_type": "markdown",
   "metadata": {},
   "source": [
    "## SD analysis"
   ]
  },
  {
   "cell_type": "code",
   "execution_count": 25,
   "metadata": {},
   "outputs": [],
   "source": [
    "nTrial = len(h[0])\n",
    "h_sd = []\n",
    "for iTrial in range(nTrial):\n",
    "    h_sd_trial = []\n",
    "    for iSubj in range(len(h)):\n",
    "        h_sd_trial.append(h[iSubj][iTrial].std())\n",
    "    h_sd.append(h_sd_trial)"
   ]
  },
  {
   "cell_type": "code",
   "execution_count": 45,
   "metadata": {},
   "outputs": [
    {
     "data": {
      "text/plain": [
       "(-0.3700264002354875, 0.008171306775965018)"
      ]
     },
     "execution_count": 45,
     "metadata": {},
     "output_type": "execute_result"
    }
   ],
   "source": [
    "h_sd_mean = np.array(h_sd).mean(axis=0)\n",
    "nReach = df_noNoise.sort_index()['number of reaching'].values\n",
    "from scipy.stats import pearsonr\n",
    "pearsonr(nReach, h_sd_mean)\n"
   ]
  },
  {
   "cell_type": "code",
   "execution_count": 38,
   "metadata": {},
   "outputs": [
    {
     "data": {
      "text/plain": [
       "<AxesSubplot:xlabel='SD of hidden state position', ylabel='number of reaching'>"
      ]
     },
     "execution_count": 38,
     "metadata": {},
     "output_type": "execute_result"
    },
    {
     "data": {
      "image/png": "[encoded data removed]",
      "text/plain": [
       "<Figure size 720x720 with 1 Axes>"
      ]
     },
     "metadata": {
      "needs_background": "light"
     },
     "output_type": "display_data"
    }
   ],
   "source": [
    "fig, ax = plt.subplots(1, 1, figsize=(10,10))\n",
    "df_ = pd.DataFrame({'number of reaching': nReach, 'SD of hidden state position': h_sd_mean})\n",
    "sns.regplot(y='number of reaching', x='SD of hidden state position', data=df_)\n",
    "# ax.plot(h_sd_mean, nReach, 'o')"
   ]
  },
  {
   "cell_type": "markdown",
   "metadata": {},
   "source": [
    "# Traveling distance"
   ]
  },
  {
   "cell_type": "code",
   "execution_count": 43,
   "metadata": {},
   "outputs": [],
   "source": [
    "nTrial = len(h[0])\n",
    "h_trav_dist = []\n",
    "for iTrial in range(nTrial):\n",
    "    d = []\n",
    "    for iSubj in range(len(h)):\n",
    "        d.append(utils.DataProcessing.diff(h[iSubj][iTrial]).mean())\n",
    "    h_trav_dist.append(d)"
   ]
  },
  {
   "cell_type": "code",
   "execution_count": 44,
   "metadata": {},
   "outputs": [
    {
     "data": {
      "text/plain": [
       "(-0.2670940297664209, 0.06077965934748523)"
      ]
     },
     "execution_count": 44,
     "metadata": {},
     "output_type": "execute_result"
    }
   ],
   "source": [
    "h_trav_dist = np.array(h_trav_dist).mean(axis=0)\n",
    "nReach = df_noNoise.sort_index()['number of reaching'].values\n",
    "from scipy.stats import pearsonr\n",
    "pearsonr(nReach, h_trav_dist)\n"
   ]
  },
  {
   "cell_type": "markdown",
   "metadata": {},
   "source": [
    "# Pairwise_distances"
   ]
  },
  {
   "cell_type": "code",
   "execution_count": 16,
   "metadata": {},
   "outputs": [],
   "source": [
    "nTrial = len(h[0])\n",
    "h_dist = []\n",
    "for iTrial in range(nTrial):\n",
    "    d = []\n",
    "    for iSubj in range(len(h)):\n",
    "        d_ = h[iSubj][iTrial]\n",
    "        d.append(pairwise_distances(d_, metric='euclidean').std())\n",
    "    h_dist.append(d)"
   ]
  },
  {
   "cell_type": "code",
   "execution_count": 17,
   "metadata": {},
   "outputs": [
    {
     "data": {
      "text/plain": [
       "(-0.37356639439344774, 0.007535468576842232)"
      ]
     },
     "execution_count": 17,
     "metadata": {},
     "output_type": "execute_result"
    }
   ],
   "source": [
    "# corr\n",
    "h_dist_ = np.array(h_dist).mean(axis=0)\n",
    "nReach = df_noNoise.sort_index()['number of reaching'].values\n",
    "pearsonr(nReach, h_dist_)"
   ]
  },
  {
   "cell_type": "code",
   "execution_count": 36,
   "metadata": {},
   "outputs": [
    {
     "name": "stdout",
     "output_type": "stream",
     "text": [
      "(0.15279423747607357, 0.4659056307012554)\n",
      "(-0.24640139939721875, 0.2350902632998933)\n"
     ]
    }
   ],
   "source": [
    "# corr by group\n",
    "df_noNoise_ = df_noNoise.sort_index()\n",
    "ig = df_noNoise_['group'] == 'H'\n",
    "nReach = df_noNoise_[ig]['number of reaching'].values\n",
    "print(pearsonr(nReach, h_dist_[ig]))\n",
    "ig = df_noNoise_['group'] == 'S'\n",
    "nReach = df_noNoise_[ig]['number of reaching'].values\n",
    "print(pearsonr(nReach, h_dist_[ig]))\n",
    "\n",
    "# df_noNoise.query('group==\"H\"').sort_index()['number of reaching'].values"
   ]
  },
  {
   "cell_type": "code",
   "execution_count": 63,
   "metadata": {},
   "outputs": [
    {
     "data": {
      "text/plain": [
       "<AxesSubplot:xlabel='SD of paired_distances', ylabel='number of reaching'>"
      ]
     },
     "execution_count": 63,
     "metadata": {},
     "output_type": "execute_result"
    },
    {
     "data": {
      "image/png": "[encoded data removed]",
      "text/plain": [
       "<Figure size 720x720 with 1 Axes>"
      ]
     },
     "metadata": {
      "needs_background": "light"
     },
     "output_type": "display_data"
    }
   ],
   "source": [
    "fig, ax = plt.subplots(1, 1, figsize=(10,10))\n",
    "# df_ = pd.DataFrame({'number of reaching': nReach, 'SD of paired_distances': h_dist_})]\n",
    "df_ = df_noNoise_.copy()\n",
    "df_['SD of paired_distances'] = h_dist_\n",
    "sns.regplot(y='number of reaching', x='SD of paired_distances', data=df_, scatter_kws={'s':2}, color='k')\n",
    "# sns.pairplot(data=df_, hue='group', kind='reg')\n",
    "sns.scatterplot(y='number of reaching', x='SD of paired_distances', data=df_, hue='group')\n",
    "\n",
    "\n",
    "# ax.plot(h_sd_mean, nReach, 'o')"
   ]
  },
  {
   "cell_type": "code",
   "execution_count": 67,
   "metadata": {},
   "outputs": [
    {
     "data": {
      "text/plain": [
       "(-3.334893422733496, 0.0008259155496934166, 48.0)"
      ]
     },
     "execution_count": 67,
     "metadata": {},
     "output_type": "execute_result"
    }
   ],
   "source": [
    "# t-test on SD\n",
    "from statsmodels.stats.weightstats import ttest_ind\n",
    "df_noNoise_ = df_noNoise.sort_index()\n",
    "d1 = h_dist_[df_noNoise_['group'] == 'H']\n",
    "d2 = h_dist_[df_noNoise_['group'] == 'S']\n",
    "ttest_ind(d1, d2, alternative='smaller')"
   ]
  }
 ],
 "metadata": {
  "kernelspec": {
   "display_name": "Python 3.8.13 ('py38')",
   "language": "python",
   "name": "python3"
  },
  "language_info": {
   "codemirror_mode": {
    "name": "ipython",
    "version": 3
   },
   "file_extension": ".py",
   "mimetype": "text/x-python",
   "name": "python",
   "nbconvert_exporter": "python",
   "pygments_lexer": "ipython3",
   "version": "3.8.13"
  },
  "orig_nbformat": 4,
  "vscode": {
   "interpreter": {
    "hash": "c38880c0b251f16d71f4d18036765822673f8ed835e0120528c8cebbbd5836f8"
   }
  }
 },
 "nbformat": 4,
 "nbformat_minor": 2
}

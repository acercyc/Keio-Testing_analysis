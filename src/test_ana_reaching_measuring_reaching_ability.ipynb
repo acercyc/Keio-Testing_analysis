{
 "cells": [
  {
   "cell_type": "code",
   "execution_count": null,
   "metadata": {},
   "outputs": [],
   "source": [
    "import numpy as np\n",
    "import pandas as pd\n",
    "import matplotlib.pyplot as plt\n",
    "\n",
    "import utils\n",
    "\n",
    "from einops import rearrange, reduce, repeat\n",
    "from sklearn.metrics import mean_squared_error"
   ]
  },
  {
   "cell_type": "code",
   "execution_count": null,
   "metadata": {},
   "outputs": [],
   "source": [
    "import importlib\n",
    "importlib.reload(utils)\n"
   ]
  },
  {
   "cell_type": "code",
   "execution_count": 13,
   "metadata": {},
   "outputs": [],
   "source": [
    "nTrial = 20\n",
    "wSize = 60\n",
    "nReachs = range(1, 20, 1)\n",
    "\n",
    "# xy_nReach: [nReach][nTrial]\n",
    "xy_nReach = []\n",
    "for nReach in nReachs:\n",
    "    xy, _ = utils.SynthData.genReachingSeq_trial(nTrial, nReach=nReach)\n",
    "    xy = [utils.DataProcessing.rollingWindow(xy_, wSize) for xy_ in xy]\n",
    "    xy_nReach.append(xy)\n"
   ]
  },
  {
   "cell_type": "code",
   "execution_count": 8,
   "metadata": {},
   "outputs": [],
   "source": [
    "subjs = utils.ExpInfo.getSubjIDs()\n",
    "task = utils.ExpInfo.taskName[2]\n"
   ]
  },
  {
   "cell_type": "code",
   "execution_count": 21,
   "metadata": {},
   "outputs": [
    {
     "name": "stdout",
     "output_type": "stream",
     "text": [
      "Group loop |████████████████████████████████████████| 50/50 [100%] in 21:51.3 (0.04/s)                                  \n"
     ]
    }
   ],
   "source": [
    "def reconstruct_mse(subj, X):\n",
    "    H, Y = utils.Model.quick_forward(subj, X)\n",
    "    mse = []\n",
    "    for iTrial in range(nTrial):\n",
    "        x = X[iTrial]\n",
    "        y = Y[iTrial]\n",
    "        x = rearrange(x, 'b t f -> (b t) f')\n",
    "        y = rearrange(y, 'b t f -> (b t) f')\n",
    "        mse.append(mean_squared_error(x, y))\n",
    "    return np.mean(mse)\n",
    "\n",
    "def reconstruct_mse_subj(subj):\n",
    "    mse = []\n",
    "    for iReach in range(len(nReachs)):\n",
    "        mse_ = reconstruct_mse(subjs[0], xy_nReach[iReach])\n",
    "        mse.append(mse_)        \n",
    "    return mse\n",
    "\n",
    "mse = utils.GroupOperation.map(reconstruct_mse_subj, subjs)"
   ]
  },
  {
   "cell_type": "code",
   "execution_count": 23,
   "metadata": {},
   "outputs": [],
   "source": [
    "import pickle\n",
    "savepath = utils.path_data / 'ana_reaching_measuring_reaching_ability'\n",
    "fname = savepath / 'mse.pickle'\n",
    "with open(fname, \"wb\") as f:\n",
    "    pickle.dump(mse, f)\n",
    "\n"
   ]
  },
  {
   "cell_type": "code",
   "execution_count": null,
   "metadata": {},
   "outputs": [],
   "source": []
  }
 ],
 "metadata": {
  "kernelspec": {
   "display_name": "Python 3.8.13 ('py38')",
   "language": "python",
   "name": "python3"
  },
  "language_info": {
   "codemirror_mode": {
    "name": "ipython",
    "version": 3
   },
   "file_extension": ".py",
   "mimetype": "text/x-python",
   "name": "python",
   "nbconvert_exporter": "python",
   "pygments_lexer": "ipython3",
   "version": "3.8.13"
  },
  "orig_nbformat": 4,
  "vscode": {
   "interpreter": {
    "hash": "c38880c0b251f16d71f4d18036765822673f8ed835e0120528c8cebbbd5836f8"
   }
  }
 },
 "nbformat": 4,
 "nbformat_minor": 2
}

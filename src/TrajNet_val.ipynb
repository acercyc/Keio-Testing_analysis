{
 "cells": [
  {
   "cell_type": "markdown",
   "metadata": {},
   "source": [
    "This notebook is used to evaluat TrajNet training results "
   ]
  },
  {
   "cell_type": "code",
   "execution_count": null,
   "metadata": {},
   "outputs": [],
   "source": [
    "import numpy as np\n",
    "import pandas as pd\n",
    "import matplotlib.pyplot as plt\n",
    "import matplotlib as mpl\n",
    "import pytorch_lightning as pl\n",
    "import TrajNet_train\n",
    "import utils\n",
    "import torch"
   ]
  },
  {
   "cell_type": "code",
   "execution_count": null,
   "metadata": {},
   "outputs": [],
   "source": [
    "# subj = utils.ExpInfo.getSubjIDs()[25]\n",
    "subj = 'K-Reg-S-19'\n",
    "task = 'one_dot'\n",
    "trialno = 12\n",
    "fig, ax = utils.Plot.traj_and_Reconstruc_quick_check(subj, task, 12, model_type='val')"
   ]
  },
  {
   "cell_type": "markdown",
   "metadata": {},
   "source": [
    "# plot training and valiation trials "
   ]
  },
  {
   "cell_type": "code",
   "execution_count": null,
   "metadata": {},
   "outputs": [],
   "source": [
    "subj = 'Reg-S-1'\n",
    "task = 'one_dot'\n",
    "model_type = 'val'\n",
    "trialnos = np.arange(1, 10)\n",
    "df = utils.LoadData.mouseMovement(subj, task)\n",
    "trial_train, trial_val =  utils.DataProcessing.split_train_val_trials(df)\n",
    "model = TrajNet_train.PL_model()\n",
    "path_cp = utils.path_data / 'TrajNet_train' / f'{subj}_one_dot_{model_type}.ckpt'\n",
    "model = model.load_from_checkpoint(path_cp).double()\n",
    "\n",
    "for trialno in trial_val:\n",
    "    fig, ax = utils.Plot.traj_and_Reconstruc_from_trial(df, trialno, model)\n",
    "    fig.suptitle('val')\n",
    "\n",
    "for trialno in list(trial_train)[0:10]:\n",
    "    fig, ax = utils.Plot.traj_and_Reconstruc_from_trial(df, trialno, model)\n",
    "    fig.suptitle('train')"
   ]
  },
  {
   "cell_type": "code",
   "execution_count": null,
   "metadata": {},
   "outputs": [],
   "source": []
  }
 ],
 "metadata": {
  "kernelspec": {
   "display_name": "Python 3.8.13 ('py38')",
   "language": "python",
   "name": "python3"
  },
  "language_info": {
   "codemirror_mode": {
    "name": "ipython",
    "version": 3
   },
   "file_extension": ".py",
   "mimetype": "text/x-python",
   "name": "python",
   "nbconvert_exporter": "python",
   "pygments_lexer": "ipython3",
   "version": "3.8.13"
  },
  "orig_nbformat": 4,
  "vscode": {
   "interpreter": {
    "hash": "c38880c0b251f16d71f4d18036765822673f8ed835e0120528c8cebbbd5836f8"
   }
  }
 },
 "nbformat": 4,
 "nbformat_minor": 2
}

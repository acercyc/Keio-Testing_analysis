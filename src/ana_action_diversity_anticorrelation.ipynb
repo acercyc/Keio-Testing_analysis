{
 "cells": [
  {
   "cell_type": "code",
   "execution_count": 1,
   "metadata": {},
   "outputs": [],
   "source": [
    "import numpy as np\n",
    "import pandas as pd\n",
    "import scipy.stats\n",
    "\n",
    "import utils\n",
    "import seaborn as sns \n",
    "import seaborn.objects as so\n",
    "from sklearn.preprocessing import StandardScaler, scale\n",
    "import matplotlib.pyplot as plt\n",
    "from matplotlib import style \n",
    "\n",
    "\n"
   ]
  },
  {
   "cell_type": "code",
   "execution_count": 24,
   "metadata": {},
   "outputs": [
    {
     "data": {
      "text/html": [
       "<div>\n",
       "<style scoped>\n",
       "    .dataframe tbody tr th:only-of-type {\n",
       "        vertical-align: middle;\n",
       "    }\n",
       "\n",
       "    .dataframe tbody tr th {\n",
       "        vertical-align: top;\n",
       "    }\n",
       "\n",
       "    .dataframe thead th {\n",
       "        text-align: right;\n",
       "    }\n",
       "</style>\n",
       "<table border=\"1\" class=\"dataframe\">\n",
       "  <thead>\n",
       "    <tr style=\"text-align: right;\">\n",
       "      <th></th>\n",
       "      <th>group</th>\n",
       "      <th>participant</th>\n",
       "      <th>accuracy</th>\n",
       "      <th>dim</th>\n",
       "    </tr>\n",
       "  </thead>\n",
       "  <tbody>\n",
       "    <tr>\n",
       "      <th>0</th>\n",
       "      <td>H</td>\n",
       "      <td>K-Reg-H-10</td>\n",
       "      <td>0.800000</td>\n",
       "      <td>0.621495</td>\n",
       "    </tr>\n",
       "    <tr>\n",
       "      <th>1</th>\n",
       "      <td>H</td>\n",
       "      <td>K-Reg-H-11</td>\n",
       "      <td>0.516667</td>\n",
       "      <td>0.662570</td>\n",
       "    </tr>\n",
       "    <tr>\n",
       "      <th>2</th>\n",
       "      <td>H</td>\n",
       "      <td>K-Reg-H-12</td>\n",
       "      <td>0.616667</td>\n",
       "      <td>0.677885</td>\n",
       "    </tr>\n",
       "    <tr>\n",
       "      <th>3</th>\n",
       "      <td>H</td>\n",
       "      <td>K-Reg-H-13</td>\n",
       "      <td>0.816667</td>\n",
       "      <td>0.729195</td>\n",
       "    </tr>\n",
       "    <tr>\n",
       "      <th>4</th>\n",
       "      <td>H</td>\n",
       "      <td>K-Reg-H-14</td>\n",
       "      <td>0.583333</td>\n",
       "      <td>0.772255</td>\n",
       "    </tr>\n",
       "  </tbody>\n",
       "</table>\n",
       "</div>"
      ],
      "text/plain": [
       "  group participant  accuracy       dim\n",
       "0     H  K-Reg-H-10  0.800000  0.621495\n",
       "1     H  K-Reg-H-11  0.516667  0.662570\n",
       "2     H  K-Reg-H-12  0.616667  0.677885\n",
       "3     H  K-Reg-H-13  0.816667  0.729195\n",
       "4     H  K-Reg-H-14  0.583333  0.772255"
      ]
     },
     "execution_count": 24,
     "metadata": {},
     "output_type": "execute_result"
    }
   ],
   "source": [
    "import importlib\n",
    "importlib.reload(utils)\n",
    "savepath = 'ana_action_plan_dimentionality_report_3d'\n",
    "filename = utils.Save.savepath('ana_action_plan_dimentionality', 'three_dot_dim.csv')\n",
    "df_all = pd.read_csv(filename)\n",
    "df_all_group = df_all.copy()\n",
    "df_all_group['dim'] = 1-df_all_group['dim']\n",
    "df_all_group['accuracy'] = df_all_group['accuracy']=='correct'\n",
    "df_all_group = df_all_group.drop(['trial no.', 'selected dot', 'target dot'], axis=1)\n",
    "df_all_group = df_all_group.groupby(['group', 'participant', 'actual control', 'angular bias'])\n",
    "df_all_group = df_all_group.mean().reset_index()\n",
    "\n",
    "df_all_group = df_all_group.drop(['actual control', 'angular bias'], axis=1)\n",
    "df_all_group = df_all_group.groupby(['group', 'participant'])\n",
    "df_all_group = df_all_group.mean().reset_index()\n",
    "df_all_group.head()\n",
    "\n",
    "# \tgroup\tparticipant\taccuracy\tdim\n",
    "# 0\tH\tK-Reg-H-10\t0.800000\t0.621495\n",
    "# 1\tH\tK-Reg-H-11\t0.516667\t0.662570\n",
    "# 2\tH\tK-Reg-H-12\t0.616667\t0.677885\n",
    "# 3\tH\tK-Reg-H-13\t0.816667\t0.729195\n",
    "# 4\tH\tK-Reg-H-14\t0.583333\t0.772255\n",
    "# ...\t...\t...\t...\t...\t...\t...\n"
   ]
  },
  {
   "cell_type": "code",
   "execution_count": 28,
   "metadata": {},
   "outputs": [
    {
     "data": {
      "text/html": [
       "<div>\n",
       "<style scoped>\n",
       "    .dataframe tbody tr th:only-of-type {\n",
       "        vertical-align: middle;\n",
       "    }\n",
       "\n",
       "    .dataframe tbody tr th {\n",
       "        vertical-align: top;\n",
       "    }\n",
       "\n",
       "    .dataframe thead th {\n",
       "        text-align: right;\n",
       "    }\n",
       "</style>\n",
       "<table border=\"1\" class=\"dataframe\">\n",
       "  <thead>\n",
       "    <tr style=\"text-align: right;\">\n",
       "      <th></th>\n",
       "      <th>group</th>\n",
       "      <th>corr</th>\n",
       "      <th>p</th>\n",
       "    </tr>\n",
       "  </thead>\n",
       "  <tbody>\n",
       "    <tr>\n",
       "      <th>0</th>\n",
       "      <td>H</td>\n",
       "      <td>-0.183063</td>\n",
       "      <td>0.381089</td>\n",
       "    </tr>\n",
       "    <tr>\n",
       "      <th>1</th>\n",
       "      <td>S</td>\n",
       "      <td>-0.045971</td>\n",
       "      <td>0.827271</td>\n",
       "    </tr>\n",
       "  </tbody>\n",
       "</table>\n",
       "</div>"
      ],
      "text/plain": [
       "  group      corr         p\n",
       "0     H -0.183063  0.381089\n",
       "1     S -0.045971  0.827271"
      ]
     },
     "execution_count": 28,
     "metadata": {},
     "output_type": "execute_result"
    }
   ],
   "source": [
    "# calculate correlation between accuracy and dim for each group\n",
    "corrs = []\n",
    "for group in df_all_group['group'].unique():\n",
    "    df_group = df_all_group[df_all_group['group']==group]\n",
    "    corr = scipy.stats.pearsonr(df_group['accuracy'], df_group['dim'])\n",
    "    corrs.append([group, corr[0], corr[1]])\n",
    "corrs = pd.DataFrame(corrs, columns=['group', 'corr', 'p'])\n",
    "corrs"
   ]
  },
  {
   "cell_type": "code",
   "execution_count": 27,
   "metadata": {},
   "outputs": [
    {
     "name": "stderr",
     "output_type": "stream",
     "text": [
      "/home/acercyc/anaconda3/envs/py310/lib/python3.10/site-packages/seaborn/_core/plot.py:1491: FutureWarning: use_inf_as_na option is deprecated and will be removed in a future version. Convert inf values to NaN before operating instead.\n",
      "  with pd.option_context(\"mode.use_inf_as_na\", True):\n",
      "/home/acercyc/anaconda3/envs/py310/lib/python3.10/site-packages/seaborn/_core/plot.py:1491: FutureWarning: use_inf_as_na option is deprecated and will be removed in a future version. Convert inf values to NaN before operating instead.\n",
      "  with pd.option_context(\"mode.use_inf_as_na\", True):\n",
      "/home/acercyc/anaconda3/envs/py310/lib/python3.10/site-packages/seaborn/_core/plot.py:1525: FutureWarning: When grouping with a length-1 list-like, you will need to pass a length-1 tuple to get_group in a future version of pandas. Pass `(name,)` instead of `name` to silence this warning.\n",
      "  df_subset = grouped_df.get_group(pd_key)\n",
      "/home/acercyc/anaconda3/envs/py310/lib/python3.10/site-packages/seaborn/_core/plot.py:1525: FutureWarning: When grouping with a length-1 list-like, you will need to pass a length-1 tuple to get_group in a future version of pandas. Pass `(name,)` instead of `name` to silence this warning.\n",
      "  df_subset = grouped_df.get_group(pd_key)\n"
     ]
    },
    {
     "data": {
      "image/png": "[encoded data removed]",
      "text/plain": [
       "<Figure size 640x480 with 1 Axes>"
      ]
     },
     "metadata": {},
     "output_type": "display_data"
    }
   ],
   "source": [
    "import seaborn.objects as so\n",
    "import matplotlib.pyplot as plt\n",
    "\n",
    "# Create a scatter plot with a regression line for each group\n",
    "p = (so.Plot(df_all_group, x=\"accuracy\", y=\"dim\", color=\"group\")\n",
    "     .add(so.Dot(), so.Jitter(.3))\n",
    "     .add(so.Line(), so.PolyFit(order=1))\n",
    "     .label(x=\"Accuracy\", y=\"Dimensionality\", color=\"Group\"))\n",
    "\n",
    "p.show()\n"
   ]
  }
 ],
 "metadata": {
  "kernelspec": {
   "display_name": "py310",
   "language": "python",
   "name": "python3"
  },
  "language_info": {
   "codemirror_mode": {
    "name": "ipython",
    "version": 3
   },
   "file_extension": ".py",
   "mimetype": "text/x-python",
   "name": "python",
   "nbconvert_exporter": "python",
   "pygments_lexer": "ipython3",
   "version": "3.10.14"
  }
 },
 "nbformat": 4,
 "nbformat_minor": 2
}
